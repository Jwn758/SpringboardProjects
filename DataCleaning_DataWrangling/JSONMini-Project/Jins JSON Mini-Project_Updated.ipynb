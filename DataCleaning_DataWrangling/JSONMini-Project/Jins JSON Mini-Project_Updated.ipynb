{
 "cells": [
  {
   "cell_type": "markdown",
   "metadata": {},
   "source": [
    "# JSON examples and exercise\n",
    "****\n",
    "Goals for this exercise:\n",
    "+ get familiar with packages for dealing with JSON\n",
    "+ study examples with JSON strings and files \n",
    "+ work on exercise to be completed and submitted \n",
    "****\n",
    "Other Additional Information:\n",
    "+ reference: http://pandas.pydata.org/pandas-docs/stable/io.html#io-json-reader\n",
    "+ data source: http://jsonstudio.com/resources/\n",
    "****"
   ]
  },
  {
   "cell_type": "code",
   "execution_count": 1,
   "metadata": {},
   "outputs": [],
   "source": [
    "#Importing relevant Modules\n",
    "import pandas as pd\n",
    "import numpy as np\n",
    "import json\n",
    "import os\n",
    "import matplotlib.pyplot as plt\n",
    "from pandas.io.json import json_normalize"
   ]
  },
  {
   "cell_type": "markdown",
   "metadata": {},
   "source": [
    "First, we will load the JSON File and convert it into a dataframe:"
   ]
  },
  {
   "cell_type": "code",
   "execution_count": 2,
   "metadata": {},
   "outputs": [
    {
     "name": "stdout",
     "output_type": "stream",
     "text": [
      "[{u'sector': [{u'Name': u'Primary education'}, {u'Name': u'Secondary education'}, {u'Name': u'Public administration- Other social services'}, {u'Name': u'Tertiary education'}], u'supplementprojectflg': u'N', u'projectfinancialtype': u'IDA', u'prodline': u'PE', u'mjtheme': [u'Human development'], u'idacommamt': 130000000, u'impagency': u'MINISTRY OF EDUCATION', u'country_namecode': u'Federal Democratic Republic of Ethiopia!$!ET', u'mjthemecode': u'8,11', u'closingdate': u'2018-07-07T00:00:00Z', u'totalcommamt': 130000000, u'id': u'P129828', u'mjsector_namecode': [{u'code': u'EX', u'name': u'Education'}, {u'code': u'EX', u'name': u'Education'}, {u'code': u'BX', u'name': u'Public Administration, Law, and Justice'}, {u'code': u'EX', u'name': u'Education'}], u'docty': u'Project Information Document,Indigenous Peoples Plan,Project Information Document', u'sector1': {u'Percent': 46, u'Name': u'Primary education'}, u'lendinginstr': u'Investment Project Financing', u'countrycode': u'ET', u'sector2': {u'Percent': 26, u'Name': u'Secondary education'}, u'totalamt': 130000000, u'mjtheme_namecode': [{u'code': u'8', u'name': u'Human development'}, {u'code': u'11', u'name': u''}], u'envassesmentcategorycode': u'C', u'boardapprovaldate': u'2013-11-12T00:00:00Z', u'countryshortname': u'Ethiopia', u'source': u'IBRD', u'prodlinetext': u'IBRD/IDA', u'productlinetype': u'L', u'regionname': u'Africa', u'status': u'Active', u'project_name': u'Ethiopia General Education Quality Improvement Project II', u'sector4': {u'Percent': 12, u'Name': u'Tertiary education'}, u'approvalfy': 1999, u'project_abstract': {u'cdata': u'The development objective of the Second Phase of General Education Quality Improvement Project for Ethiopia is to improve learning conditions in primary and secondary schools and strengthen institutions at different levels of educational administration. The project has six components. The first component is curriculum, textbooks, assessment, examinations, and inspection. This component will support improvement of learning conditions in grades KG-12 by providing increased access to teaching and learning materials and through improvements to the curriculum by assessing the strengths and weaknesses of the current curriculum. This component has following four sub-components: (i) curriculum reform and implementation; (ii) teaching and learning materials; (iii) assessment and examinations; and (iv) inspection. The second component is teacher development program (TDP). This component will support improvements in learning conditions in both primary and secondary schools by advancing the quality of teaching in general education through: (a) enhancing the training of pre-service teachers in teacher education institutions; and (b) improving the quality of in-service teacher training. This component has following three sub-components: (i) pre-service teacher training; (ii) in-service teacher training; and (iii) licensing and relicensing of teachers and school leaders. The third component is school improvement plan. This component will support the strengthening of school planning in order to improve learning outcomes, and to partly fund the school improvement plans through school grants. It has following two sub-components: (i) school improvement plan; and (ii) school grants. The fourth component is management and capacity building, including education management information systems (EMIS). This component will support management and capacity building aspect of the project. This component has following three sub-components: (i) capacity building for education planning and management; (ii) capacity building for school planning and management; and (iii) EMIS. The fifth component is improving the quality of learning and teaching in secondary schools and universities through the use of information and communications technology (ICT). It has following five sub-components: (i) national policy and institution for ICT in general education; (ii) national ICT infrastructure improvement plan for general education; (iii) develop an integrated monitoring, evaluation, and learning system specifically for the ICT component; (iv) teacher professional development in the use of ICT; and (v) provision of limited number of e-Braille display readers with the possibility to scale up to all secondary education schools based on the successful implementation and usage of the readers. The sixth component is program coordination, monitoring and evaluation, and communication. It will support institutional strengthening by developing capacities in all aspects of program coordination, monitoring and evaluation; a new sub-component on communications will support information sharing for better management and accountability. It has following three sub-components: (i) program coordination; (ii) monitoring and evaluation (M and E); and (iii) communication.'}, u'projectdocs': [{u'DocDate': u'28-AUG-2013', u'EntityID': u'090224b081e545fb_1_0', u'DocURL': u'http://www-wds.worldbank.org/servlet/WDSServlet?pcont=details&eid=090224b081e545fb_1_0', u'DocType': u'PID', u'DocTypeDesc': u'Project Information Document (PID),  Vol.'}, {u'DocDate': u'01-JUL-2013', u'EntityID': u'000442464_20130920111729', u'DocURL': u'http://www-wds.worldbank.org/servlet/WDSServlet?pcont=details&eid=000442464_20130920111729', u'DocType': u'IP', u'DocTypeDesc': u'Indigenous Peoples Plan (IP),  Vol.1 of 1'}, {u'DocDate': u'22-NOV-2012', u'EntityID': u'090224b0817b19e2_1_0', u'DocURL': u'http://www-wds.worldbank.org/servlet/WDSServlet?pcont=details&eid=090224b0817b19e2_1_0', u'DocType': u'PID', u'DocTypeDesc': u'Project Information Document (PID),  Vol.'}], u'lendprojectcost': 550000000, u'lendinginstrtype': u'IN', u'theme1': {u'Percent': 100, u'Name': u'Education for all'}, u'grantamt': 0, u'themecode': u'65', u'borrower': u'FEDERAL DEMOCRATIC REPUBLIC OF ETHIOPIA', u'sectorcode': u'ET,BS,ES,EP', u'sector3': {u'Percent': 16, u'Name': u'Public administration- Other social services'}, u'majorsector_percent': [{u'Percent': 46, u'Name': u'Education'}, {u'Percent': 26, u'Name': u'Education'}, {u'Percent': 16, u'Name': u'Public Administration, Law, and Justice'}, {u'Percent': 12, u'Name': u'Education'}], u'board_approval_month': u'November', u'theme_namecode': [{u'code': u'65', u'name': u'Education for all'}], u'countryname': u'Federal Democratic Republic of Ethiopia', u'url': u'http://www.worldbank.org/projects/P129828/ethiopia-general-education-quality-improvement-project-ii?lang=en', u'projectstatusdisplay': u'Active', u'ibrdcommamt': 0, u'sector_namecode': [{u'code': u'EP', u'name': u'Primary education'}, {u'code': u'ES', u'name': u'Secondary education'}, {u'code': u'BS', u'name': u'Public administration- Other social services'}, {u'code': u'ET', u'name': u'Tertiary education'}], u'_id': {u'$oid': u'52b213b38594d8a2be17c780'}}, {u'sector': [{u'Name': u'Public administration- Other social services'}, {u'Name': u'General public administration sector'}], u'supplementprojectflg': u'N', u'projectfinancialtype': u'OTHER', u'prodline': u'RE', u'mjtheme': [u'Economic management', u'Social protection and risk management'], u'idacommamt': 0, u'impagency': u'MINISTRY OF FINANCE', u'country_namecode': u'Republic of Tunisia!$!TN', u'mjthemecode': u'1,6', u'totalcommamt': 4700000, u'id': u'P144674', u'mjsector_namecode': [{u'code': u'BX', u'name': u'Public Administration, Law, and Justice'}, {u'code': u'BX', u'name': u'Public Administration, Law, and Justice'}], u'docty': u'Project Information Document,Integrated Safeguards Data Sheet,Integrated Safeguards Data Sheet,Project Information Document,Integrated Safeguards Data Sheet,Project Information Document', u'sector1': {u'Percent': 70, u'Name': u'Public administration- Other social services'}, u'lendinginstr': u'Specific Investment Loan', u'countrycode': u'TN', u'sector2': {u'Percent': 30, u'Name': u'General public administration sector'}, u'totalamt': 0, u'mjtheme_namecode': [{u'code': u'1', u'name': u'Economic management'}, {u'code': u'6', u'name': u'Social protection and risk management'}], u'boardapprovaldate': u'2013-11-04T00:00:00Z', u'countryshortname': u'Tunisia', u'source': u'IBRD', u'prodlinetext': u'Recipient Executed Activities', u'productlinetype': u'L', u'regionname': u'Middle East and North Africa', u'status': u'Active', u'project_name': u'TN: DTF Social Protection Reforms Support', u'envassesmentcategorycode': u'C', u'approvalfy': 2015, u'projectdocs': [{u'DocDate': u'29-MAR-2013', u'EntityID': u'000333037_20131024115616', u'DocURL': u'http://www-wds.worldbank.org/servlet/WDSServlet?pcont=details&eid=000333037_20131024115616', u'DocType': u'PID', u'DocTypeDesc': u'Project Information Document (PID),  Vol.1 of 1'}, {u'DocDate': u'29-MAR-2013', u'EntityID': u'000356161_20131024151611', u'DocURL': u'http://www-wds.worldbank.org/servlet/WDSServlet?pcont=details&eid=000356161_20131024151611', u'DocType': u'ISDS', u'DocTypeDesc': u'Integrated Safeguards Data Sheet (ISDS),  Vol.1 of 1'}, {u'DocDate': u'29-MAR-2013', u'EntityID': u'000442464_20131031112136', u'DocURL': u'http://www-wds.worldbank.org/servlet/WDSServlet?pcont=details&eid=000442464_20131031112136', u'DocType': u'ISDS', u'DocTypeDesc': u'Integrated Safeguards Data Sheet (ISDS),  Vol.1 of 1'}, {u'DocDate': u'29-MAR-2013', u'EntityID': u'000333037_20131031105716', u'DocURL': u'http://www-wds.worldbank.org/servlet/WDSServlet?pcont=details&eid=000333037_20131031105716', u'DocType': u'PID', u'DocTypeDesc': u'Project Information Document (PID),  Vol.1 of 1'}, {u'DocDate': u'16-JAN-2013', u'EntityID': u'000356161_20130305113209', u'DocURL': u'http://www-wds.worldbank.org/servlet/WDSServlet?pcont=details&eid=000356161_20130305113209', u'DocType': u'ISDS', u'DocTypeDesc': u'Integrated Safeguards Data Sheet (ISDS),  Vol.1 of 1'}, {u'DocDate': u'16-JAN-2013', u'EntityID': u'000356161_20130305113716', u'DocURL': u'http://www-wds.worldbank.org/servlet/WDSServlet?pcont=details&eid=000356161_20130305113716', u'DocType': u'PID', u'DocTypeDesc': u'Project Information Document (PID),  Vol.1 of 1'}], u'lendprojectcost': 5700000, u'lendinginstrtype': u'IN', u'theme1': {u'Percent': 30, u'Name': u'Other economic management'}, u'grantamt': 4700000, u'themecode': u'54,24', u'borrower': u'GOVERNMENT OF TUNISIA', u'sectorcode': u'BZ,BS', u'majorsector_percent': [{u'Percent': 70, u'Name': u'Public Administration, Law, and Justice'}, {u'Percent': 30, u'Name': u'Public Administration, Law, and Justice'}], u'board_approval_month': u'November', u'theme_namecode': [{u'code': u'24', u'name': u'Other economic management'}, {u'code': u'54', u'name': u'Social safety nets'}], u'countryname': u'Republic of Tunisia', u'url': u'http://www.worldbank.org/projects/P144674?lang=en', u'projectstatusdisplay': u'Active', u'ibrdcommamt': 0, u'sector_namecode': [{u'code': u'BS', u'name': u'Public administration- Other social services'}, {u'code': u'BZ', u'name': u'General public administration sector'}], u'_id': {u'$oid': u'52b213b38594d8a2be17c781'}}, {u'sector': [{u'Name': u'Rural and Inter-Urban Roads and Highways'}], u'supplementprojectflg': u'Y', u'projectfinancialtype': u'IDA', u'prodline': u'PE', u'mjtheme': [u'Trade and integration', u'Public sector governance', u'Environment and natural resources management', u'Social protection and risk management'], u'idacommamt': 6060000, u'impagency': u'MINISTRY OF TRANSPORT AND COMMUNICATIONS', u'country_namecode': u'Tuvalu!$!TV', u'mjthemecode': u'5,2,11,6', u'totalcommamt': 6060000, u'id': u'P145310', u'mjsector_namecode': [{u'code': u'TX', u'name': u'Transportation'}], u'docty': u'Resettlement Plan,Environmental Assessment,Integrated Safeguards Data Sheet,Project Information Document,Resettlement Plan,Environmental Assessment,Resettlement Plan', u'sector1': {u'Percent': 100, u'Name': u'Rural and Inter-Urban Roads and Highways'}, u'lendinginstr': u'Investment Project Financing', u'countrycode': u'TV', u'totalamt': 6060000, u'mjtheme_namecode': [{u'code': u'5', u'name': u'Trade and integration'}, {u'code': u'2', u'name': u'Public sector governance'}, {u'code': u'11', u'name': u'Environment and natural resources management'}, {u'code': u'6', u'name': u'Social protection and risk management'}], u'boardapprovaldate': u'2013-11-01T00:00:00Z', u'countryshortname': u'Tuvalu', u'source': u'IBRD', u'prodlinetext': u'IBRD/IDA', u'productlinetype': u'L', u'regionname': u'East Asia and Pacific', u'status': u'Active', u'project_name': u'Tuvalu Aviation Investment Project - Additional Financing', u'envassesmentcategorycode': u'B', u'approvalfy': u'2014', u'projectdocs': [{u'DocDate': u'21-OCT-2013', u'EntityID': u'000333037_20131025113254', u'DocURL': u'http://www-wds.worldbank.org/servlet/WDSServlet?pcont=details&eid=000333037_20131025113254', u'DocType': u'RPL', u'DocTypeDesc': u'Resettlement Plan (RPL),  Vol.1 of 3'}, {u'DocDate': u'20-SEP-2013', u'EntityID': u'000333037_20131010183430', u'DocURL': u'http://www-wds.worldbank.org/servlet/WDSServlet?pcont=details&eid=000333037_20131010183430', u'DocType': u'EA', u'DocTypeDesc': u'Environmental Assessment (EA),  Vol.2 of 2'}, {u'DocDate': u'31-AUG-2013', u'EntityID': u'090224b081e66640_1_0', u'DocURL': u'http://www-wds.worldbank.org/servlet/WDSServlet?pcont=details&eid=090224b081e66640_1_0', u'DocType': u'ISDS', u'DocTypeDesc': u'Integrated Safeguards Data Sheet (ISDS),  Vol.'}, {u'DocDate': u'24-AUG-2013', u'EntityID': u'090224b081e37693_1_0', u'DocURL': u'http://www-wds.worldbank.org/servlet/WDSServlet?pcont=details&eid=090224b081e37693_1_0', u'DocType': u'PID', u'DocTypeDesc': u'Project Information Document (PID),  Vol.'}, {u'DocDate': u'15-AUG-2013', u'EntityID': u'000442464_20130902114222', u'DocURL': u'http://www-wds.worldbank.org/servlet/WDSServlet?pcont=details&eid=000442464_20130902114222', u'DocType': u'RPL', u'DocTypeDesc': u'Resettlement Plan (RPL),  Vol.1 of 3'}, {u'DocDate': u'22-MAY-2013', u'EntityID': u'000442464_20130530115731', u'DocURL': u'http://www-wds.worldbank.org/servlet/WDSServlet?pcont=details&eid=000442464_20130530115731', u'DocType': u'EA', u'DocTypeDesc': u'Environmental Assessment (EA),  Vol.1 of 2'}, {u'DocDate': u'01-JAN-2012', u'EntityID': u'000333037_20131028093037', u'DocURL': u'http://www-wds.worldbank.org/servlet/WDSServlet?pcont=details&eid=000333037_20131028093037', u'DocType': u'RPL', u'DocTypeDesc': u'Resettlement Plan (RPL),  Vol.3 of 3'}], u'lendprojectcost': 6060000, u'lendinginstrtype': u'IN', u'theme1': {u'Percent': 46, u'Name': u'Regional integration'}, u'grantamt': 0, u'themecode': u'52,81,25,47', u'borrower': u'MINISTRY OF FINANCE AND ECONOMIC DEVEL', u'sectorcode': u'TI', u'majorsector_percent': [{u'Percent': 100, u'Name': u'Transportation'}], u'board_approval_month': u'November', u'theme_namecode': [{u'code': u'47', u'name': u'Regional integration'}, {u'code': u'25', u'name': u'Administrative and civil service reform'}, {u'code': u'81', u'name': u'Climate change'}, {u'code': u'52', u'name': u'Natural disaster management'}], u'countryname': u'Tuvalu', u'url': u'http://www.worldbank.org/projects/P145310?lang=en', u'projectstatusdisplay': u'Active', u'ibrdcommamt': 0, u'sector_namecode': [{u'code': u'TI', u'name': u'Rural and Inter-Urban Roads and Highways'}], u'_id': {u'$oid': u'52b213b38594d8a2be17c782'}}, {u'sector': [{u'Name': u'Other social services'}], u'supplementprojectflg': u'N', u'projectfinancialtype': u'OTHER', u'prodline': u'RE', u'mjtheme': [u'Social dev/gender/inclusion', u'Social dev/gender/inclusion'], u'idacommamt': 0, u'impagency': u'LABOR INTENSIVE PUBLIC WORKS PROJECT PMU', u'country_namecode': u'Republic of Yemen!$!RY', u'mjthemecode': u'7,7', u'totalcommamt': 1500000, u'id': u'P144665', u'mjsector_namecode': [{u'code': u'JX', u'name': u'Health and other social services'}], u'docty': u'Procurement Plan,Project Information Document,Integrated Safeguards Data Sheet', u'sector1': {u'Percent': 100, u'Name': u'Other social services'}, u'lendinginstr': u'Technical Assistance Loan', u'countrycode': u'RY', u'totalamt': 0, u'mjtheme_namecode': [{u'code': u'7', u'name': u'Social dev/gender/inclusion'}, {u'code': u'7', u'name': u'Social dev/gender/inclusion'}], u'boardapprovaldate': u'2013-10-31T00:00:00Z', u'countryshortname': u'Yemen, Republic of', u'source': u'IBRD', u'prodlinetext': u'Recipient Executed Activities', u'productlinetype': u'L', u'regionname': u'Middle East and North Africa', u'status': u'Active', u'project_name': u\"Gov't and Civil Society Organization Partnership\", u'envassesmentcategorycode': u'C', u'approvalfy': u'2014', u'projectdocs': [{u'DocDate': u'15-MAY-2013', u'EntityID': u'000356161_20130905145241', u'DocURL': u'http://www-wds.worldbank.org/servlet/WDSServlet?pcont=details&eid=000356161_20130905145241', u'DocType': u'PROP', u'DocTypeDesc': u'Procurement Plan (PROP),  Vol.1 of 1'}, {u'DocDate': u'22-JAN-2013', u'EntityID': u'000356161_20130305114247', u'DocURL': u'http://www-wds.worldbank.org/servlet/WDSServlet?pcont=details&eid=000356161_20130305114247', u'DocType': u'PID', u'DocTypeDesc': u'Project Information Document (PID),  Vol.1 of 1'}, {u'DocDate': u'17-JAN-2013', u'EntityID': u'000442464_20130305144022', u'DocURL': u'http://www-wds.worldbank.org/servlet/WDSServlet?pcont=details&eid=000442464_20130305144022', u'DocType': u'ISDS', u'DocTypeDesc': u'Integrated Safeguards Data Sheet (ISDS),  Vol.1 of 1'}], u'lendprojectcost': 1500000, u'lendinginstrtype': u'IN', u'theme1': {u'Percent': 50, u'Name': u'Participation and civic engagement'}, u'grantamt': 1500000, u'themecode': u'59,57', u'borrower': u\"MIN. OF PLANNING AND INT'L COOPERATION\", u'sectorcode': u'JB', u'majorsector_percent': [{u'Percent': 100, u'Name': u'Health and other social services'}], u'board_approval_month': u'October', u'theme_namecode': [{u'code': u'57', u'name': u'Participation and civic engagement'}, {u'code': u'59', u'name': u'Gender'}], u'countryname': u'Republic of Yemen', u'url': u'http://www.worldbank.org/projects/P144665?lang=en', u'projectstatusdisplay': u'Active', u'ibrdcommamt': 0, u'sector_namecode': [{u'code': u'JB', u'name': u'Other social services'}], u'_id': {u'$oid': u'52b213b38594d8a2be17c783'}}, {u'sector': [{u'Name': u'General industry and trade sector'}, {u'Name': u'Other industry'}, {u'Name': u'SME Finance'}], u'supplementprojectflg': u'N', u'projectfinancialtype': u'IDA', u'prodline': u'PE', u'mjtheme': [u'Trade and integration', u'Financial and private sector development'], u'idacommamt': 13100000, u'impagency': u'MINISTRY OF TRADE AND INDUSTRY', u'country_namecode': u'Kingdom of Lesotho!$!LS', u'mjthemecode': u'5,4', u'closingdate': u'2019-04-30T00:00:00Z', u'totalcommamt': 13100000, u'id': u'P144933', u'mjsector_namecode': [{u'code': u'YX', u'name': u'Industry and trade'}, {u'code': u'YX', u'name': u'Industry and trade'}, {u'code': u'FX', u'name': u'Finance'}], u'docty': u'Project Information Document,Integrated Safeguards Data Sheet,Environmental Assessment,Environmental Assessment,Integrated Safeguards Data Sheet,Project Information Document,Agreement', u'sector1': {u'Percent': 50, u'Name': u'General industry and trade sector'}, u'lendinginstr': u'Investment Project Financing', u'countrycode': u'LS', u'sector2': {u'Percent': 40, u'Name': u'Other industry'}, u'totalamt': 13100000, u'mjtheme_namecode': [{u'code': u'5', u'name': u'Trade and integration'}, {u'code': u'4', u'name': u'Financial and private sector development'}], u'boardapprovaldate': u'2013-10-31T00:00:00Z', u'countryshortname': u'Lesotho', u'source': u'IBRD', u'prodlinetext': u'IBRD/IDA', u'productlinetype': u'L', u'regionname': u'Africa', u'status': u'Active', u'project_name': u'Second Private Sector Competitiveness and Economic Diversification Prj', u'envassesmentcategorycode': u'B', u'approvalfy': u'2014', u'project_abstract': {u'cdata': u\"The development objective of the Second Private Sector Competitiveness and Economic Diversification Project for Lesotho is to contribute to the development of selected non-textile sectors resulting in increased private sector investment, firm growth and job creation. The project will comprise two mutually-reinforcing components. The first component of the project is improving the business environment. The objective of this component is to support policy measures intended to facilitate business entry and greater access to finance. The two sub-components of this component are: business regulation, licensing and construction permit reform; and improving access to finance. The second component of the project is increasing economic diversification. The objective of this component is to support policy measures intended to strengthen the competitiveness of new growth sectors with the aim of decreasing Lesotho's reliance on textile exports as the main engine of growth. In addition, the third component of the project will support project implementation.\"}, u'projectdocs': [{u'DocDate': u'06-SEP-2013', u'EntityID': u'090224b081e9012d_1_0', u'DocURL': u'http://www-wds.worldbank.org/servlet/WDSServlet?pcont=details&eid=090224b081e9012d_1_0', u'DocType': u'PID', u'DocTypeDesc': u'Project Information Document (PID),  Vol.'}, {u'DocDate': u'05-SEP-2013', u'EntityID': u'090224b081e8e028_1_0', u'DocURL': u'http://www-wds.worldbank.org/servlet/WDSServlet?pcont=details&eid=090224b081e8e028_1_0', u'DocType': u'ISDS', u'DocTypeDesc': u'Integrated Safeguards Data Sheet (ISDS),  Vol.'}, {u'DocDate': u'06-AUG-2013', u'EntityID': u'000356161_20130819120306', u'DocURL': u'http://www-wds.worldbank.org/servlet/WDSServlet?pcont=details&eid=000356161_20130819120306', u'DocType': u'EA', u'DocTypeDesc': u'Environmental Assessment (EA),  Vol.1 of 2'}, {u'DocDate': u'06-AUG-2013', u'EntityID': u'000356161_20130819120542', u'DocURL': u'http://www-wds.worldbank.org/servlet/WDSServlet?pcont=details&eid=000356161_20130819120542', u'DocType': u'EA', u'DocTypeDesc': u'Environmental Assessment (EA),  Vol.2 of 2'}, {u'DocDate': u'19-JUL-2013', u'EntityID': u'090224b081d42e8f_1_0', u'DocURL': u'http://www-wds.worldbank.org/servlet/WDSServlet?pcont=details&eid=090224b081d42e8f_1_0', u'DocType': u'ISDS', u'DocTypeDesc': u'Integrated Safeguards Data Sheet (ISDS),  Vol.'}, {u'DocDate': u'15-JUL-2013', u'EntityID': u'090224b081d29628_1_0', u'DocURL': u'http://www-wds.worldbank.org/servlet/WDSServlet?pcont=details&eid=090224b081d29628_1_0', u'DocType': u'PID', u'DocTypeDesc': u'Project Information Document (PID),  Vol.'}, {u'DocDate': u'12-JUL-2013', u'EntityID': u'090224b081dbb9dd_1_0', u'DocURL': u'http://www-wds.worldbank.org/servlet/WDSServlet?pcont=details&eid=090224b081dbb9dd_1_0', u'DocType': u'AGR', u'DocTypeDesc': u'Agreement (AGR),  Vol.'}], u'lendprojectcost': 15000000, u'lendinginstrtype': u'IN', u'theme1': {u'Percent': 30, u'Name': u'Export development and competitiveness'}, u'grantamt': 0, u'themecode': u'41,45', u'borrower': u'MINISTRY OF FINANCE', u'sectorcode': u'FH,YW,YZ', u'sector3': {u'Percent': 10, u'Name': u'SME Finance'}, u'majorsector_percent': [{u'Percent': 50, u'Name': u'Industry and trade'}, {u'Percent': 40, u'Name': u'Industry and trade'}, {u'Percent': 10, u'Name': u'Finance'}], u'board_approval_month': u'October', u'theme_namecode': [{u'code': u'45', u'name': u'Export development and competitiveness'}, {u'code': u'41', u'name': u'Micro, Small and Medium Enterprise support'}], u'countryname': u'Kingdom of Lesotho', u'url': u'http://www.worldbank.org/projects/P144933/second-private-sector-competitiveness-economic-diversification?lang=en', u'projectstatusdisplay': u'Active', u'ibrdcommamt': 0, u'sector_namecode': [{u'code': u'YZ', u'name': u'General industry and trade sector'}, {u'code': u'YW', u'name': u'Other industry'}, {u'code': u'FH', u'name': u'SME Finance'}], u'_id': {u'$oid': u'52b213b38594d8a2be17c784'}}, {u'sector': [{u'Name': u'Other social services'}], u'supplementprojectflg': u'Y', u'projectfinancialtype': u'IDA', u'prodline': u'PE', u'mjtheme': [u'Social protection and risk management'], u'idacommamt': 10000000, u'country_namecode': u'Republic of Kenya!$!KE', u'mjthemecode': u'6,6', u'totalcommamt': 10000000, u'id': u'P146161', u'mjsector_namecode': [{u'code': u'JX', u'name': u'Health and other social services'}], u'docty': u'Integrated Safeguards Data Sheet,Project Information Document,Indigenous Peoples Plan', u'sector1': {u'Percent': 100, u'Name': u'Other social services'}, u'lendinginstr': u'Investment Project Financing', u'countrycode': u'KE', u'totalamt': 10000000, u'mjtheme_namecode': [{u'code': u'6', u'name': u'Social protection and risk management'}, {u'code': u'6', u'name': u''}], u'boardapprovaldate': u'2013-10-31T00:00:00Z', u'countryshortname': u'Kenya', u'source': u'IBRD', u'prodlinetext': u'IBRD/IDA', u'productlinetype': u'L', u'regionname': u'Africa', u'status': u'Active', u'project_name': u'Additional Financing for Cash Transfers for Orphans and Vulnerable Children', u'envassesmentcategorycode': u'C', u'approvalfy': u'2014', u'projectdocs': [{u'DocDate': u'16-SEP-2013', u'EntityID': u'090224b081ed1e23_1_0', u'DocURL': u'http://www-wds.worldbank.org/servlet/WDSServlet?pcont=details&eid=090224b081ed1e23_1_0', u'DocType': u'ISDS', u'DocTypeDesc': u'Integrated Safeguards Data Sheet (ISDS),  Vol.'}, {u'DocDate': u'11-SEP-2013', u'EntityID': u'090224b081eb489c_1_0', u'DocURL': u'http://www-wds.worldbank.org/servlet/WDSServlet?pcont=details&eid=090224b081eb489c_1_0', u'DocType': u'PID', u'DocTypeDesc': u'Project Information Document (PID),  Vol.'}, {u'DocDate': u'09-SEP-2013', u'EntityID': u'000442464_20130925104123', u'DocURL': u'http://www-wds.worldbank.org/servlet/WDSServlet?pcont=details&eid=000442464_20130925104123', u'DocType': u'IP', u'DocTypeDesc': u'Indigenous Peoples Plan (IP),  Vol.1 of 1'}], u'lendprojectcost': 66400000, u'lendinginstrtype': u'IN', u'theme1': {u'Percent': 100, u'Name': u'Social safety nets'}, u'grantamt': 0, u'themecode': u'54', u'borrower': u'REPUBLIC OF KENYA', u'sectorcode': u'JB', u'majorsector_percent': [{u'Percent': 100, u'Name': u'Health and other social services'}], u'board_approval_month': u'October', u'theme_namecode': [{u'code': u'54', u'name': u'Social safety nets'}], u'countryname': u'Republic of Kenya', u'url': u'http://www.worldbank.org/projects/P146161?lang=en', u'projectstatusdisplay': u'Active', u'ibrdcommamt': 0, u'sector_namecode': [{u'code': u'JB', u'name': u'Other social services'}], u'_id': {u'$oid': u'52b213b38594d8a2be17c785'}}, {u'sector': [{u'Name': u'Rural and Inter-Urban Roads and Highways'}], u'supplementprojectflg': u'N', u'projectfinancialtype': u'IBRD', u'prodline': u'PE', u'mjtheme': [u'Public sector governance', u'Financial and private sector development'], u'idacommamt': 0, u'impagency': u'MINISTRY OF ROAD TRANSPORT AND HIGHWAYS', u'country_namecode': u'Republic of India!$!IN', u'mjthemecode': u'2,4', u'closingdate': u'2019-06-30T00:00:00Z', u'totalcommamt': 500000000, u'id': u'P121185', u'mjsector_namecode': [{u'code': u'TX', u'name': u'Transportation'}], u'docty': u'Project Appraisal Document,Procurement Plan,Integrated Safeguards Data Sheet,Indigenous Peoples Plan,Resettlement Plan,Indigenous Peoples Plan,Indigenous Peoples Plan,Environmental Assessment,Project Information Document,Resettlement Plan,Indigenous Peoples Plan,Indigenous Peoples Plan,Indigenous Peoples Plan,Resettlement Plan,Environmental Assessment,Environmental Assessment,Resettlement Plan,Indigenous Peoples Plan,Environmental Assessment,Environmental Assessment,Indigenous Peoples Plan,Indigenous Peoples Plan,Resettlement Plan,Environmental Assessment,Project Information Document,Integrated Safeguards Data Sheet', u'sector1': {u'Percent': 100, u'Name': u'Rural and Inter-Urban Roads and Highways'}, u'lendinginstr': u'Specific Investment Loan', u'countrycode': u'IN', u'totalamt': 500000000, u'mjtheme_namecode': [{u'code': u'2', u'name': u'Public sector governance'}, {u'code': u'4', u'name': u'Financial and private sector development'}], u'boardapprovaldate': u'2013-10-29T00:00:00Z', u'countryshortname': u'India', u'source': u'IBRD', u'prodlinetext': u'IBRD/IDA', u'productlinetype': u'L', u'regionname': u'South Asia', u'status': u'Active', u'project_name': u'National Highways Interconnectivity Improvement Project', u'envassesmentcategorycode': u'A', u'approvalfy': u'2014', u'project_abstract': {u'cdata': u'The development objective of the project is to improve the National Highway network connectivity to less developed areas and low-income states and enhance the institutional capacity of Ministry of Road Transport and Highways (MoRTH) to better manage the highway network under the purview of the Ministry. There are three components to the project. The first component of the project is road improvement and maintenance. This component will include: civil works for widening and upgrading of approximately 400 km of existing single lane/intermediate lane national highways of Non-National Highway Development Project (NHDP) network in the project states, to two lane standards through item-rate contracts; providing supervision of quality control services, and others including costs towards land acquisition, resettlement and rehabilitation, shifting of utilities. The second component of the project is institutional development component. The project will enhance the institutional capacity of MoRTH to better manage the non-NHDP network through supporting specific intervention in five areas, viz., process improvements, network monitoring and management, financing, governance and accountability, and training. The third component of the project is road safety component. This component will pursue the objective of improving road safety through: 1) updating Indian standards and regulations related to road safety; 2) improving road accident data collection and analysis at central and state levels through implementation of the Road Accident Database Management System (RADMS) in project states; 3) strengthening road safety capacity at the central level, and 4) training.'}, u'projectdocs': [{u'DocDate': u'02-OCT-2013', u'EntityID': u'000356161_20131011122810', u'DocURL': u'http://www-wds.worldbank.org/servlet/WDSServlet?pcont=details&eid=000356161_20131011122810', u'DocType': u'PAD', u'DocTypeDesc': u'Project Appraisal Document (PAD),  Vol.1 of 1'}, {u'DocDate': u'24-SEP-2013', u'EntityID': u'000456286_20130926172640', u'DocURL': u'http://www-wds.worldbank.org/servlet/WDSServlet?pcont=details&eid=000456286_20130926172640', u'DocType': u'PROP', u'DocTypeDesc': u'Procurement Plan (PROP),  Vol.1 of 1'}, {u'DocDate': u'24-JUL-2013', u'EntityID': u'090224b081d5f620_1_0', u'DocURL': u'http://www-wds.worldbank.org/servlet/WDSServlet?pcont=details&eid=090224b081d5f620_1_0', u'DocType': u'ISDS', u'DocTypeDesc': u'Integrated Safeguards Data Sheet (ISDS),  Vol.'}, {u'DocDate': u'22-JUL-2013', u'EntityID': u'000333037_20130730125337', u'DocURL': u'http://www-wds.worldbank.org/servlet/WDSServlet?pcont=details&eid=000333037_20130730125337', u'DocType': u'IP', u'DocTypeDesc': u'Indigenous Peoples Plan (IP),  Vol.9 of 9'}, {u'DocDate': u'18-JUL-2013', u'EntityID': u'000442464_20130730112658', u'DocURL': u'http://www-wds.worldbank.org/servlet/WDSServlet?pcont=details&eid=000442464_20130730112658', u'DocType': u'RPL', u'DocTypeDesc': u'Resettlement Plan (RPL),  Vol.4 of 5'}, {u'DocDate': u'12-JUL-2013', u'EntityID': u'000333037_20130717110035', u'DocURL': u'http://www-wds.worldbank.org/servlet/WDSServlet?pcont=details&eid=000333037_20130717110035', u'DocType': u'IP', u'DocTypeDesc': u'Indigenous Peoples Plan (IP),  Vol.8 of 9'}, {u'DocDate': u'12-JUL-2013', u'EntityID': u'000333037_20130717105534', u'DocURL': u'http://www-wds.worldbank.org/servlet/WDSServlet?pcont=details&eid=000333037_20130717105534', u'DocType': u'IP', u'DocTypeDesc': u'Indigenous Peoples Plan (IP),  Vol.7 of 9'}, {u'DocDate': u'01-JUL-2013', u'EntityID': u'000356161_20130911155105', u'DocURL': u'http://www-wds.worldbank.org/servlet/WDSServlet?pcont=details&eid=000356161_20130911155105', u'DocType': u'EA', u'DocTypeDesc': u'Environmental Assessment (EA),  Vol.6 of 6'}, {u'DocDate': u'18-JUN-2013', u'EntityID': u'090224b081c7b185_1_0', u'DocURL': u'http://www-wds.worldbank.org/servlet/WDSServlet?pcont=details&eid=090224b081c7b185_1_0', u'DocType': u'PID', u'DocTypeDesc': u'Project Information Document (PID),  Vol.'}, {u'DocDate': u'01-MAY-2013', u'EntityID': u'000442464_20130717120028', u'DocURL': u'http://www-wds.worldbank.org/servlet/WDSServlet?pcont=details&eid=000442464_20130717120028', u'DocType': u'RPL', u'DocTypeDesc': u'Resettlement Plan (RPL),  Vol.3 of 5'}, {u'DocDate': u'11-MAR-2013', u'EntityID': u'000356161_20130321125945', u'DocURL': u'http://www-wds.worldbank.org/servlet/WDSServlet?pcont=details&eid=000356161_20130321125945', u'DocType': u'IP', u'DocTypeDesc': u'Indigenous Peoples Plan (IP),  Vol.6 of 9'}, {u'DocDate': u'11-MAR-2013', u'EntityID': u'000333037_20130320125400', u'DocURL': u'http://www-wds.worldbank.org/servlet/WDSServlet?pcont=details&eid=000333037_20130320125400', u'DocType': u'IP', u'DocTypeDesc': u'Indigenous Peoples Plan (IP),  Vol.5 of 9'}, {u'DocDate': u'01-MAR-2013', u'EntityID': u'000333037_20130320112931', u'DocURL': u'http://www-wds.worldbank.org/servlet/WDSServlet?pcont=details&eid=000333037_20130320112931', u'DocType': u'IP', u'DocTypeDesc': u'Indigenous Peoples Plan (IP),  Vol.1 of 9'}, {u'DocDate': u'01-FEB-2013', u'EntityID': u'000333037_20130314145004', u'DocURL': u'http://www-wds.worldbank.org/servlet/WDSServlet?pcont=details&eid=000333037_20130314145004', u'DocType': u'RPL', u'DocTypeDesc': u'Resettlement Plan (RPL),  Vol.2 of 5'}, {u'DocDate': u'01-JAN-2013', u'EntityID': u'000445729_20130401115317', u'DocURL': u'http://www-wds.worldbank.org/servlet/WDSServlet?pcont=details&eid=000445729_20130401115317', u'DocType': u'EA', u'DocTypeDesc': u'Environmental Assessment (EA),  Vol.4 of 6'}, {u'DocDate': u'01-JAN-2013', u'EntityID': u'000442464_20130801092844', u'DocURL': u'http://www-wds.worldbank.org/servlet/WDSServlet?pcont=details&eid=000442464_20130801092844', u'DocType': u'EA', u'DocTypeDesc': u'Environmental Assessment (EA),  Vol.5 of 6'}, {u'DocDate': u'01-JAN-2013', u'EntityID': u'000333037_20130730141813', u'DocURL': u'http://www-wds.worldbank.org/servlet/WDSServlet?pcont=details&eid=000333037_20130730141813', u'DocType': u'RPL', u'DocTypeDesc': u'Resettlement Plan (RPL),  Vol.5 of 5'}, {u'DocDate': u'01-NOV-2012', u'EntityID': u'000333037_20130320124205', u'DocURL': u'http://www-wds.worldbank.org/servlet/WDSServlet?pcont=details&eid=000333037_20130320124205', u'DocType': u'IP', u'DocTypeDesc': u'Indigenous Peoples Plan (IP),  Vol.4 of 9'}, {u'DocDate': u'01-NOV-2012', u'EntityID': u'000356161_20130320130834', u'DocURL': u'http://www-wds.worldbank.org/servlet/WDSServlet?pcont=details&eid=000356161_20130320130834', u'DocType': u'EA', u'DocTypeDesc': u'Environmental Assessment (EA),  Vol.3 of 6'}, {u'DocDate': u'01-SEP-2012', u'EntityID': u'000356161_20130320130421', u'DocURL': u'http://www-wds.worldbank.org/servlet/WDSServlet?pcont=details&eid=000356161_20130320130421', u'DocType': u'EA', u'DocTypeDesc': u'Environmental Assessment (EA),  Vol.2 of 6'}, {u'DocDate': u'01-AUG-2012', u'EntityID': u'000333037_20130320120400', u'DocURL': u'http://www-wds.worldbank.org/servlet/WDSServlet?pcont=details&eid=000333037_20130320120400', u'DocType': u'IP', u'DocTypeDesc': u'Indigenous Peoples Plan (IP),  Vol.2 of 9'}, {u'DocDate': u'01-AUG-2012', u'EntityID': u'000333037_20130320122144', u'DocURL': u'http://www-wds.worldbank.org/servlet/WDSServlet?pcont=details&eid=000333037_20130320122144', u'DocType': u'IP', u'DocTypeDesc': u'Indigenous Peoples Plan (IP),  Vol.3 of 9'}, {u'DocDate': u'09-JAN-2012', u'EntityID': u'000333037_20120129232213', u'DocURL': u'http://www-wds.worldbank.org/servlet/WDSServlet?pcont=details&eid=000333037_20120129232213', u'DocType': u'RPL', u'DocTypeDesc': u'Resettlement Plan (RPL),  Vol.1 of 5'}, {u'DocDate': u'01-NOV-2011', u'EntityID': u'000386194_20120127022448', u'DocURL': u'http://www-wds.worldbank.org/servlet/WDSServlet?pcont=details&eid=000386194_20120127022448', u'DocType': u'EA', u'DocTypeDesc': u'Environmental Assessment (EA),  Vol.1 of 6'}, {u'DocDate': u'17-NOV-2010', u'EntityID': u'000003596_20101122120540', u'DocURL': u'http://www-wds.worldbank.org/servlet/WDSServlet?pcont=details&eid=000003596_20101122120540', u'DocType': u'PID', u'DocTypeDesc': u'Project Information Document (PID),  Vol.1 of 1'}, {u'DocDate': u'15-NOV-2010', u'EntityID': u'000003596_20101115113912', u'DocURL': u'http://www-wds.worldbank.org/servlet/WDSServlet?pcont=details&eid=000003596_20101115113912', u'DocType': u'ISDS', u'DocTypeDesc': u'Integrated Safeguards Data Sheet (ISDS),  Vol.1 of 1'}], u'lendprojectcost': 1146050000, u'lendinginstrtype': u'IN', u'theme1': {u'Percent': 20, u'Name': u'Administrative and civil service reform'}, u'grantamt': 0, u'themecode': u'39,25', u'borrower': u'GOVERNMENT OF INDIA', u'sectorcode': u'TI', u'majorsector_percent': [{u'Percent': 100, u'Name': u'Transportation'}], u'board_approval_month': u'October', u'theme_namecode': [{u'code': u'25', u'name': u'Administrative and civil service reform'}, {u'code': u'39', u'name': u'Infrastructure services for private sector development'}], u'countryname': u'Republic of India', u'url': u'http://www.worldbank.org/projects/P121185/first-national-highways-interconnectivity-improvement-project?lang=en', u'projectstatusdisplay': u'Active', u'ibrdcommamt': 500000000, u'sector_namecode': [{u'code': u'TI', u'name': u'Rural and Inter-Urban Roads and Highways'}], u'_id': {u'$oid': u'52b213b38594d8a2be17c786'}}, {u'sector': [{u'Name': u'Other Renewable Energy'}], u'supplementprojectflg': u'N', u'projectfinancialtype': u'OTHER', u'prodline': u'GE', u'mjtheme': [u'Environment and natural resources management'], u'idacommamt': 0, u'impagency': u'NATIONAL ENERGY ADMINISTRATION', u'country_namecode': u\"People's Republic of China!$!CN\", u'mjthemecode': u'11,8', u'totalcommamt': 27280000, u'id': u'P127033', u'mjsector_namecode': [{u'code': u'LX', u'name': u'Energy and mining'}], u'docty': u'Project Appraisal Document,Integrated Safeguards Data Sheet,Project Information Document,Project Information Document,Project Information Document,Integrated Safeguards Data Sheet,Environmental Assessment,Integrated Safeguards Data Sheet,Project Information Document', u'sector1': {u'Percent': 100, u'Name': u'Other Renewable Energy'}, u'lendinginstr': u'Investment Project Financing', u'countrycode': u'CN', u'totalamt': 0, u'mjtheme_namecode': [{u'code': u'11', u'name': u'Environment and natural resources management'}, {u'code': u'8', u'name': u''}], u'boardapprovaldate': u'2013-10-29T00:00:00Z', u'countryshortname': u'China', u'source': u'IBRD', u'prodlinetext': u'Global Environment Project', u'productlinetype': u'L', u'regionname': u'East Asia and Pacific', u'status': u'Active', u'project_name': u'China Renewable Energy Scale-Up Program Phase II', u'envassesmentcategorycode': u'C', u'approvalfy': u'2014', u'project_abstract': {u'cdata': u\"The development objective of the Second Phase of Renewable Energy Scaling-Up Program Project for China is to support the ambitious renewable energy scale-up program in China with a focus on efficiency improvement and reduction of incremental costs. There are five components to the project. The first component of the project is policy support. This will support developing and implementing Renewable Energy (RE) legislation and policies to achieve cost reduction, efficiency improvement, and smooth grid integration. The second component of the project is grid integration/access and technical design. This component will consist of targeted studies to ensure improved grid integration for large-scale grid-connected RE and grid access for distributed RE; and strategic and optimal deployment of key RE technologies to enhance efficiency and reduce costs. The third component of the project is technology improvement. Under this component the technology improvements will include, but not limited to: a) increasing efficiency of existing wind farms; b) improving quality and reliability and reducing costs of off-shore wind turbine technologies; c) increasing efficiency of existing large-scale grid connected solar Photovoltaic (PV) farms; and d) possibly improving Concentrated Solar Power (CSP) domestic manufacturing capacity. The fourth component of the project is pilot demonstration. This component will primarily provide technical assistance on twinning with selected international successful cities, the concept framework of new energy cities, planning, business and financing models, technical design, and policies for distributed generation applications in pilot new energy cities. The fifth component of the project is capacity building and investment support, and project management. This component will: build capacity of government officials and staff at national level and at pilot provincial/municipal levels; help operationalize the China RE training center to be established by developing RE curriculums and training the trainers; and support investors by building innovative RE investment pipelines, including sharing the cost of the owner's engineer for China's first CSP investment under the International Bank for Reconstruction and Development (IBRD) inner Mongolia CSP project.\"}, u'projectdocs': [{u'DocDate': u'18-SEP-2013', u'EntityID': u'000456288_20131017085241', u'DocURL': u'http://www-wds.worldbank.org/servlet/WDSServlet?pcont=details&eid=000456288_20131017085241', u'DocType': u'PAD', u'DocTypeDesc': u'Project Appraisal Document (PAD),  Vol.1 of 1'}, {u'DocDate': u'09-SEP-2013', u'EntityID': u'000356161_20130913152243', u'DocURL': u'http://www-wds.worldbank.org/servlet/WDSServlet?pcont=details&eid=000356161_20130913152243', u'DocType': u'ISDS', u'DocTypeDesc': u'Integrated Safeguards Data Sheet (ISDS),  Vol.1 of 1'}, {u'DocDate': u'10-JUN-2013', u'EntityID': u'090224b081c455f1_1_0', u'DocURL': u'http://www-wds.worldbank.org/servlet/WDSServlet?pcont=details&eid=090224b081c455f1_1_0', u'DocType': u'PID', u'DocTypeDesc': u'Project Information Document (PID),  Vol.'}, {u'DocDate': u'07-JUN-2013', u'EntityID': u'000356161_20130913152850', u'DocURL': u'http://www-wds.worldbank.org/servlet/WDSServlet?pcont=details&eid=000356161_20130913152850', u'DocType': u'PID', u'DocTypeDesc': u'Project Information Document (PID),  Vol.1 of 1'}, {u'DocDate': u'07-JUN-2013', u'EntityID': u'000356161_20130923152851', u'DocURL': u'http://www-wds.worldbank.org/servlet/WDSServlet?pcont=details&eid=000356161_20130923152851', u'DocType': u'PID', u'DocTypeDesc': u'Project Information Document (PID),  Vol.1 of 1'}, {u'DocDate': u'05-JUN-2013', u'EntityID': u'090224b081c29298_1_0', u'DocURL': u'http://www-wds.worldbank.org/servlet/WDSServlet?pcont=details&eid=090224b081c29298_1_0', u'DocType': u'ISDS', u'DocTypeDesc': u'Integrated Safeguards Data Sheet (ISDS),  Vol.'}, {u'DocDate': u'01-JAN-2013', u'EntityID': u'000442464_20130529105320', u'DocURL': u'http://www-wds.worldbank.org/servlet/WDSServlet?pcont=details&eid=000442464_20130529105320', u'DocType': u'EA', u'DocTypeDesc': u'Environmental Assessment (EA),  Vol.1 of 1'}, {u'DocDate': u'29-DEC-2011', u'EntityID': u'0000A8056_2011122915312478', u'DocURL': u'http://www-wds.worldbank.org/servlet/WDSServlet?pcont=details&eid=0000A8056_2011122915312478', u'DocType': u'ISDS', u'DocTypeDesc': u'Integrated Safeguards Data Sheet (ISDS),  Vol.'}, {u'DocDate': u'28-DEC-2011', u'EntityID': u'0000A8056_2011122823402082', u'DocURL': u'http://www-wds.worldbank.org/servlet/WDSServlet?pcont=details&eid=0000A8056_2011122823402082', u'DocType': u'PID', u'DocTypeDesc': u'Project Information Document (PID),  Vol.'}], u'lendprojectcost': 27280000, u'lendinginstrtype': u'IN', u'theme1': {u'Percent': 100, u'Name': u'Climate change'}, u'grantamt': 27280000, u'themecode': u'81', u'borrower': u\"PEOPLE'S REPUBLIC OF CHINA\", u'sectorcode': u'LR', u'majorsector_percent': [{u'Percent': 100, u'Name': u'Energy and mining'}], u'board_approval_month': u'October', u'theme_namecode': [{u'code': u'81', u'name': u'Climate change'}], u'countryname': u\"People's Republic of China\", u'url': u'http://www.worldbank.org/projects/P127033/china-renewable-energy-scale-up-program-phase-ii?lang=en', u'projectstatusdisplay': u'Active', u'ibrdcommamt': 0, u'sector_namecode': [{u'code': u'LR', u'name': u'Other Renewable Energy'}], u'_id': {u'$oid': u'52b213b38594d8a2be17c787'}}, {u'sector': [{u'Name': u'Rural and Inter-Urban Roads and Highways'}], u'supplementprojectflg': u'N', u'projectfinancialtype': u'IDA', u'prodline': u'PE', u'mjtheme': [u'Rural development'], u'idacommamt': 160000000, u'impagency': u'PUBLIC WORKS DEPARTMANT, RAJASTHAN', u'country_namecode': u'Republic of India!$!IN', u'mjthemecode': u'10,7', u'closingdate': u'2018-12-31T00:00:00Z', u'totalcommamt': 160000000, u'id': u'P130164', u'mjsector_namecode': [{u'code': u'TX', u'name': u'Transportation'}], u'docty': u'Project Appraisal Document,Integrated Safeguards Data Sheet,Procurement Plan,Procurement Plan,Project Information Document,Environmental Assessment,Environmental Assessment,Resettlement Plan,Resettlement Plan,Resettlement Plan,Resettlement Plan,Integrated Safeguards Data Sheet,Procurement Plan,Project Information Document,Disbursement Letter,Agreement', u'sector1': {u'Percent': 100, u'Name': u'Rural and Inter-Urban Roads and Highways'}, u'lendinginstr': u'Specific Investment Loan', u'countrycode': u'IN', u'totalamt': 160000000, u'mjtheme_namecode': [{u'code': u'10', u'name': u'Rural development'}, {u'code': u'7', u'name': u''}], u'boardapprovaldate': u'2013-10-29T00:00:00Z', u'countryshortname': u'India', u'source': u'IBRD', u'prodlinetext': u'IBRD/IDA', u'productlinetype': u'L', u'regionname': u'South Asia', u'status': u'Active', u'project_name': u'Rajasthan Road Sector Modernization Project', u'envassesmentcategorycode': u'B', u'approvalfy': u'2014', u'project_abstract': {u'cdata': u'The development objective of the Rajasthan Road Sector Modernization Project for India is to improve rural connectivity, enhance road safety, and strengthen road sector management capacity of the state of Rajasthan. The project has three components. The first component is rural connectivity improvement. This component will support construction of about 2500 kilometer (km) rural roads to provide connectivity to about 1,300 revenue villages with population between 250 and 499 people in the areas of the state not covered by Pradhan Mantri Gram Sadak Yojana (PMGSY) and introduce good practices of cost effective low volume technologies. The second component is road sector modernization and performance enhancement. This component will support implementation of a road sector modernization plan (RSMP) in the following key areas: improved policy framework; modernization of engineering practices and business procedures; sustainable asset management; institutional and human resource development; preparing a pipeline of feasible projects for implementation; and enhancing governance and accountability in public works department (PWD). The third component is road safety management. This component will support the strengthening of road safety management systems in Rajasthan with the objective of reducing the number of fatalities and serious injuries from traffic accidents in the state.'}, u'projectdocs': [{u'DocDate': u'01-OCT-2013', u'EntityID': u'000442464_20131011095013', u'DocURL': u'http://www-wds.worldbank.org/servlet/WDSServlet?pcont=details&eid=000442464_20131011095013', u'DocType': u'PAD', u'DocTypeDesc': u'Project Appraisal Document (PAD),  Vol.1 of 1'}, {u'DocDate': u'17-SEP-2013', u'EntityID': u'090224b081edbfca_1_0', u'DocURL': u'http://www-wds.worldbank.org/servlet/WDSServlet?pcont=details&eid=090224b081edbfca_1_0', u'DocType': u'ISDS', u'DocTypeDesc': u'Integrated Safeguards Data Sheet (ISDS),  Vol.'}, {u'DocDate': u'05-SEP-2013', u'EntityID': u'000442464_20130916105047', u'DocURL': u'http://www-wds.worldbank.org/servlet/WDSServlet?pcont=details&eid=000442464_20130916105047', u'DocType': u'PROP', u'DocTypeDesc': u'Procurement Plan (PROP),  Vol.1 of 1'}, {u'DocDate': u'05-SEP-2013', u'EntityID': u'000442464_20130916105506', u'DocURL': u'http://www-wds.worldbank.org/servlet/WDSServlet?pcont=details&eid=000442464_20130916105506', u'DocType': u'PROP', u'DocTypeDesc': u'Procurement Plan (PROP),  Vol.1 of 1'}, {u'DocDate': u'03-SEP-2013', u'EntityID': u'090224b081e76fbb_1_0', u'DocURL': u'http://www-wds.worldbank.org/servlet/WDSServlet?pcont=details&eid=090224b081e76fbb_1_0', u'DocType': u'PID', u'DocTypeDesc': u'Project Information Document (PID),  Vol.'}, {u'DocDate': u'27-AUG-2013', u'EntityID': u'000442464_20130904111918', u'DocURL': u'http://www-wds.worldbank.org/servlet/WDSServlet?pcont=details&eid=000442464_20130904111918', u'DocType': u'EA', u'DocTypeDesc': u'Environmental Assessment (EA),  Vol.1 of 2'}, {u'DocDate': u'27-AUG-2013', u'EntityID': u'000442464_20130904112419', u'DocURL': u'http://www-wds.worldbank.org/servlet/WDSServlet?pcont=details&eid=000442464_20130904112419', u'DocType': u'EA', u'DocTypeDesc': u'Environmental Assessment (EA),  Vol.2 of 2'}, {u'DocDate': u'22-AUG-2013', u'EntityID': u'000442464_20130828120731', u'DocURL': u'http://www-wds.worldbank.org/servlet/WDSServlet?pcont=details&eid=000442464_20130828120731', u'DocType': u'RPL', u'DocTypeDesc': u'Resettlement Plan (RPL),  Vol.1 of 2'}, {u'DocDate': u'01-AUG-2013', u'EntityID': u'000445729_20130904115721', u'DocURL': u'http://www-wds.worldbank.org/servlet/WDSServlet?pcont=details&eid=000445729_20130904115721', u'DocType': u'RPL', u'DocTypeDesc': u'Resettlement Plan (RPL),  Vol.3 of 4'}, {u'DocDate': u'01-AUG-2013', u'EntityID': u'000333037_20130828125810', u'DocURL': u'http://www-wds.worldbank.org/servlet/WDSServlet?pcont=details&eid=000333037_20130828125810', u'DocType': u'RPL', u'DocTypeDesc': u'Resettlement Plan (RPL),  Vol.2 of 2'}, {u'DocDate': u'01-AUG-2013', u'EntityID': u'000445729_20130904120146', u'DocURL': u'http://www-wds.worldbank.org/servlet/WDSServlet?pcont=details&eid=000445729_20130904120146', u'DocType': u'RPL', u'DocTypeDesc': u'Resettlement Plan (RPL),  Vol.4 of 4'}, {u'DocDate': u'11-JUN-2013', u'EntityID': u'090224b081c4fa5a_1_0', u'DocURL': u'http://www-wds.worldbank.org/servlet/WDSServlet?pcont=details&eid=090224b081c4fa5a_1_0', u'DocType': u'ISDS', u'DocTypeDesc': u'Integrated Safeguards Data Sheet (ISDS),  Vol.'}, {u'DocDate': u'09-MAY-2013', u'EntityID': u'000356161_20130912142847', u'DocURL': u'http://www-wds.worldbank.org/servlet/WDSServlet?pcont=details&eid=000356161_20130912142847', u'DocType': u'PROP', u'DocTypeDesc': u'Procurement Plan (PROP),  Vol.1 of 1'}, {u'DocDate': u'22-APR-2013', u'EntityID': u'090224b081af0043_1_0', u'DocURL': u'http://www-wds.worldbank.org/servlet/WDSServlet?pcont=details&eid=090224b081af0043_1_0', u'DocType': u'PID', u'DocTypeDesc': u'Project Information Document (PID),  Vol.'}, {u'DocDate': u'31-JAN-2013', u'EntityID': u'090224b0819fafe2_1_0', u'DocURL': u'http://www-wds.worldbank.org/servlet/WDSServlet?pcont=details&eid=090224b0819fafe2_1_0', u'DocType': u'Disbursement Letter', u'DocTypeDesc': u'Disbursement Letter (Disbursement Letter),  Vol.'}, {u'DocDate': u'31-JAN-2013', u'EntityID': u'090224b0819fafe0_1_0', u'DocURL': u'http://www-wds.worldbank.org/servlet/WDSServlet?pcont=details&eid=090224b0819fafe0_1_0', u'DocType': u'AGR', u'DocTypeDesc': u'Agreement (AGR),  Vol.'}], u'lendprojectcost': 227000000, u'lendinginstrtype': u'IN', u'theme1': {u'Percent': 87, u'Name': u'Other rural development'}, u'grantamt': 0, u'themecode': u'79', u'borrower': u'THE GOVERNMENT OF INDIA', u'sectorcode': u'TI', u'majorsector_percent': [{u'Percent': 100, u'Name': u'Transportation'}], u'board_approval_month': u'October', u'theme_namecode': [{u'code': u'79', u'name': u'Other rural development'}], u'countryname': u'Republic of India', u'url': u'http://www.worldbank.org/projects/P130164/rajasthan-road-sector-modernization-project?lang=en', u'projectstatusdisplay': u'Active', u'ibrdcommamt': 0, u'sector_namecode': [{u'code': u'TI', u'name': u'Rural and Inter-Urban Roads and Highways'}], u'_id': {u'$oid': u'52b213b38594d8a2be17c788'}}, {u'sector': [{u'Name': u'General public administration sector'}, {u'Name': u'Central government administration'}, {u'Name': u'Public administration- Information and communications'}], u'supplementprojectflg': u'N', u'projectfinancialtype': u'IBRD', u'prodline': u'PE', u'mjtheme': [u'Public sector governance', u'Public sector governance', u'Public sector governance'], u'idacommamt': 0, u'impagency': u'MINISTRY OF FINANCE', u'country_namecode': u'Kingdom of Morocco!$!MA', u'mjthemecode': u'2,2,2', u'closingdate': u'2014-12-31T00:00:00Z', u'totalcommamt': 200000000, u'id': u'P130903', u'mjsector_namecode': [{u'code': u'BX', u'name': u'Public Administration, Law, and Justice'}, {u'code': u'BX', u'name': u'Public Administration, Law, and Justice'}, {u'code': u'BX', u'name': u'Public Administration, Law, and Justice'}], u'docty': u'Program Document,Project Information Document,Project Information Document', u'sector1': {u'Percent': 34, u'Name': u'General public administration sector'}, u'lendinginstr': u'Development Policy Lending', u'countrycode': u'MA', u'sector2': {u'Percent': 33, u'Name': u'Central government administration'}, u'totalamt': 200000000, u'mjtheme_namecode': [{u'code': u'2', u'name': u'Public sector governance'}, {u'code': u'2', u'name': u'Public sector governance'}, {u'code': u'2', u'name': u'Public sector governance'}], u'boardapprovaldate': u'2013-10-29T00:00:00Z', u'countryshortname': u'Morocco', u'source': u'IBRD', u'prodlinetext': u'IBRD/IDA', u'productlinetype': u'L', u'regionname': u'Middle East and North Africa', u'status': u'Active', u'project_name': u'MA Accountability and Transparency DPL', u'approvalfy': u'2014', u'project_abstract': {u'cdata': u\"The objective of this First Transparency and Accountability Development Policy Loan (DPL) Program for Morocco is to support the concretization of key new constitutional governance principles and rights, aimed at increasing transparency and accountability and enhancing citizen engagement and access to information. The series supports structural reforms strengthening economic governance across the public sector and new policies fostering more inclusive and open governance. The DPL has been prepared jointly with the European Union (EU) and the African Development Bank (AfDB), leveraging a further US$ 250 million in support of common key policy actions such as the budget, procurement and open governance reforms. The programmatic approach is warranted by the scope and depth of the government's governance reform program, the implementation of which will require time, assistance, and flexibility. This operation is complemented by the transition fund project supporting the implementation of Morocco's new governance framework. This US$ 4 million grant provides technical assistance for the implementation of structural reforms fostering public engagement; performance based budgeting and fiscal decentralization. The series adopts a holistic and integrated approach to enhance its impact. It is supporting governance reforms across the public sector covering the central government; State owned Enterprises, or SoEs and agencies, local governments as well as inter-governmental relations. The Bank has provided policy advice and technical assistance for the design of most policy measures and laws supported by this DPL, with the support from the MNA multi-donor trust fund. The transition fund governance project will support the implementation of these structural reforms. While building on the long-standing engagement with public administration reform, under the Public Administration Reform Loan (PARL) series, this program supports the concretization of the performance budgeting reform through the adoption and implementation of the new organic budget law and procurement decree. This DPL series also delves into new reform areas derived from the constitution such as access to information, public petitions, as well as into the governance of SoEs and local finances.\"}, u'projectdocs': [{u'DocDate': u'30-SEP-2013', u'EntityID': u'000333037_20131009170139', u'DocURL': u'http://www-wds.worldbank.org/servlet/WDSServlet?pcont=details&eid=000333037_20131009170139', u'DocType': u'PGD', u'DocTypeDesc': u'Program Document (PGD),  Vol.1 of 1'}, {u'DocDate': u'04-SEP-2012', u'EntityID': u'000231615_20121031105539', u'DocURL': u'http://www-wds.worldbank.org/servlet/WDSServlet?pcont=details&eid=000231615_20121031105539', u'DocType': u'PID', u'DocTypeDesc': u'Project Information Document (PID),  Vol.1 of 1'}, {u'DocDate': u'04-SEP-2012', u'EntityID': u'000386194_20121016015521', u'DocURL': u'http://www-wds.worldbank.org/servlet/WDSServlet?pcont=details&eid=000386194_20121016015521', u'DocType': u'PID', u'DocTypeDesc': u'Project Information Document (PID),  Vol.1 of 1'}], u'lendprojectcost': 200000000, u'lendinginstrtype': u'AD', u'theme1': {u'Percent': 33, u'Name': u'Other accountability/anti-corruption'}, u'grantamt': 0, u'themecode': u'27,30,29', u'borrower': u'THE KINGDOM OF MOROCCO', u'sectorcode': u'BM,BC,BZ', u'sector3': {u'Percent': 33, u'Name': u'Public administration- Information and communications'}, u'majorsector_percent': [{u'Percent': 34, u'Name': u'Public Administration, Law, and Justice'}, {u'Percent': 33, u'Name': u'Public Administration, Law, and Justice'}, {u'Percent': 33, u'Name': u'Public Administration, Law, and Justice'}], u'board_approval_month': u'October', u'theme_namecode': [{u'code': u'29', u'name': u'Other accountability/anti-corruption'}, {u'code': u'30', u'name': u'Other public sector governance'}, {u'code': u'27', u'name': u'Public expenditure, financial management and procurement'}], u'countryname': u'Kingdom of Morocco', u'url': u'http://www.worldbank.org/projects/P130903?lang=en', u'projectstatusdisplay': u'Active', u'ibrdcommamt': 200000000, u'sector_namecode': [{u'code': u'BZ', u'name': u'General public administration sector'}, {u'code': u'BC', u'name': u'Central government administration'}, {u'code': u'BM', u'name': u'Public administration- Information and communications'}], u'_id': {u'$oid': u'52b213b38594d8a2be17c789'}}]\n"
     ]
    }
   ],
   "source": [
    "#Inspecting JSON File\n",
    "with open(\"world_bank_projects.json\", \"r\") as json_file:\n",
    "          json_data = json.load(json_file)\n",
    "\n",
    "print(json_data[0:10])"
   ]
  },
  {
   "cell_type": "code",
   "execution_count": 3,
   "metadata": {},
   "outputs": [
    {
     "data": {
      "text/html": [
       "<div>\n",
       "<style scoped>\n",
       "    .dataframe tbody tr th:only-of-type {\n",
       "        vertical-align: middle;\n",
       "    }\n",
       "\n",
       "    .dataframe tbody tr th {\n",
       "        vertical-align: top;\n",
       "    }\n",
       "\n",
       "    .dataframe thead th {\n",
       "        text-align: right;\n",
       "    }\n",
       "</style>\n",
       "<table border=\"1\" class=\"dataframe\">\n",
       "  <thead>\n",
       "    <tr style=\"text-align: right;\">\n",
       "      <th></th>\n",
       "      <th>_id</th>\n",
       "      <th>approvalfy</th>\n",
       "      <th>board_approval_month</th>\n",
       "      <th>boardapprovaldate</th>\n",
       "      <th>borrower</th>\n",
       "      <th>closingdate</th>\n",
       "      <th>country_namecode</th>\n",
       "      <th>countrycode</th>\n",
       "      <th>countryname</th>\n",
       "      <th>countryshortname</th>\n",
       "      <th>...</th>\n",
       "      <th>sectorcode</th>\n",
       "      <th>source</th>\n",
       "      <th>status</th>\n",
       "      <th>supplementprojectflg</th>\n",
       "      <th>theme1</th>\n",
       "      <th>theme_namecode</th>\n",
       "      <th>themecode</th>\n",
       "      <th>totalamt</th>\n",
       "      <th>totalcommamt</th>\n",
       "      <th>url</th>\n",
       "    </tr>\n",
       "  </thead>\n",
       "  <tbody>\n",
       "    <tr>\n",
       "      <th>0</th>\n",
       "      <td>{u'$oid': u'52b213b38594d8a2be17c780'}</td>\n",
       "      <td>1999</td>\n",
       "      <td>November</td>\n",
       "      <td>2013-11-12T00:00:00Z</td>\n",
       "      <td>FEDERAL DEMOCRATIC REPUBLIC OF ETHIOPIA</td>\n",
       "      <td>2018-07-07T00:00:00Z</td>\n",
       "      <td>Federal Democratic Republic of Ethiopia!$!ET</td>\n",
       "      <td>ET</td>\n",
       "      <td>Federal Democratic Republic of Ethiopia</td>\n",
       "      <td>Ethiopia</td>\n",
       "      <td>...</td>\n",
       "      <td>ET,BS,ES,EP</td>\n",
       "      <td>IBRD</td>\n",
       "      <td>Active</td>\n",
       "      <td>N</td>\n",
       "      <td>{u'Percent': 100, u'Name': u'Education for all'}</td>\n",
       "      <td>[{u'code': u'65', u'name': u'Education for all'}]</td>\n",
       "      <td>65</td>\n",
       "      <td>130000000</td>\n",
       "      <td>130000000</td>\n",
       "      <td>http://www.worldbank.org/projects/P129828/ethi...</td>\n",
       "    </tr>\n",
       "    <tr>\n",
       "      <th>1</th>\n",
       "      <td>{u'$oid': u'52b213b38594d8a2be17c781'}</td>\n",
       "      <td>2015</td>\n",
       "      <td>November</td>\n",
       "      <td>2013-11-04T00:00:00Z</td>\n",
       "      <td>GOVERNMENT OF TUNISIA</td>\n",
       "      <td>NaN</td>\n",
       "      <td>Republic of Tunisia!$!TN</td>\n",
       "      <td>TN</td>\n",
       "      <td>Republic of Tunisia</td>\n",
       "      <td>Tunisia</td>\n",
       "      <td>...</td>\n",
       "      <td>BZ,BS</td>\n",
       "      <td>IBRD</td>\n",
       "      <td>Active</td>\n",
       "      <td>N</td>\n",
       "      <td>{u'Percent': 30, u'Name': u'Other economic man...</td>\n",
       "      <td>[{u'code': u'24', u'name': u'Other economic ma...</td>\n",
       "      <td>54,24</td>\n",
       "      <td>0</td>\n",
       "      <td>4700000</td>\n",
       "      <td>http://www.worldbank.org/projects/P144674?lang=en</td>\n",
       "    </tr>\n",
       "    <tr>\n",
       "      <th>2</th>\n",
       "      <td>{u'$oid': u'52b213b38594d8a2be17c782'}</td>\n",
       "      <td>2014</td>\n",
       "      <td>November</td>\n",
       "      <td>2013-11-01T00:00:00Z</td>\n",
       "      <td>MINISTRY OF FINANCE AND ECONOMIC DEVEL</td>\n",
       "      <td>NaN</td>\n",
       "      <td>Tuvalu!$!TV</td>\n",
       "      <td>TV</td>\n",
       "      <td>Tuvalu</td>\n",
       "      <td>Tuvalu</td>\n",
       "      <td>...</td>\n",
       "      <td>TI</td>\n",
       "      <td>IBRD</td>\n",
       "      <td>Active</td>\n",
       "      <td>Y</td>\n",
       "      <td>{u'Percent': 46, u'Name': u'Regional integrati...</td>\n",
       "      <td>[{u'code': u'47', u'name': u'Regional integrat...</td>\n",
       "      <td>52,81,25,47</td>\n",
       "      <td>6060000</td>\n",
       "      <td>6060000</td>\n",
       "      <td>http://www.worldbank.org/projects/P145310?lang=en</td>\n",
       "    </tr>\n",
       "    <tr>\n",
       "      <th>3</th>\n",
       "      <td>{u'$oid': u'52b213b38594d8a2be17c783'}</td>\n",
       "      <td>2014</td>\n",
       "      <td>October</td>\n",
       "      <td>2013-10-31T00:00:00Z</td>\n",
       "      <td>MIN. OF PLANNING AND INT'L COOPERATION</td>\n",
       "      <td>NaN</td>\n",
       "      <td>Republic of Yemen!$!RY</td>\n",
       "      <td>RY</td>\n",
       "      <td>Republic of Yemen</td>\n",
       "      <td>Yemen, Republic of</td>\n",
       "      <td>...</td>\n",
       "      <td>JB</td>\n",
       "      <td>IBRD</td>\n",
       "      <td>Active</td>\n",
       "      <td>N</td>\n",
       "      <td>{u'Percent': 50, u'Name': u'Participation and ...</td>\n",
       "      <td>[{u'code': u'57', u'name': u'Participation and...</td>\n",
       "      <td>59,57</td>\n",
       "      <td>0</td>\n",
       "      <td>1500000</td>\n",
       "      <td>http://www.worldbank.org/projects/P144665?lang=en</td>\n",
       "    </tr>\n",
       "    <tr>\n",
       "      <th>4</th>\n",
       "      <td>{u'$oid': u'52b213b38594d8a2be17c784'}</td>\n",
       "      <td>2014</td>\n",
       "      <td>October</td>\n",
       "      <td>2013-10-31T00:00:00Z</td>\n",
       "      <td>MINISTRY OF FINANCE</td>\n",
       "      <td>2019-04-30T00:00:00Z</td>\n",
       "      <td>Kingdom of Lesotho!$!LS</td>\n",
       "      <td>LS</td>\n",
       "      <td>Kingdom of Lesotho</td>\n",
       "      <td>Lesotho</td>\n",
       "      <td>...</td>\n",
       "      <td>FH,YW,YZ</td>\n",
       "      <td>IBRD</td>\n",
       "      <td>Active</td>\n",
       "      <td>N</td>\n",
       "      <td>{u'Percent': 30, u'Name': u'Export development...</td>\n",
       "      <td>[{u'code': u'45', u'name': u'Export developmen...</td>\n",
       "      <td>41,45</td>\n",
       "      <td>13100000</td>\n",
       "      <td>13100000</td>\n",
       "      <td>http://www.worldbank.org/projects/P144933/seco...</td>\n",
       "    </tr>\n",
       "  </tbody>\n",
       "</table>\n",
       "<p>5 rows × 50 columns</p>\n",
       "</div>"
      ],
      "text/plain": [
       "                                      _id  approvalfy board_approval_month  \\\n",
       "0  {u'$oid': u'52b213b38594d8a2be17c780'}        1999             November   \n",
       "1  {u'$oid': u'52b213b38594d8a2be17c781'}        2015             November   \n",
       "2  {u'$oid': u'52b213b38594d8a2be17c782'}        2014             November   \n",
       "3  {u'$oid': u'52b213b38594d8a2be17c783'}        2014              October   \n",
       "4  {u'$oid': u'52b213b38594d8a2be17c784'}        2014              October   \n",
       "\n",
       "      boardapprovaldate                                 borrower  \\\n",
       "0  2013-11-12T00:00:00Z  FEDERAL DEMOCRATIC REPUBLIC OF ETHIOPIA   \n",
       "1  2013-11-04T00:00:00Z                    GOVERNMENT OF TUNISIA   \n",
       "2  2013-11-01T00:00:00Z   MINISTRY OF FINANCE AND ECONOMIC DEVEL   \n",
       "3  2013-10-31T00:00:00Z   MIN. OF PLANNING AND INT'L COOPERATION   \n",
       "4  2013-10-31T00:00:00Z                      MINISTRY OF FINANCE   \n",
       "\n",
       "            closingdate                              country_namecode  \\\n",
       "0  2018-07-07T00:00:00Z  Federal Democratic Republic of Ethiopia!$!ET   \n",
       "1                   NaN                      Republic of Tunisia!$!TN   \n",
       "2                   NaN                                   Tuvalu!$!TV   \n",
       "3                   NaN                        Republic of Yemen!$!RY   \n",
       "4  2019-04-30T00:00:00Z                       Kingdom of Lesotho!$!LS   \n",
       "\n",
       "  countrycode                              countryname    countryshortname  \\\n",
       "0          ET  Federal Democratic Republic of Ethiopia            Ethiopia   \n",
       "1          TN                      Republic of Tunisia             Tunisia   \n",
       "2          TV                                   Tuvalu              Tuvalu   \n",
       "3          RY                        Republic of Yemen  Yemen, Republic of   \n",
       "4          LS                       Kingdom of Lesotho             Lesotho   \n",
       "\n",
       "                         ...                           sectorcode source  \\\n",
       "0                        ...                          ET,BS,ES,EP   IBRD   \n",
       "1                        ...                                BZ,BS   IBRD   \n",
       "2                        ...                                   TI   IBRD   \n",
       "3                        ...                                   JB   IBRD   \n",
       "4                        ...                             FH,YW,YZ   IBRD   \n",
       "\n",
       "   status  supplementprojectflg  \\\n",
       "0  Active                     N   \n",
       "1  Active                     N   \n",
       "2  Active                     Y   \n",
       "3  Active                     N   \n",
       "4  Active                     N   \n",
       "\n",
       "                                              theme1  \\\n",
       "0   {u'Percent': 100, u'Name': u'Education for all'}   \n",
       "1  {u'Percent': 30, u'Name': u'Other economic man...   \n",
       "2  {u'Percent': 46, u'Name': u'Regional integrati...   \n",
       "3  {u'Percent': 50, u'Name': u'Participation and ...   \n",
       "4  {u'Percent': 30, u'Name': u'Export development...   \n",
       "\n",
       "                                      theme_namecode    themecode   totalamt  \\\n",
       "0  [{u'code': u'65', u'name': u'Education for all'}]           65  130000000   \n",
       "1  [{u'code': u'24', u'name': u'Other economic ma...        54,24          0   \n",
       "2  [{u'code': u'47', u'name': u'Regional integrat...  52,81,25,47    6060000   \n",
       "3  [{u'code': u'57', u'name': u'Participation and...        59,57          0   \n",
       "4  [{u'code': u'45', u'name': u'Export developmen...        41,45   13100000   \n",
       "\n",
       "  totalcommamt                                                url  \n",
       "0    130000000  http://www.worldbank.org/projects/P129828/ethi...  \n",
       "1      4700000  http://www.worldbank.org/projects/P144674?lang=en  \n",
       "2      6060000  http://www.worldbank.org/projects/P145310?lang=en  \n",
       "3      1500000  http://www.worldbank.org/projects/P144665?lang=en  \n",
       "4     13100000  http://www.worldbank.org/projects/P144933/seco...  \n",
       "\n",
       "[5 rows x 50 columns]"
      ]
     },
     "execution_count": 3,
     "metadata": {},
     "output_type": "execute_result"
    }
   ],
   "source": [
    "#Converting to Pandas Dataframe\n",
    "json_df = pd.read_json(\"world_bank_projects.json\")\n",
    "json_df.head()"
   ]
  },
  {
   "cell_type": "markdown",
   "metadata": {},
   "source": [
    "Then, we will investigate the data to get a better sense of what we're dealing with:"
   ]
  },
  {
   "cell_type": "code",
   "execution_count": 4,
   "metadata": {},
   "outputs": [
    {
     "name": "stdout",
     "output_type": "stream",
     "text": [
      "<class 'pandas.core.frame.DataFrame'>\n",
      "RangeIndex: 500 entries, 0 to 499\n",
      "Data columns (total 50 columns):\n",
      "_id                         500 non-null object\n",
      "approvalfy                  500 non-null int64\n",
      "board_approval_month        500 non-null object\n",
      "boardapprovaldate           500 non-null object\n",
      "borrower                    485 non-null object\n",
      "closingdate                 370 non-null object\n",
      "country_namecode            500 non-null object\n",
      "countrycode                 500 non-null object\n",
      "countryname                 500 non-null object\n",
      "countryshortname            500 non-null object\n",
      "docty                       446 non-null object\n",
      "envassesmentcategorycode    430 non-null object\n",
      "grantamt                    500 non-null int64\n",
      "ibrdcommamt                 500 non-null int64\n",
      "id                          500 non-null object\n",
      "idacommamt                  500 non-null int64\n",
      "impagency                   472 non-null object\n",
      "lendinginstr                495 non-null object\n",
      "lendinginstrtype            495 non-null object\n",
      "lendprojectcost             500 non-null int64\n",
      "majorsector_percent         500 non-null object\n",
      "mjsector_namecode           500 non-null object\n",
      "mjtheme                     491 non-null object\n",
      "mjtheme_namecode            500 non-null object\n",
      "mjthemecode                 500 non-null object\n",
      "prodline                    500 non-null object\n",
      "prodlinetext                500 non-null object\n",
      "productlinetype             500 non-null object\n",
      "project_abstract            362 non-null object\n",
      "project_name                500 non-null object\n",
      "projectdocs                 446 non-null object\n",
      "projectfinancialtype        500 non-null object\n",
      "projectstatusdisplay        500 non-null object\n",
      "regionname                  500 non-null object\n",
      "sector                      500 non-null object\n",
      "sector1                     500 non-null object\n",
      "sector2                     380 non-null object\n",
      "sector3                     265 non-null object\n",
      "sector4                     174 non-null object\n",
      "sector_namecode             500 non-null object\n",
      "sectorcode                  500 non-null object\n",
      "source                      500 non-null object\n",
      "status                      500 non-null object\n",
      "supplementprojectflg        498 non-null object\n",
      "theme1                      500 non-null object\n",
      "theme_namecode              491 non-null object\n",
      "themecode                   491 non-null object\n",
      "totalamt                    500 non-null int64\n",
      "totalcommamt                500 non-null int64\n",
      "url                         500 non-null object\n",
      "dtypes: int64(7), object(43)\n",
      "memory usage: 195.4+ KB\n"
     ]
    }
   ],
   "source": [
    "#More Investigation to get Relevant Column Names and Corresponding Data Types\n",
    "json_df.info()"
   ]
  },
  {
   "cell_type": "markdown",
   "metadata": {},
   "source": [
    "# Exercise 1 - Find the 10 countries with most projects"
   ]
  },
  {
   "cell_type": "code",
   "execution_count": 5,
   "metadata": {},
   "outputs": [
    {
     "data": {
      "text/plain": [
       "People's Republic of China                  19\n",
       "Republic of Indonesia                       19\n",
       "Socialist Republic of Vietnam               17\n",
       "Republic of India                           16\n",
       "Republic of Yemen                           13\n",
       "Kingdom of Morocco                          12\n",
       "People's Republic of Bangladesh             12\n",
       "Nepal                                       12\n",
       "Republic of Mozambique                      11\n",
       "Africa                                      11\n",
       "Burkina Faso                                 9\n",
       "Islamic Republic of Pakistan                 9\n",
       "Federative Republic of Brazil                9\n",
       "United Republic of Tanzania                  8\n",
       "Republic of Armenia                          8\n",
       "Republic of Tajikistan                       8\n",
       "Kyrgyz Republic                              7\n",
       "Federal Republic of Nigeria                  7\n",
       "Hashemite Kingdom of Jordan                  7\n",
       "Lao People's Democratic Republic             7\n",
       "West Bank and Gaza                           6\n",
       "Republic of Peru                             6\n",
       "Republic of Nicaragua                        6\n",
       "Islamic State of Afghanistan                 6\n",
       "Democratic Republic of the Congo             6\n",
       "Republic of Kenya                            6\n",
       "Republic of Liberia                          5\n",
       "Republic of Uzbekistan                       5\n",
       "The Independent State of Papua New Guine     5\n",
       "Republic of Haiti                            5\n",
       "                                            ..\n",
       "Republic of Cameroon                         2\n",
       "Democratic Republic of Sao Tome and Prin     2\n",
       "Plurinational State of Bolivia               2\n",
       "Democratic Republic of Timor-Leste           2\n",
       "Jamaica                                      2\n",
       "United Mexican States                        2\n",
       "Republic of Seychelles                       2\n",
       "People's Republic of Angola                  1\n",
       "Republic of Kiribati                         1\n",
       "Republic of Poland                           1\n",
       "Republic of Serbia                           1\n",
       "Kingdom of Thailand                          1\n",
       "East Asia and Pacific                        1\n",
       "Kingdom of Tonga                             1\n",
       "Republic of Belarus                          1\n",
       "Republic of Panama                           1\n",
       "Democratic Socialist Republic of Sri Lan     1\n",
       "Republic of Congo                            1\n",
       "Republic of Chile                            1\n",
       "Antigua and Barbuda                          1\n",
       "Tuvalu                                       1\n",
       "Europe and Central Asia                      1\n",
       "Romania                                      1\n",
       "Republic of Costa Rica                       1\n",
       "Republic of Cape Verde                       1\n",
       "Republic of Zimbabwe                         1\n",
       "Central African Republic                     1\n",
       "Bosnia and Herzegovina                       1\n",
       "Republic of Namibia                          1\n",
       "Republic of Chad                             1\n",
       "Name: countryname, Length: 118, dtype: int64"
      ]
     },
     "execution_count": 5,
     "metadata": {},
     "output_type": "execute_result"
    }
   ],
   "source": [
    "#Finding Top 10 Countries by Project Count\n",
    "top_countries = json_df[[\"countryname\",\"project_name\",\"mjtheme_namecode\",\"mjtheme\",\"mjthemecode\"]]\n",
    "top_countries[\"countryname\"].value_counts()"
   ]
  },
  {
   "cell_type": "code",
   "execution_count": 6,
   "metadata": {},
   "outputs": [
    {
     "data": {
      "text/plain": [
       "People's Republic of China         19\n",
       "Republic of Indonesia              19\n",
       "Socialist Republic of Vietnam      17\n",
       "Republic of India                  16\n",
       "Republic of Yemen                  13\n",
       "Kingdom of Morocco                 12\n",
       "People's Republic of Bangladesh    12\n",
       "Nepal                              12\n",
       "Republic of Mozambique             11\n",
       "Africa                             11\n",
       "Name: countryname, dtype: int64"
      ]
     },
     "execution_count": 6,
     "metadata": {},
     "output_type": "execute_result"
    }
   ],
   "source": [
    "#Accessing Top 10 countries\n",
    "top_countries[\"countryname\"].value_counts()[0:10]"
   ]
  },
  {
   "cell_type": "markdown",
   "metadata": {},
   "source": [
    "So our top 10 countries by project count include the above 10 countries. Now we need to find the top 10 countries by project theme, but we noticed earlier that some themes were missing (only 491/500). As such, we will need to use the alternative variable \"mhtheme_namecode\", which is a list of dictionaries (as seen below)...challenging but doable."
   ]
  },
  {
   "cell_type": "code",
   "execution_count": 7,
   "metadata": {},
   "outputs": [
    {
     "data": {
      "text/plain": [
       "list"
      ]
     },
     "execution_count": 7,
     "metadata": {},
     "output_type": "execute_result"
    }
   ],
   "source": [
    "type(top_countries.mjtheme_namecode[0])"
   ]
  },
  {
   "cell_type": "markdown",
   "metadata": {},
   "source": [
    "# Q2 and Q3 - Find the top 10 major project themes (using column 'mjtheme_namecode') and create a df with missing values filled in"
   ]
  },
  {
   "cell_type": "markdown",
   "metadata": {},
   "source": [
    "We will normalize JSON file into a df by using \"mjtheme_namecode\" and create a name key and a code key by dropping duplicates and misisng rows. We will then map the key into the new filled in projects df."
   ]
  },
  {
   "cell_type": "code",
   "execution_count": 8,
   "metadata": {},
   "outputs": [],
   "source": [
    "info = json.load(open('data/world_bank_projects.json'))\n",
    "new_df = json_normalize(data=info, record_path='mjtheme_namecode', errors='ignore')"
   ]
  },
  {
   "cell_type": "code",
   "execution_count": 10,
   "metadata": {},
   "outputs": [
    {
     "data": {
      "text/plain": [
       "code  name                                        \n",
       "11    Environment and natural resources management    250\n",
       "10    Rural development                               216\n",
       "8     Human development                               210\n",
       "2     Public sector governance                        199\n",
       "6     Social protection and risk management           168\n",
       "4     Financial and private sector development        146\n",
       "7     Social dev/gender/inclusion                     130\n",
       "5     Trade and integration                            77\n",
       "9     Urban development                                50\n",
       "1     Economic management                              38\n",
       "Name: name, dtype: int64"
      ]
     },
     "execution_count": 10,
     "metadata": {},
     "output_type": "execute_result"
    }
   ],
   "source": [
    "#Create a key df of unique codes and names\n",
    "key = new_df.drop_duplicates()\n",
    "key = key.loc[key['name'] != '']\n",
    "\n",
    "#Set code as index\n",
    "key.set_index('code',inplace=True)\n",
    "\n",
    "#Map key names to new df\n",
    "new_df['name'] = new_df['code'].map(key['name'])\n",
    "\n",
    "#Finding top 10 projects by count\n",
    "top10_projects = new_df.groupby(['code','name'])['name'].count().sort_values(ascending=False)\n",
    "top10_projects.head(10)"
   ]
  }
 ],
 "metadata": {
  "kernelspec": {
   "display_name": "Python 2",
   "language": "python",
   "name": "python2"
  },
  "language_info": {
   "codemirror_mode": {
    "name": "ipython",
    "version": 2
   },
   "file_extension": ".py",
   "mimetype": "text/x-python",
   "name": "python",
   "nbconvert_exporter": "python",
   "pygments_lexer": "ipython2",
   "version": "2.7.15"
  }
 },
 "nbformat": 4,
 "nbformat_minor": 1
}
