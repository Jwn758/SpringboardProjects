{
 "cells": [
  {
   "cell_type": "markdown",
   "metadata": {},
   "source": [
    "This exercise will require you to pull some data from the Qunadl API. Qaundl is currently the most widely used aggregator of financial market data."
   ]
  },
  {
   "cell_type": "markdown",
   "metadata": {},
   "source": [
    "As a first step, you will need to register a free account on the http://www.quandl.com website."
   ]
  },
  {
   "cell_type": "markdown",
   "metadata": {},
   "source": [
    "After you register, you will be provided with a unique API key, that you should store:"
   ]
  },
  {
   "cell_type": "code",
   "execution_count": 1,
   "metadata": {},
   "outputs": [],
   "source": [
    "# Store the API key as a string - according to PEP8, constants are always named in all upper case\n",
    "API_KEY = ''"
   ]
  },
  {
   "cell_type": "markdown",
   "metadata": {},
   "source": [
    "Qaundl has a large number of data sources, but, unfortunately, most of them require a Premium subscription. Still, there are also a good number of free datasets."
   ]
  },
  {
   "cell_type": "markdown",
   "metadata": {},
   "source": [
    "For this mini project, we will focus on equities data from the Frankfurt Stock Exhange (FSE), which is available for free. We'll try and analyze the stock prices of a company called Carl Zeiss Meditec, which manufactures tools for eye examinations, as well as medical lasers for laser eye surgery: https://www.zeiss.com/meditec/int/home.html. The company is listed under the stock ticker AFX_X."
   ]
  },
  {
   "cell_type": "markdown",
   "metadata": {},
   "source": [
    "You can find the detailed Quandl API instructions here: https://docs.quandl.com/docs/time-series"
   ]
  },
  {
   "cell_type": "markdown",
   "metadata": {},
   "source": [
    "While there is a dedicated Python package for connecting to the Quandl API, we would prefer that you use the *requests* package, which can be easily downloaded using *pip* or *conda*. You can find the documentation for the package here: http://docs.python-requests.org/en/master/ "
   ]
  },
  {
   "cell_type": "markdown",
   "metadata": {},
   "source": [
    "Finally, apart from the *requests* package, you are encouraged to not use any third party Python packages, such as *pandas*, and instead focus on what's available in the Python Standard Library (the *collections* module might come in handy: https://pymotw.com/3/collections/).\n",
    "Also, since you won't have access to DataFrames, you are encouraged to us Python's native data structures - preferably dictionaries, though some questions can also be answered using lists.\n",
    "You can read more on these data structures here: https://docs.python.org/3/tutorial/datastructures.html"
   ]
  },
  {
   "cell_type": "markdown",
   "metadata": {},
   "source": [
    "Keep in mind that the JSON responses you will be getting from the API map almost one-to-one to Python's dictionaries. Unfortunately, they can be very nested, so make sure you read up on indexing dictionaries in the documentation provided above."
   ]
  },
  {
   "cell_type": "code",
   "execution_count": 2,
   "metadata": {},
   "outputs": [],
   "source": [
    "# First, import the relevant modules\n",
    "import requests\n"
   ]
  },
  {
   "cell_type": "markdown",
   "metadata": {},
   "source": [
    "These are your tasks for this mini project:\n",
    "\n",
    "1. Collect data from the Franfurt Stock Exchange, for the ticker AFX_X, for the whole year 2017 (keep in mind that the date format is YYYY-MM-DD).\n",
    "2. Convert the returned JSON object into a Python dictionary.\n",
    "3. Calculate what the highest and lowest opening prices were for the stock in this period.\n",
    "4. What was the largest change in any one day (based on High and Low price)?\n",
    "5. What was the largest change between any two days (based on Closing Price)?\n",
    "6. What was the average daily trading volume during this year?\n",
    "7. (Optional) What was the median trading volume during this year. (Note: you may need to implement your own function for calculating the median.)"
   ]
  },
  {
   "cell_type": "code",
   "execution_count": 3,
   "metadata": {},
   "outputs": [],
   "source": [
    "# Calling data from Quandl's FSE Database for AFX_X for 2017\n",
    "url = \"https://www.quandl.com/api/v3/datasets/FSE/AFX_X/data.json?&start_date=2017-01-01&end_date=2017-12-31&api_key=INCLUDEAPIKEYHERE\"\n",
    "r = requests.get(url)\n"
   ]
  },
  {
   "cell_type": "code",
   "execution_count": 4,
   "metadata": {},
   "outputs": [
    {
     "data": {
      "text/plain": [
       "[u'Date',\n",
       " u'Open',\n",
       " u'High',\n",
       " u'Low',\n",
       " u'Close',\n",
       " u'Change',\n",
       " u'Traded Volume',\n",
       " u'Turnover',\n",
       " u'Last Price of the Day',\n",
       " u'Daily Traded Units',\n",
       " u'Daily Turnover']"
      ]
     },
     "execution_count": 4,
     "metadata": {},
     "output_type": "execute_result"
    }
   ],
   "source": [
    "# Inspect the JSON structure and converting it into a Python dictionary\n",
    "json_data = r.json()\n",
    "json_data[\"dataset_data\"][\"column_names\"]"
   ]
  },
  {
   "cell_type": "code",
   "execution_count": 5,
   "metadata": {},
   "outputs": [
    {
     "name": "stdout",
     "output_type": "stream",
     "text": [
      "The maximum date and value pair is:\n",
      "2017-12-14\n",
      "53.11\n",
      "The minimum date and value pair is:\n",
      "2017-01-24\n",
      "34.0\n"
     ]
    }
   ],
   "source": [
    "#Answering Question 3 - Calculate what the highest and lowest opening prices were for the stock in this period.\n",
    "open_dict = {row[0]: row[1] for row in json_data[\"dataset_data\"][\"data\"] if row[1] != None}\n",
    "open_maxdate, open_maxvalue = max(open_dict.items(), key=lambda k: k[1])\n",
    "open_mindate, open_minvalue = min(open_dict.items(), key=lambda k: k[1])\n",
    "print(\"The maximum date and value pair is:\") \n",
    "print(open_maxdate) \n",
    "print(open_maxvalue)\n",
    "print(\"The minimum date and value pair is:\") \n",
    "print(open_mindate)\n",
    "print(open_minvalue)\n"
   ]
  },
  {
   "cell_type": "code",
   "execution_count": 6,
   "metadata": {},
   "outputs": [
    {
     "name": "stdout",
     "output_type": "stream",
     "text": [
      "The day with the most change was:\n",
      "2017-05-11\n",
      "...experiencing a change of:\n",
      "2.81\n"
     ]
    }
   ],
   "source": [
    "#Answering Question 4 - What was the largest change in any one day (based on High and Low price)?\n",
    "daily_changes = {row[0]: (row[2] - row[3]) for row in json_data[\"dataset_data\"][\"data\"] if row[1] != None}\n",
    "daily_changes_maxdate, daily_changes_maxvalue = max(daily_changes.items(), key=lambda k: k[1])\n",
    "print(\"The day with the most change was:\")\n",
    "print(daily_changes_maxdate)\n",
    "print(\"...experiencing a change of:\")\n",
    "print(daily_changes_maxvalue)"
   ]
  },
  {
   "cell_type": "code",
   "execution_count": 7,
   "metadata": {},
   "outputs": [
    {
     "name": "stdout",
     "output_type": "stream",
     "text": [
      "The day with the largest change and the amount changed are as follows:\n",
      "2017-08-08\n",
      "2.56\n"
     ]
    }
   ],
   "source": [
    "#Answering Question 5 - What was the largest change between any two days (based on Closing Price)?\n",
    "close_twodaydelta_dict = {}\n",
    "close_prev =  json_data[\"dataset_data\"][\"data\"][0][4]\n",
    "\n",
    "for row in json_data[\"dataset_data\"][\"data\"]:\n",
    "    close = row[4]\n",
    "    close_twodaydelta_dict[row[0]] = abs(close_prev - close)\n",
    "    close_prev = close\n",
    "\n",
    "close_delta_max_date, close_delta_max = max(close_twodaydelta_dict.items(), key=lambda k:k[1])\n",
    "print(\"The day with the largest change and the amount changed are as follows:\")\n",
    "print(close_delta_max_date)\n",
    "print(close_delta_max)"
   ]
  },
  {
   "cell_type": "code",
   "execution_count": 8,
   "metadata": {},
   "outputs": [
    {
     "name": "stdout",
     "output_type": "stream",
     "text": [
      "The average trading volume in 2017 was:\n",
      "89124.3372549\n"
     ]
    }
   ],
   "source": [
    "#Answering Question 6 - What was the average daily trading volume during this year?\n",
    "tradingvolumesum = 0\n",
    "daystraded = 0\n",
    "\n",
    "for row in json_data[\"dataset_data\"][\"data\"]:\n",
    "    tradingvolumesum = tradingvolumesum + row[6]\n",
    "    daystraded = daystraded + 1\n",
    "    \n",
    "avg_trading_vol = tradingvolumesum / daystraded\n",
    "print(\"The average trading volume in 2017 was:\")\n",
    "print(avg_trading_vol)"
   ]
  },
  {
   "cell_type": "code",
   "execution_count": 9,
   "metadata": {},
   "outputs": [
    {
     "name": "stdout",
     "output_type": "stream",
     "text": [
      "The amount of days traded is...\n",
      "127\n",
      "...so do take the median we can just get the average of the 2 middle items in our sorted list which is:\n",
      "76443.0\n"
     ]
    }
   ],
   "source": [
    "#Answering Question 7 - What was the median trading volume during this year. \n",
    "volume = [row[6] for row in json_data[\"dataset_data\"][\"data\"]]\n",
    "volume.sort()\n",
    "print(\"The amount of days traded is...\")\n",
    "print(len(volume)/2)\n",
    "print(\"...so do take the median we can just get the average of the 2 middle items in our sorted list which is:\")\n",
    "print((volume[127] + volume[128])/2)"
   ]
  }
 ],
 "metadata": {
  "kernelspec": {
   "display_name": "Python 2",
   "language": "python",
   "name": "python2"
  },
  "language_info": {
   "codemirror_mode": {
    "name": "ipython",
    "version": 2
   },
   "file_extension": ".py",
   "mimetype": "text/x-python",
   "name": "python",
   "nbconvert_exporter": "python",
   "pygments_lexer": "ipython2",
   "version": "2.7.15"
  }
 },
 "nbformat": 4,
 "nbformat_minor": 2
}
