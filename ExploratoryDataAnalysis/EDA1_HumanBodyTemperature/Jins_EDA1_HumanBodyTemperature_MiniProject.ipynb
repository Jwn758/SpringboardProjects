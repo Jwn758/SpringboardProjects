{
 "cells": [
  {
   "cell_type": "markdown",
   "metadata": {},
   "source": [
    "# What is the True Normal Human Body Temperature? \n",
    "\n",
    "#### Background\n",
    "\n",
    "The mean normal body temperature was held to be 37$^{\\circ}$C or 98.6$^{\\circ}$F for more than 120 years since it was first conceptualized and reported by Carl Wunderlich in a famous 1868 book. But, is this value statistically correct?"
   ]
  },
  {
   "cell_type": "markdown",
   "metadata": {},
   "source": [
    "<h3>Exercises</h3>\n",
    "\n",
    "<p>In this exercise, you will analyze a dataset of human body temperatures and employ the concepts of hypothesis testing, confidence intervals, and statistical significance.</p>\n",
    "\n",
    "<p>Answer the following questions <b>in this notebook below and submit to your Github account</b>.</p> \n",
    "\n",
    "<ol>\n",
    "<li>  Is the distribution of body temperatures normal? \n",
    "    <ul>\n",
    "    <li> Although this is not a requirement for the Central Limit Theorem to hold (read the introduction on Wikipedia's page about the CLT carefully: https://en.wikipedia.org/wiki/Central_limit_theorem), it gives us some peace of mind that the population may also be normally distributed if we assume that this sample is representative of the population.\n",
    "    <li> Think about the way you're going to check for the normality of the distribution. Graphical methods are usually used first, but there are also other ways: https://en.wikipedia.org/wiki/Normality_test\n",
    "    </ul>\n",
    "<li>  Is the sample size large? Are the observations independent?\n",
    "    <ul>\n",
    "    <li> Remember that this is a condition for the Central Limit Theorem, and hence the statistical tests we are using, to apply.\n",
    "    </ul>\n",
    "<li>  Is the true population mean really 98.6 degrees F?\n",
    "    <ul>\n",
    "    <li> First, try a bootstrap hypothesis test.\n",
    "    <li> Now, let's try frequentist statistical testing. Would you use a one-sample or two-sample test? Why?\n",
    "    <li> In this situation, is it appropriate to use the $t$ or $z$ statistic? \n",
    "    <li> Now try using the other test. How is the result be different? Why?\n",
    "    </ul>\n",
    "<li>  Draw a small sample of size 10 from the data and repeat both frequentist tests. \n",
    "    <ul>\n",
    "    <li> Which one is the correct one to use? \n",
    "    <li> What do you notice? What does this tell you about the difference in application of the $t$ and $z$ statistic?\n",
    "    </ul>\n",
    "<li>  At what temperature should we consider someone's temperature to be \"abnormal\"?\n",
    "    <ul>\n",
    "    <li> As in the previous example, try calculating everything using the boostrap approach, as well as the frequentist approach.\n",
    "    <li> Start by computing the margin of error and confidence interval. When calculating the confidence interval, keep in mind that you should use the appropriate formula for one draw, and not N draws.\n",
    "    </ul>\n",
    "<li>  Is there a significant difference between males and females in normal temperature?\n",
    "    <ul>\n",
    "    <li> What testing approach did you use and why?\n",
    "    <li> Write a story with your conclusion in the context of the original problem.\n",
    "    </ul>\n",
    "</ol>"
   ]
  },
  {
   "cell_type": "code",
   "execution_count": 1,
   "metadata": {},
   "outputs": [],
   "source": [
    "import pandas as pd\n",
    "import matplotlib.pyplot as plt\n",
    "import numpy as np\n",
    "\n",
    "df = pd.read_csv('data/human_body_temperature.csv')"
   ]
  },
  {
   "cell_type": "code",
   "execution_count": 2,
   "metadata": {},
   "outputs": [
    {
     "data": {
      "text/html": [
       "<div>\n",
       "<style scoped>\n",
       "    .dataframe tbody tr th:only-of-type {\n",
       "        vertical-align: middle;\n",
       "    }\n",
       "\n",
       "    .dataframe tbody tr th {\n",
       "        vertical-align: top;\n",
       "    }\n",
       "\n",
       "    .dataframe thead th {\n",
       "        text-align: right;\n",
       "    }\n",
       "</style>\n",
       "<table border=\"1\" class=\"dataframe\">\n",
       "  <thead>\n",
       "    <tr style=\"text-align: right;\">\n",
       "      <th></th>\n",
       "      <th>temperature</th>\n",
       "      <th>gender</th>\n",
       "      <th>heart_rate</th>\n",
       "    </tr>\n",
       "  </thead>\n",
       "  <tbody>\n",
       "    <tr>\n",
       "      <th>0</th>\n",
       "      <td>99.3</td>\n",
       "      <td>F</td>\n",
       "      <td>68.0</td>\n",
       "    </tr>\n",
       "    <tr>\n",
       "      <th>1</th>\n",
       "      <td>98.4</td>\n",
       "      <td>F</td>\n",
       "      <td>81.0</td>\n",
       "    </tr>\n",
       "    <tr>\n",
       "      <th>2</th>\n",
       "      <td>97.8</td>\n",
       "      <td>M</td>\n",
       "      <td>73.0</td>\n",
       "    </tr>\n",
       "    <tr>\n",
       "      <th>3</th>\n",
       "      <td>99.2</td>\n",
       "      <td>F</td>\n",
       "      <td>66.0</td>\n",
       "    </tr>\n",
       "    <tr>\n",
       "      <th>4</th>\n",
       "      <td>98.0</td>\n",
       "      <td>F</td>\n",
       "      <td>73.0</td>\n",
       "    </tr>\n",
       "  </tbody>\n",
       "</table>\n",
       "</div>"
      ],
      "text/plain": [
       "   temperature gender  heart_rate\n",
       "0         99.3      F        68.0\n",
       "1         98.4      F        81.0\n",
       "2         97.8      M        73.0\n",
       "3         99.2      F        66.0\n",
       "4         98.0      F        73.0"
      ]
     },
     "execution_count": 2,
     "metadata": {},
     "output_type": "execute_result"
    }
   ],
   "source": [
    "# Your work here.\n",
    "df.head()"
   ]
  },
  {
   "cell_type": "markdown",
   "metadata": {},
   "source": [
    "# Q1 - Is the distribution of body temperatures normal?"
   ]
  },
  {
   "cell_type": "markdown",
   "metadata": {},
   "source": [
    "We'll perform both graphical and quantiative tests to check if the dataset is normally distributed"
   ]
  },
  {
   "cell_type": "code",
   "execution_count": 3,
   "metadata": {},
   "outputs": [
    {
     "data": {
      "image/png": "[encoded data removed]",
      "text/plain": [
       "<Figure size 432x288 with 1 Axes>"
      ]
     },
     "metadata": {
      "needs_background": "light"
     },
     "output_type": "display_data"
    }
   ],
   "source": [
    "#Checking to see if distribution of body temperatures normal follow a normally distributed bell curve\n",
    "n_bins = int(np.sqrt(len(df.temperature)))\n",
    "\n",
    "_ = plt.hist(df.temperature, bins = n_bins)\n",
    "_ = plt.xlabel(\"Body Temperature\")\n",
    "_ = plt.ylabel(\"# of Observations\")\n",
    "plt.show()"
   ]
  },
  {
   "cell_type": "markdown",
   "metadata": {},
   "source": [
    "Graphically plotting the dataset shows that the data is normally distributed"
   ]
  },
  {
   "cell_type": "code",
   "execution_count": 4,
   "metadata": {},
   "outputs": [
    {
     "data": {
      "image/png": "[encoded data removed]",
      "text/plain": [
       "<Figure size 432x288 with 1 Axes>"
      ]
     },
     "metadata": {
      "needs_background": "light"
     },
     "output_type": "display_data"
    },
    {
     "name": "stdout",
     "output_type": "stream",
     "text": [
      "('Check to see that 68% of observations fall below a temp of: ', 98.97958854813581)\n",
      "('Check to see that 95% of observations fall below a temp of: ', 99.70994632704085)\n",
      "[98.6 99.3]\n"
     ]
    }
   ],
   "source": [
    "#Conducting additional quantitative tests to see if dataset is indeed normally distributed\n",
    "\n",
    "def ecdf(data):\n",
    "    n = float(len(data))\n",
    "    #x-data for the ECDF\n",
    "    x = np.sort(data)\n",
    "    #y-data for the ECDF\n",
    "    y = np.arange(1, n+1) / n\n",
    "    \n",
    "    return x, y\n",
    "\n",
    "x_temp, y_temp = ecdf(df[\"temperature\"])\n",
    "mean_temp = np.mean(df[\"temperature\"])\n",
    "stdev_temp = np.std(df[\"temperature\"])\n",
    "\n",
    "_ = plt.plot(x_temp, y_temp)\n",
    "_ = plt.xlabel(\"Body Temperature\")\n",
    "_ = plt.ylabel(\"ECDF\")\n",
    "plt.margins(0.02)\n",
    "plt.show()\n",
    "\n",
    "\n",
    "print(\"Check to see that 68% of observations fall below a temp of: \", mean_temp + stdev_temp)\n",
    "print(\"Check to see that 95% of observations fall below a temp of: \", mean_temp + 2*stdev_temp)\n",
    "print(np.percentile(df[\"temperature\"], [68,95]))\n"
   ]
  },
  {
   "cell_type": "markdown",
   "metadata": {},
   "source": [
    "# Q2 - Is the sample size large? Are the observations independent?"
   ]
  },
  {
   "cell_type": "markdown",
   "metadata": {},
   "source": [
    "Check to see if sample size is larger than 30"
   ]
  },
  {
   "cell_type": "code",
   "execution_count": 5,
   "metadata": {},
   "outputs": [
    {
     "name": "stdout",
     "output_type": "stream",
     "text": [
      "Sample Size is Large (aka n > 30)\n"
     ]
    }
   ],
   "source": [
    "#Checking to see if sample size is large?\n",
    "if (len(df[\"temperature\"]) > 30):\n",
    "    print(\"Sample Size is Large (aka n > 30)\")\n",
    "else:\n",
    "    print(\"Sample Size is Too Small (aka n <30)\")"
   ]
  },
  {
   "cell_type": "code",
   "execution_count": 6,
   "metadata": {},
   "outputs": [],
   "source": [
    "#Checking to see if observations are independent?"
   ]
  },
  {
   "cell_type": "markdown",
   "metadata": {},
   "source": [
    "Assume observations are independent given previous tests and assumptions"
   ]
  },
  {
   "cell_type": "markdown",
   "metadata": {},
   "source": [
    "# Q3 - Is the true population mean really 98.6 degrees F?"
   ]
  },
  {
   "cell_type": "markdown",
   "metadata": {},
   "source": [
    "We will perform hypothesis testing with the following null hypothesis:\n",
    "Null Hypothesis: The true population mean is really 98.6 degrees F"
   ]
  },
  {
   "cell_type": "code",
   "execution_count": 7,
   "metadata": {},
   "outputs": [
    {
     "name": "stdout",
     "output_type": "stream",
     "text": [
      "('mean:', 98.24921238461539)\n",
      "('standard deviation:', 0.0006368665772408766)\n",
      "('95% confidence interval:', array([98.12384615, 98.37155769]))\n",
      "('P value is:', 0)\n"
     ]
    }
   ],
   "source": [
    "#First, we will try a bootstrap hypothesis test\n",
    "\n",
    "#Creating helper functions for bootstrapping method\n",
    "def bootstrap_replicate_1d(data, func):\n",
    "    #Generating bootstrap replicate of 1-d data\n",
    "    bs_sample = np.random.choice(data, len(data))\n",
    "    return func(bs_sample)\n",
    "\n",
    "def draw_bs_reps(data, func, size = 1):\n",
    "    #Initializing array of replicates\n",
    "    bs_replicates = np.empty(size)\n",
    "    \n",
    "    #Generating replicates\n",
    "    for i in range(size):\n",
    "        bs_replicates[i] = bootstrap_replicate_1d(data, func)\n",
    "    \n",
    "    return bs_replicates\n",
    "\n",
    "#Getting difference from mean\n",
    "diff_obs = np.mean(df[\"temperature\"]) - 98.6\n",
    "\n",
    "#Getting boostrap replicates\n",
    "bs_replicates = draw_bs_reps(df[\"temperature\"], np.mean, size = 10000)\n",
    "#Calculating mean of distribution of means\n",
    "bs_mean = np.mean(bs_replicates)\n",
    "#Calculating standard deviation of distribution of means\n",
    "bs_std = np.std(bs_replicates) / np.sqrt(len(bs_replicates))\n",
    "#Calculating 95% percentile\n",
    "conf_int = np.percentile(bs_replicates, [2.5,97.5])\n",
    "\n",
    "print(\"mean:\", bs_mean)\n",
    "print(\"standard deviation:\", bs_std)\n",
    "print(\"95% confidence interval:\", conf_int)\n",
    "\n",
    "#testing null hypothesis\n",
    "p_value = np.sum(bs_replicates <= diff_obs) / len(bs_replicates)\n",
    "print(\"P value is:\", p_value)"
   ]
  },
  {
   "cell_type": "markdown",
   "metadata": {},
   "source": [
    "We will perform a one-sample test because we have a sample and a population mean. We will also use the t-statistic because we have a sample size greater than 30"
   ]
  },
  {
   "cell_type": "code",
   "execution_count": 8,
   "metadata": {},
   "outputs": [
    {
     "name": "stdout",
     "output_type": "stream",
     "text": [
      "('t-statistic:', Ttest_1sampResult(statistic=-5.4548232923645195, pvalue=2.4106320415561276e-07))\n",
      "('z-statistic:', (-5.4548232923645195, 4.9021570141012155e-08))\n"
     ]
    }
   ],
   "source": [
    "#Next, we will use a one-sample test and look at both the t-statisic and z-statistic and see why they are different\n",
    "\n",
    "#Import relevant packages\n",
    "from statsmodels.stats.weightstats import ztest\n",
    "from scipy.stats import ttest_1samp\n",
    "\n",
    "t_test = ttest_1samp(df[\"temperature\"], 98.6)\n",
    "z_test = ztest(x1 = df[\"temperature\"], value = 98.6)\n",
    "\n",
    "print(\"t-statistic:\", t_test)\n",
    "print(\"z-statistic:\", z_test)\n",
    "\n"
   ]
  },
  {
   "cell_type": "markdown",
   "metadata": {},
   "source": [
    "As we can see, the p-values for both the t-test and z-test are low. \n",
    "\n",
    "Specifically, our t-statistic of -5.45 indicates that we would observe a mean of 98.6 at 5.45 standard deviations from our sample mean. Our P-value of 2.41-07 also indicates that there is a very low proability of observing a body temerature of 98.6 or greater.\n",
    "\n",
    "As we increase our sample size, our t-test will converge to yield a similar result as a z-test.\n",
    "\n",
    "Similarly, our z-statistic of -5.45 indicates that a population mean of 98.6 is observed in 5 standard deviations out from our population mean. \n",
    "\n",
    "The difference between the t-statistic and z-statistic is that the z-statistic's P-value is significantly smaller, suggesting an even smaller probability that we observe a population mean greater than 98.6"
   ]
  },
  {
   "cell_type": "markdown",
   "metadata": {},
   "source": [
    "# Q4 - Drawing a small sample of size 10 from the data and repeat both frequentist tests"
   ]
  },
  {
   "cell_type": "markdown",
   "metadata": {},
   "source": [
    "Which one is the correct one to use?\n",
    "What do you notice? What does this tell you about the difference in application of the  𝑡  and  𝑧  statistic?"
   ]
  },
  {
   "cell_type": "markdown",
   "metadata": {},
   "source": [
    "Since the sample size is only 10, the z-statistic would be more appropriate"
   ]
  },
  {
   "cell_type": "code",
   "execution_count": 9,
   "metadata": {},
   "outputs": [
    {
     "name": "stdout",
     "output_type": "stream",
     "text": [
      "(-1.5506708718073225, 0.12098057839590058)\n",
      "Ttest_1sampResult(statistic=-1.5506708718073225, pvalue=0.15539333260430352)\n"
     ]
    }
   ],
   "source": [
    "#Getting a randon sample size of 10\n",
    "small_sample = np.random.choice(df[\"temperature\"], size = 10)\n",
    "\n",
    "#Performing z-test and t-test\n",
    "small_sample_z_test = ztest(x1 = small_sample, value = 98.6)\n",
    "small_sample_t_test = ttest_1samp(small_sample, 98.6)\n",
    "\n",
    "print(small_sample_z_test)\n",
    "print(small_sample_t_test)"
   ]
  },
  {
   "cell_type": "markdown",
   "metadata": {},
   "source": [
    "As we can see, p-values are much larger when the sample size is only 10 so we are less confident to reject the null hypothesis."
   ]
  },
  {
   "cell_type": "markdown",
   "metadata": {},
   "source": [
    "# Q5 - At what temperature should we consider someone's temperature to be \"abnormal\"?"
   ]
  },
  {
   "cell_type": "code",
   "execution_count": 10,
   "metadata": {},
   "outputs": [
    {
     "name": "stdout",
     "output_type": "stream",
     "text": [
      "[98.12384615 98.37230769]\n"
     ]
    }
   ],
   "source": [
    "#First we will try the bootstrapping method\n",
    "bs_replicates = draw_bs_reps(df[\"temperature\"], np.mean, 10000)\n",
    "conf_int_bs = np.percentile(bs_replicates, [2.5, 97.5])\n",
    "print(conf_int_bs)"
   ]
  },
  {
   "cell_type": "code",
   "execution_count": 11,
   "metadata": {},
   "outputs": [
    {
     "name": "stdout",
     "output_type": "stream",
     "text": [
      "(98.12367980442819, 98.37478173403336)\n"
     ]
    }
   ],
   "source": [
    "#Then we will try frequentist method\n",
    "from scipy.stats import norm\n",
    "import math\n",
    "\n",
    "z_value = 1.96\n",
    "mean = np.mean(df[\"temperature\"])\n",
    "st_dev = np.std(df[\"temperature\"])\n",
    "std_err = st_dev / math.sqrt(len(df[\"temperature\"]))\n",
    "margin_of_err = z_value * std_err\n",
    "conf_int_frequentist  = (mean - margin_of_err, mean + margin_of_err)\n",
    "print(conf_int_frequentist)"
   ]
  },
  {
   "cell_type": "markdown",
   "metadata": {},
   "source": [
    "Regardless of approach, we can confidently consider any temperature under 98.123 or above 98.374 to be \"abnormal\""
   ]
  },
  {
   "cell_type": "markdown",
   "metadata": {},
   "source": [
    "# Is there a significant difference between males and females in normal temperature?"
   ]
  },
  {
   "cell_type": "markdown",
   "metadata": {},
   "source": [
    "We'll check to see if there's a significant difference between genders both visually and quantitatively "
   ]
  },
  {
   "cell_type": "code",
   "execution_count": 12,
   "metadata": {},
   "outputs": [
    {
     "data": {
      "image/png": "[encoded data removed]",
      "text/plain": [
       "<Figure size 432x288 with 1 Axes>"
      ]
     },
     "metadata": {
      "needs_background": "light"
     },
     "output_type": "display_data"
    }
   ],
   "source": [
    "#Using seaborn to visually see differences\n",
    "import seaborn as sns\n",
    "sns.swarmplot(x = \"gender\", y = \"temperature\", data = df)\n",
    "plt.show()"
   ]
  },
  {
   "cell_type": "markdown",
   "metadata": {},
   "source": [
    "Since the swarmplot isn't too meaningful, we'll try using the ECDF approach"
   ]
  },
  {
   "cell_type": "code",
   "execution_count": 13,
   "metadata": {},
   "outputs": [
    {
     "data": {
      "image/png": "[encoded data removed]",
      "text/plain": [
       "<Figure size 432x288 with 1 Axes>"
      ]
     },
     "metadata": {
      "needs_background": "light"
     },
     "output_type": "display_data"
    }
   ],
   "source": [
    "#Defining new ecdf function\n",
    "def plot_ecdf_multi(df_1, df_2, xlabel, legend):\n",
    "    x1, y1 = ecdf(df_1)\n",
    "    sns.regplot(x = x1, y = y1, fit_reg = False)\n",
    "    x2, y2 = ecdf(df_2)\n",
    "    sns.regplot(x = x2, y = y2, fit_reg = False)\n",
    "    \n",
    "    _ = plt.xlabel(xlabel)\n",
    "    _ = plt.ylabel(\"ECDF\")\n",
    "    _ = plt.legend(legend)\n",
    "    plt.margins(0.02)\n",
    "    plt.show()\n",
    "    \n",
    "male_df = df[df.gender == \"M\"][\"temperature\"]\n",
    "female_df = df[df.gender == \"F\"][\"temperature\"]\n",
    "\n",
    "plot_ecdf_multi(male_df, female_df, xlabel = \"Temperature\", legend = (\"Male\", \"Female\"))"
   ]
  },
  {
   "cell_type": "markdown",
   "metadata": {},
   "source": [
    "As we can see from the ECDF and the swarmplot (albeit to a lesser extent), male temperatures seem to be lower. \n",
    "\n",
    "We will now use statistical testing to see if this difference is statistically significant"
   ]
  },
  {
   "cell_type": "code",
   "execution_count": 14,
   "metadata": {},
   "outputs": [
    {
     "data": {
      "text/plain": [
       "Ttest_indResult(statistic=-2.2854345381656103, pvalue=0.02393188312239561)"
      ]
     },
     "execution_count": 14,
     "metadata": {},
     "output_type": "execute_result"
    }
   ],
   "source": [
    "#Conducting the T-test for the means of two independent samples of scores\n",
    "from scipy import stats\n",
    "stats.ttest_ind(male_df, female_df)"
   ]
  },
  {
   "cell_type": "markdown",
   "metadata": {},
   "source": [
    "Since the p-value is 2.4%, we can reject the null hypothesis. There is a significant difference between males and females in \"average\" temperatures"
   ]
  },
  {
   "cell_type": "markdown",
   "metadata": {},
   "source": [
    "# Conclusion "
   ]
  },
  {
   "cell_type": "markdown",
   "metadata": {},
   "source": [
    "Body Temperatures are normally distributed. When testing to see if the true population mean of body temperatures is 98.6 F degrees, we found that this is statistically not true. Instead, we can say with 95% confidence that the true mean body temperature falls between 98.123 and 98.374 degrees F. Finally, we also can say that there is a significant difference between males and females in normal body temperature.\n"
   ]
  }
 ],
 "metadata": {
  "kernelspec": {
   "display_name": "Python 2",
   "language": "python",
   "name": "python2"
  },
  "language_info": {
   "codemirror_mode": {
    "name": "ipython",
    "version": 2
   },
   "file_extension": ".py",
   "mimetype": "text/x-python",
   "name": "python",
   "nbconvert_exporter": "python",
   "pygments_lexer": "ipython2",
   "version": "2.7.15"
  }
 },
 "nbformat": 4,
 "nbformat_minor": 1
}
