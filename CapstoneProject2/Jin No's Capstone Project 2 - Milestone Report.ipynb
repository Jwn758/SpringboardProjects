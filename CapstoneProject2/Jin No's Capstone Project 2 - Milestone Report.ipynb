{
 "cells": [
  {
   "cell_type": "markdown",
   "metadata": {},
   "source": [
    "# Capstone Project 2: Creating a Recommendation System for DJ Mixes using a Spotify User's preferences"
   ]
  },
  {
   "cell_type": "markdown",
   "metadata": {},
   "source": [
    "## TOC:\n",
    "* [1. Introduction](#1.-Introduction)\n",
    "    * [1.1 Data Source and Importation](#1.1-Data-Source-and-Importation)\n",
    "    * [1.2 Data Cleaning (Spotify)](#1.2-Data-Cleaning-(Spotify))\n",
    "    * [1.3 Data Cleaning (1001tracklists.com)](#1.3-Data-Cleaning-(1001tracklists.com))\n",
    "    * [1.4 Combining Datasets](#1.4-Combining-Datasets)\n",
    "* [2. Exploratory Data Analysis](#2.-Exploratory-Data-Analysis)\n",
    "    * [2.1 Differences in Sets/Mixes](#2.1-Differences-in-Sets/Mixes)\n",
    "* [3. Recommendation Engine Building](#3.-Recommendation-Engine-Building)\n",
    "    * [3.1 Artist Similarity Score](#3.1-Artist-Similarity-Score)\n",
    "    * [3.2 Song Similarity Score](#3.2-Song-Similarity-Score)\n",
    "    * [3.3 Set/Mix Popularity Score](#3.3-Set/Mix-Popularity-Score)\n",
    "    * [3.4 Audio Feature Similarity Score](#3.4-Audio-Feature-Similarity-Score)"
   ]
  },
  {
   "cell_type": "markdown",
   "metadata": {},
   "source": [
    "# 1. Introduction"
   ]
  },
  {
   "cell_type": "markdown",
   "metadata": {},
   "source": [
    "I love being recommended and recommending new songs & artists to friends. But in today’s data-driven world, recommendation engines control the new content we see and hear. Whether it be a new product on Amazon, a new show on Netflix, or a new song in your discover weekly Spotify playlist, recommendation engines may know you better than anyone else. \n",
    "\n",
    "Let’s take a look at Spotify’s Discover Weekly feature as an example of a recommendation algorithm. It combines various methods, including content-based filtering methods, which looks at the raw audio features of a song to recommend new songs that are similar to songs you’ve listened to and liked before. A closer exploration of Spotify’s recommendation algorithm can be found here: https://medium.com/datadriveninvestor/behind-spotify-recommendation-engine-a9b5a27a935\n",
    "\n",
    "Yet even with Spotify’s Discover Weekly feature, there aren’t any good recommendation systems for sets/mixes. When it comes to electronic music, I love recommending sets/mixes rather than individual songs because I believe they can more accurately convey the artist’s style. For example, an artist might play unreleased edits, IDs (i.e. unidentifiable songs, typically consisting of an unreleased song by the artist or an artist with a similar style), and play a myriad of songs ranging from their entire discography rather their most recent album. The set/mix might also include some mixing techniques (i.e. transitioning from one song to another) or other live elements that you won’t hear by streaming an individual song. Often times, it’s a combination of these additional “elements” to a set/mix that I want to recommend…and today’s recommendation engines simply don’t have the means to capture this type of data and recommend a set/mix. \n",
    "\n",
    "For my 2nd Capstone Project, I try to solve for this by utilizing content-based filtering methods to create a recommendation algorithm for sets/mixes. For this, I will need data on both a user’s music preferences and relevant data for sets/mixes. The biggest pitfall today is the lack of available data on sets/mixes and the ability to stream the actual set/mix itself. To combat this, I use Spotify’s Web API to pull a user’s top artists and created an automated-web scraper that searches for a Spotify user’s top artists on a 3rd party website that lists the artist’s most recent sets/mixes and the individual songs played in each set/mix along with other relevant metadata about the set/mix itself. \n",
    "* Problem: Creating a recommendation engine for sets/mixes using a Spotify user’s preferences and data scraped from 3rd party resources\n",
    "* Dataset: Data queried from Spotify’s Web API, data scraped from 1001tracklist.com\n"
   ]
  },
  {
   "cell_type": "markdown",
   "metadata": {},
   "source": [
    "# 1.1 Data Source and Importation"
   ]
  },
  {
   "cell_type": "markdown",
   "metadata": {},
   "source": [
    "The data needed to build an effective recommendation system includes two kinds of inputs: data on **users** and data on **items**:\n",
    "\n",
    "### Users: Spotify Users\n",
    "* **Dataset Description**: JSON Objects containing a Spotify User’s top songs, top artists, and saved songs pulled directly from Spotify\n",
    "* **Dataset Source**: Spotify’s Web API\n",
    "\n",
    "### Items: Sets/Mixes\n",
    "* **Dataset Description**: Dataframe containing up to 30 of the most recent sets/mixes played by the Spotify user’s top electronic artists with relevant metrics such as total views, total likes, individual songs played, genres, artists of other songs played, location, etc.\n",
    "* **Dataset Source**: Data scraped via a custom-built automated web-scraper utilizing Selenium and BeautifulSoup on a 3rd party website that incentivizes users to list and identify songs played in a set/mix\n",
    "\n"
   ]
  },
  {
   "cell_type": "markdown",
   "metadata": {},
   "source": [
    "# 1.2 Data Cleaning (Spotify)"
   ]
  },
  {
   "cell_type": "markdown",
   "metadata": {},
   "source": [
    "### Overview of Spotify's Web API"
   ]
  },
  {
   "attachments": {},
   "cell_type": "markdown",
   "metadata": {},
   "source": [
    "To access a Spotify user’s music preferences, one must create and register an app and request authorization from both Spotify and the user"
   ]
  },
  {
   "cell_type": "markdown",
   "metadata": {},
   "source": [
    "![title](SpotifyPic1.png)\n",
    "![title](SpotifyPic2.png)"
   ]
  },
  {
   "attachments": {},
   "cell_type": "markdown",
   "metadata": {},
   "source": [
    "The diagrams above illustrate how a API call was processed to access user data. \n",
    "\n",
    "For the purposes of this report, the following should be noted:\n",
    "* Different databases accessed via different scopes: Since we are accessing a Spotify User’s top songs, top artists, and saved songs as inputs to our recommendation engine, the following scopes were specified in our API call:\n",
    "    * User-library-read\n",
    "    * User-top-read\n",
    "\n",
    "<table><tr>\n",
    "<td> <img src=\"SpotifyPic3.png\" alt=\"Drawing\" style=\"width: 250px;\"/> </td>\n",
    "<td> <img src=\"SpotifyPic4.png\" alt=\"Drawing\" style=\"width: 250px;\"/> </td>\n",
    "</tr></table>"
   ]
  },
  {
   "cell_type": "markdown",
   "metadata": {},
   "source": [
    "### Example API Request using my Spotify Account"
   ]
  },
  {
   "cell_type": "markdown",
   "metadata": {},
   "source": [
    "For this report, I will use my personal Spotify data to illustrate how a Spotify user's data will be accessed:"
   ]
  },
  {
   "cell_type": "code",
   "execution_count": 1,
   "metadata": {},
   "outputs": [
    {
     "name": "stdout",
     "output_type": "stream",
     "text": [
      "Blame (NGHTMRE Remix) - Ekali\n",
      "Forever (feat. Elohim) - Ekali\n",
      "Helios - Ekali\n",
      "Forever (feat. Elohim) - Laxcity Remix - Ekali\n",
      "R U I N - Ekali\n",
      "Jundo - Ekali\n",
      "Forgot How To Dream (feat. K.Flay) - Ekali\n",
      "Babylon (feat. Denzel Curry) - Skrillex & Ronny J Remix - Ekali\n",
      "Babylon (feat. Denzel Curry) - Ekali\n",
      "Leaving (feat. Yuna) - Ekali\n",
      "Blame - Ekali\n",
      "Take a Walk - Passion Pit\n",
      "Sleepyhead - Passion Pit\n",
      "thank u, next - Ariana Grande\n",
      "break up with your girlfriend, i'm bored - Ariana Grande\n",
      "7 rings - Ariana Grande\n",
      "Everything (feat. RIA) - Rusty Hook\n",
      "X / Love - Hex Cougar\n",
      "No Friend Zone - VAVO\n",
      "F8 - DELAY.\n",
      "0 Ya Kidding - Solardo Remix FISHER\n",
      "1 Losing It - Radio Edit FISHER\n",
      "2 Stop It FISHER\n",
      "3 Losing It FISHER\n",
      "4 Crowd Control FISHER\n",
      "5 Ya Didn't FISHER\n",
      "6 Lake Placid OZZIE\n",
      "7 Blame Ekali\n",
      "8 XILLA! MEMBA\n",
      "9 Golden Fur Elfkowitz\n",
      "10 Splitting The Atom Massive Attack\n",
      "11 Ya Kidding - Sébastien V (BE) Remix FISHER\n",
      "12 Hotbox Liquid Stranger\n",
      "13 Affirmative Action Nas\n",
      "14 Little Dark Age MGMT\n",
      "15 Soul to Seoul TOKiMONSTA\n",
      "16 Ya Kidding FISHER\n",
      "17 Sleepyhead Passion Pit\n",
      "18 Me & You OZZIE\n",
      "19 Garde Le Pour Toi Paradis\n",
      "20 Xtra Hucci\n",
      "21 WHEN I WAS OLDER - Music Inspired By The Film ROMA Billie Eilish\n",
      "22 Ya Kidding - Eli Brown Remix FISHER\n",
      "23 Take a Walk Passion Pit\n",
      "24 break up with your girlfriend, i'm bored Ariana Grande\n",
      "25 Luna OZZIE\n",
      "26 On My Own Lookas\n",
      "27 Peyote Hippie Sabotage\n",
      "28 Saga Snareskin\n",
      "29 Eventually Calundé\n",
      "30 Take Me High Dan Farber\n",
      "31 Realm Hucci\n",
      "32 Skins (feat. Blake Rose) Bad Decisions\n",
      "33 Endless Slow Hours\n",
      "34 Thrill Over Fear (feat. Luna Blake) A Flow Mobz\n",
      "35 I Just Can't - Fabian Mazur Remix R3HAB\n",
      "36 Dreams (feat. Phonic Youth) Cloudsz\n",
      "37 Summertime Yellow Claw\n",
      "38 Swift Deon Custom\n",
      "39 4 You CRVCK JVCK\n",
      "40 Savage MCTR\n",
      "41 Resistance Mir\n",
      "42 Getting To Ya' (feat. Bianca) EXSSV\n",
      "43 The Minute 12nd\n",
      "44 White Space FLAGZ\n",
      "45 Oblivion Zaitex\n",
      "46 Too Soon - heroless Remix Vanic\n",
      "47 Yours Ian Munro\n",
      "48 X2C TroyBoi\n",
      "49 The Little Vegan Fairy LigOne\n",
      "Maroon 5\n",
      "['pop']\n",
      "89\n",
      "18211268\n",
      "4B\n",
      "['brostep', 'electro house', 'electronic trap', 'moombahton']\n",
      "50\n",
      "52316\n",
      "Peking Duk\n",
      "['aussietronica', 'australian electropop', 'australian indie', 'australian pop', 'edm']\n",
      "64\n",
      "158848\n",
      "Ekali\n",
      "['bass trap', 'brostep', 'canadian electronic', 'edm', 'electro house', 'electronic trap', 'pop edm', 'vapor soul', 'vapor twitch']\n",
      "61\n",
      "72494\n",
      "Go Radio\n",
      "['emo', 'neon pop punk', 'pop emo', 'pop punk']\n",
      "53\n",
      "101343\n",
      "San Holo\n",
      "['edm', 'electronic trap', 'pop', 'pop edm', 'tropical house']\n",
      "70\n",
      "463588\n",
      "Flo Rida\n",
      "['dance pop', 'edm', 'miami hip hop', 'pop', 'pop rap']\n",
      "82\n",
      "7027054\n",
      "QUIX\n",
      "['bass trap', 'brostep', 'electro house', 'electronic trap', 'pop edm', 'vapor twitch']\n",
      "63\n",
      "30187\n",
      "Steve Reece\n",
      "[]\n",
      "43\n",
      "2387\n",
      "Ookay\n",
      "['brostep', 'edm', 'electro house', 'electronic trap', 'pop edm', 'vapor twitch']\n",
      "62\n",
      "187242\n",
      "Mister Blonde\n",
      "[]\n",
      "43\n",
      "1226\n",
      "Jack Ü\n",
      "['edm', 'electro house', 'pop']\n",
      "68\n",
      "937698\n",
      "Ship Wrek\n",
      "['bass trap', 'tracestep']\n",
      "54\n",
      "20371\n",
      "Usher\n",
      "['atl hip hop', 'dance pop', 'pop', 'pop rap', 'r&b', 'urban contemporary']\n",
      "82\n",
      "6916295\n",
      "Post Malone\n",
      "['pop', 'rap']\n",
      "96\n",
      "14040899\n",
      "Jai Wolf\n",
      "['edm', 'electropop', 'indie electro-pop', 'indie poptimism', 'pop edm', 'tropical house', 'vapor soul', 'vapor twitch']\n",
      "67\n",
      "144938\n",
      "JOYRYDE\n",
      "['bass house', 'brostep', 'edm', 'electro house', 'electronic trap', 'moombahton']\n",
      "61\n",
      "92987\n",
      "Flosstradamus\n",
      "['bass trap', 'brostep', 'edm', 'electro house', 'electronic trap', 'mashup', 'moombahton']\n",
      "63\n",
      "235788\n",
      "FKJ\n",
      "['filter house']\n",
      "72\n",
      "492161\n",
      "KRANE\n",
      "['bass trap', 'electronic trap', 'pop edm', 'traprun', 'vapor twitch']\n",
      "52\n",
      "35750\n",
      "\n"
     ]
    }
   ],
   "source": [
    "#Importing from other files\n",
    "from spotifyxx_v4 import *\n",
    "\n",
    "#Importing other necessary packages\n",
    "import os.path\n",
    "import sys\n",
    "import pandas as pd"
   ]
  },
  {
   "cell_type": "markdown",
   "metadata": {},
   "source": [
    "### Getting Unique List of Songs, Artists, and Audio Features of Songs"
   ]
  },
  {
   "cell_type": "markdown",
   "metadata": {},
   "source": [
    "I first created dictionaries for Artists and Songs with the following keys:"
   ]
  },
  {
   "cell_type": "markdown",
   "metadata": {},
   "source": [
    "#### Artist Dictionary"
   ]
  },
  {
   "cell_type": "code",
   "execution_count": 2,
   "metadata": {},
   "outputs": [],
   "source": [
    "artist_dict = {\n",
    "        \"artist_name\": \"\",\n",
    "        \"artist_genre\": \"\",\n",
    "        \"artist_popularity\": 0,\n",
    "        \"artist_followers\": 0,\n",
    "}"
   ]
  },
  {
   "cell_type": "markdown",
   "metadata": {},
   "source": [
    "#### Song Dictionary"
   ]
  },
  {
   "cell_type": "code",
   "execution_count": 3,
   "metadata": {},
   "outputs": [],
   "source": [
    "song_features = {\n",
    "        \"key\": 0,\n",
    "        \"mode\": 0,\n",
    "        \"time_signature\": 0,\n",
    "        \"acousticness\": 0,\n",
    "        \"danceability\": 0,\n",
    "        \"energy\": 0,\n",
    "        \"loudness\": 0,\n",
    "        \"tempo\": 0,\n",
    "        \"id\": \"\",\n",
    "        \"uri\": \"\",\n",
    "        \"instrumentalness\": 0,\n",
    "        \"valence\": 0,\n",
    "        \"name\": \"\",\n",
    "}"
   ]
  },
  {
   "cell_type": "markdown",
   "metadata": {},
   "source": [
    "#### Dataframes"
   ]
  },
  {
   "cell_type": "markdown",
   "metadata": {},
   "source": [
    "I then converted each dictionary into a dataframe. "
   ]
  },
  {
   "cell_type": "code",
   "execution_count": 4,
   "metadata": {
    "scrolled": true
   },
   "outputs": [
    {
     "name": "stdout",
     "output_type": "stream",
     "text": [
      "   artist_followers                                       artist_genre  \\\n",
      "0          18211268                                              [pop]   \n",
      "1             52316  [brostep, electro house, electronic trap, moom...   \n",
      "2            158848  [aussietronica, australian electropop, austral...   \n",
      "3             72494  [bass trap, brostep, canadian electronic, edm,...   \n",
      "4            101343            [emo, neon pop punk, pop emo, pop punk]   \n",
      "\n",
      "  artist_name  artist_popularity  EDM_Artist  \n",
      "0    Maroon 5                 89       False  \n",
      "1          4B                 50       False  \n",
      "2  Peking Duk                 64        True  \n",
      "3       Ekali                 61        True  \n",
      "4    Go Radio                 53       False  \n",
      "  song_artist                 song_id                   song_name\n",
      "0      FISHER  2HQ1XA5iHCpnTJlVaqJ4iN  Ya Kidding - Solardo Remix\n",
      "1      FISHER  2KXwJZv1pRQFQ95Kj60jBN      Losing It - Radio Edit\n",
      "2      FISHER  4qetR2UUyBeUrJ9DbYrpVQ                     Stop It\n",
      "3      FISHER  6ho0GyrWZN3mhi9zVRW7xi                   Losing It\n",
      "4      FISHER  7ruylcpwEbeCl3HfB9SSyM               Crowd Control\n",
      "  song_artist                 song_id                               song_name\n",
      "0       Ekali  7wNWHfyUjn96VkmI63XTDf                   Blame (NGHTMRE Remix)\n",
      "1       Ekali  3qlLSRfudjIMj9GyBcv1lV                  Forever (feat. Elohim)\n",
      "2       Ekali  1F83vsYR3tk76FmetJgEmM                                  Helios\n",
      "3       Ekali  1RVXcPFfuY6ivkAN4NNixa  Forever (feat. Elohim) - Laxcity Remix\n",
      "4       Ekali  0M620WTaDdSvPbXKEEH9zs                                 R U I N\n",
      "   acousticness  danceability  energy                      id  \\\n",
      "0        0.0354         0.616   0.844  7wNWHfyUjn96VkmI63XTDf   \n",
      "1        0.3080         0.695   0.625  3qlLSRfudjIMj9GyBcv1lV   \n",
      "2        0.0624         0.623   0.892  1F83vsYR3tk76FmetJgEmM   \n",
      "3        0.8810         0.469   0.343  1RVXcPFfuY6ivkAN4NNixa   \n",
      "4        0.1880         0.452   0.754  0M620WTaDdSvPbXKEEH9zs   \n",
      "\n",
      "   instrumentalness  key  loudness  mode  \\\n",
      "0          0.002340    9    -4.908     0   \n",
      "1          0.000055    1    -6.162     0   \n",
      "2          0.556000    5    -3.533     0   \n",
      "3          0.000118    4   -10.608     1   \n",
      "4          0.000369    9    -3.368     0   \n",
      "\n",
      "                                     name    tempo  time_signature  \\\n",
      "0                   Blame (NGHTMRE Remix)   92.024               4   \n",
      "1                  Forever (feat. Elohim)   93.040               4   \n",
      "2                                  Helios  148.033               4   \n",
      "3  Forever (feat. Elohim) - Laxcity Remix   93.276               4   \n",
      "4                                 R U I N   87.505               4   \n",
      "\n",
      "                                    uri  valence  \n",
      "0  spotify:track:7wNWHfyUjn96VkmI63XTDf    0.183  \n",
      "1  spotify:track:3qlLSRfudjIMj9GyBcv1lV    0.344  \n",
      "2  spotify:track:1F83vsYR3tk76FmetJgEmM    0.442  \n",
      "3  spotify:track:1RVXcPFfuY6ivkAN4NNixa    0.220  \n",
      "4  spotify:track:0M620WTaDdSvPbXKEEH9zs    0.211  \n"
     ]
    }
   ],
   "source": [
    "print(topArtists_DF.head())\n",
    "print(top_songs_DF.head())\n",
    "print(saved_songs_DF.head())\n",
    "print(songFeatures_DF.head())"
   ]
  },
  {
   "cell_type": "markdown",
   "metadata": {},
   "source": [
    "Since the recommendation engine is using data for sets/mixes from 1001tracklists.com, I also flag if an artist has an \"electronic\" genre because 1001tracklists.com is primarily focused on electronic music."
   ]
  },
  {
   "cell_type": "code",
   "execution_count": 5,
   "metadata": {},
   "outputs": [],
   "source": [
    "#Flagging artist if artist is an EDM artist\n",
    "topArtists_DF[\"EDM_Artist\"] = topArtists_DF[\"artist_genre\"].map(lambda x: \"edm\" in x)\n",
    "edmArtists_DF = topArtists_DF.loc[(topArtists_DF[\"EDM_Artist\"] == True)]"
   ]
  },
  {
   "cell_type": "code",
   "execution_count": 6,
   "metadata": {
    "scrolled": true
   },
   "outputs": [
    {
     "name": "stdout",
     "output_type": "stream",
     "text": [
      "    artist_followers                                       artist_genre  \\\n",
      "0           18211268                                              [pop]   \n",
      "1              52316  [brostep, electro house, electronic trap, moom...   \n",
      "2             158848  [aussietronica, australian electropop, austral...   \n",
      "3              72494  [bass trap, brostep, canadian electronic, edm,...   \n",
      "4             101343            [emo, neon pop punk, pop emo, pop punk]   \n",
      "5             463588  [edm, electronic trap, pop, pop edm, tropical ...   \n",
      "6            7027054      [dance pop, edm, miami hip hop, pop, pop rap]   \n",
      "7              30187  [bass trap, brostep, electro house, electronic...   \n",
      "8               2387                                                 []   \n",
      "9             187242  [brostep, edm, electro house, electronic trap,...   \n",
      "10              1226                                                 []   \n",
      "11            937698                          [edm, electro house, pop]   \n",
      "12             20371                             [bass trap, tracestep]   \n",
      "13           6916295  [atl hip hop, dance pop, pop, pop rap, r&b, ur...   \n",
      "14          14040899                                         [pop, rap]   \n",
      "15            144938  [edm, electropop, indie electro-pop, indie pop...   \n",
      "16             92987  [bass house, brostep, edm, electro house, elec...   \n",
      "17            235788  [bass trap, brostep, edm, electro house, elect...   \n",
      "18            492161                                     [filter house]   \n",
      "19             35750  [bass trap, electronic trap, pop edm, traprun,...   \n",
      "\n",
      "      artist_name  artist_popularity  EDM_Artist  \n",
      "0        Maroon 5                 89       False  \n",
      "1              4B                 50       False  \n",
      "2      Peking Duk                 64        True  \n",
      "3           Ekali                 61        True  \n",
      "4        Go Radio                 53       False  \n",
      "5        San Holo                 70        True  \n",
      "6        Flo Rida                 82        True  \n",
      "7            QUIX                 63       False  \n",
      "8     Steve Reece                 43       False  \n",
      "9           Ookay                 62        True  \n",
      "10  Mister Blonde                 43       False  \n",
      "11         Jack Ü                 68        True  \n",
      "12      Ship Wrek                 54       False  \n",
      "13          Usher                 82       False  \n",
      "14    Post Malone                 96       False  \n",
      "15       Jai Wolf                 67        True  \n",
      "16        JOYRYDE                 61        True  \n",
      "17  Flosstradamus                 63        True  \n",
      "18            FKJ                 72       False  \n",
      "19          KRANE                 52       False  \n"
     ]
    }
   ],
   "source": [
    "print(topArtists_DF)"
   ]
  },
  {
   "cell_type": "code",
   "execution_count": 116,
   "metadata": {
    "scrolled": true
   },
   "outputs": [],
   "source": [
    "#Creating unique list of edm artists to search with selenium on 1001tracklists.com\n",
    "unique_edmArtists = []\n",
    "unique_edmArtists = list(edmArtists_DF[\"artist_name\"])"
   ]
  },
  {
   "cell_type": "markdown",
   "metadata": {},
   "source": [
    "For the purposes of this report, I look at a random artist in my top EDM Artists I listen to. This artist will be the one I use for my scraper:"
   ]
  },
  {
   "cell_type": "code",
   "execution_count": 133,
   "metadata": {},
   "outputs": [
    {
     "name": "stdout",
     "output_type": "stream",
     "text": [
      "Ekali\n"
     ]
    }
   ],
   "source": [
    "print(unique_edmArtists[1])"
   ]
  },
  {
   "cell_type": "markdown",
   "metadata": {},
   "source": [
    "# 1.3 Data Cleaning (1001tracklists.com)"
   ]
  },
  {
   "cell_type": "markdown",
   "metadata": {},
   "source": [
    "### Overview of 1001tracklists.com"
   ]
  },
  {
   "cell_type": "markdown",
   "metadata": {},
   "source": [
    "1001tracklist.com is a 3rd party resource where users provide a link to the actual set/mix (e.g. Youtube link, Soundcloud link, Mixcloud link, etc.) and list out the artists and name of the individual songs played in the set/mix. Other relevant metadata that was scraped include total webpage views, date played, total set/mix likes, genres, duration of each individual song, number of individual songs played and number of songs actually identified.\n",
    "\n",
    "Shown below is an example webpage from 1001tracklists.com:"
   ]
  },
  {
   "cell_type": "markdown",
   "metadata": {},
   "source": [
    "![title](1001tracklistPic1.png)"
   ]
  },
  {
   "cell_type": "markdown",
   "metadata": {},
   "source": [
    "To get the necessary data for sets/mixes, I created an automated web scraper using selenium and beautifulsoup"
   ]
  },
  {
   "cell_type": "code",
   "execution_count": 8,
   "metadata": {},
   "outputs": [],
   "source": [
    "#importing relevant packages for automated web navigation\n",
    "from bs4 import BeautifulSoup\n",
    "from selenium import webdriver\n",
    "from selenium.webdriver.common.keys import Keys\n",
    "from selenium.webdriver.support.ui import WebDriverWait\n",
    "from selenium.webdriver.common.action_chains import ActionChains\n",
    "\n",
    "#Importing other relevant modules\n",
    "import unicodedata\n",
    "from urllib.request import Request, urlopen"
   ]
  },
  {
   "cell_type": "markdown",
   "metadata": {},
   "source": [
    "### Set/Mix Dictionary"
   ]
  },
  {
   "cell_type": "markdown",
   "metadata": {},
   "source": [
    "I stored the data in the following dictionary:"
   ]
  },
  {
   "cell_type": "code",
   "execution_count": 9,
   "metadata": {},
   "outputs": [],
   "source": [
    "song_dict = {\n",
    "    \"TL_Name\": \"\",\n",
    "    \"TL_URL\": \"\",\n",
    "    \"TL_SC_Link\": \"None\",\n",
    "    \"TL_Youtube_Link\": \"None\", \n",
    "    \"TL_Date\": \"\",\n",
    "    \"TL_Views\": \"\",\n",
    "    \"TL_Likes\": \"\",\n",
    "    \"TL_Number_IDed\": \"\",\n",
    "    \"TL_Genres\": \"\",\n",
    "    \"TL_Sources\": \"\",\n",
    "    \"TL_Avg_Spotify_Danceability\": 0,\n",
    "    \"TL_Avg_Spotify_Energy\": 0,\n",
    "    \"TL_Avg_Spotify_Tempo\": 0,\n",
    "    \"TL_Avg_Spotify_Valence\": 0,\n",
    "    \"TL_SongName\": \"\",\n",
    "    \"TL_SongArtist\": \"\",\n",
    "    \"TL_SongRemixFlag\": False,\n",
    "    \"TL_PositionSeconds\": \"\",\n",
    "}"
   ]
  },
  {
   "cell_type": "markdown",
   "metadata": {},
   "source": [
    "The hardest data to scrape were the available Spotify links to each identified track in each set/mix as the links were only shown on actual \"clicks\". As such, Selenium was used to navigate to each set/mix page and click each Spotify link. Only then was I able to use BeautifulSoup to capture the Spotify unique ID of each identified track which was useful in measuring the set/mix's average Spotify Danceablity, Energy, Tempo, and Valence which will play a major role in recommending the right set/mix."
   ]
  },
  {
   "cell_type": "markdown",
   "metadata": {},
   "source": [
    "![title](1001tracklistPic2.png)"
   ]
  },
  {
   "cell_type": "markdown",
   "metadata": {},
   "source": [
    "### Running the automated web scraper"
   ]
  },
  {
   "cell_type": "markdown",
   "metadata": {},
   "source": [
    "For the purposes of this report, I don't show all the code used in the automated browser navigation and scraping used to obtain the set/mix data. See related files on my github for the actual code. Below I show an example output of the scraper that I've outputted to a local Excel file. I limited the output to the first 5 sets instead of the most recent 30 but plan to do a more in-depth report on more artists and more sets/mixes later on."
   ]
  },
  {
   "cell_type": "code",
   "execution_count": 148,
   "metadata": {
    "scrolled": true
   },
   "outputs": [
    {
     "name": "stdout",
     "output_type": "stream",
     "text": [
      "     Unnamed: 0                           TL_Name  TL_URL TL_SC_Link  \\\n",
      "281          77  Ekali @ EDC Las Vegas 2019-05-19     NaN       None   \n",
      "282          78  Ekali @ EDC Las Vegas 2019-05-19     NaN       None   \n",
      "283          79  Ekali @ EDC Las Vegas 2019-05-19     NaN       None   \n",
      "285          81  Ekali @ EDC Las Vegas 2019-05-19     NaN       None   \n",
      "286          82  Ekali @ EDC Las Vegas 2019-05-19     NaN       None   \n",
      "\n",
      "    TL_Youtube_Link     TL_Date  TL_Views  TL_Likes  TL_Number_IDed  \\\n",
      "281            None  2019-05-19      5027         7             NaN   \n",
      "282            None  2019-05-19      5027         7             NaN   \n",
      "283            None  2019-05-19      5027         7             NaN   \n",
      "285            None  2019-05-19      5027         7             NaN   \n",
      "286            None  2019-05-19      5027         7             NaN   \n",
      "\n",
      "                  TL_Genres          TL_Sources  TL_Avg_Spotify_Danceability  \\\n",
      "281  Dubstep, Hip Hop, Trap  EDC Las Vegas 2019                        0.657   \n",
      "282  Dubstep, Hip Hop, Trap  EDC Las Vegas 2019                        0.657   \n",
      "283  Dubstep, Hip Hop, Trap  EDC Las Vegas 2019                        0.657   \n",
      "285  Dubstep, Hip Hop, Trap  EDC Las Vegas 2019                        0.657   \n",
      "286  Dubstep, Hip Hop, Trap  EDC Las Vegas 2019                        0.657   \n",
      "\n",
      "     TL_Avg_Spotify_Energy  TL_Avg_Spotify_Tempo  TL_Avg_Spotify_Valence  \\\n",
      "281                  0.868               140.052                  0.0495   \n",
      "282                  0.868               140.052                  0.0495   \n",
      "283                  0.868               140.052                  0.0495   \n",
      "285                  0.868               140.052                  0.0495   \n",
      "286                  0.868               140.052                  0.0495   \n",
      "\n",
      "                                TL_SongName        TL_SongArtist  \\\n",
      "281            WE ARE FURY & NXSTY - Mortal  WE ARE FURY & NXSTY   \n",
      "282                Ekali & 1788-L - R U I N       Ekali & 1788-L   \n",
      "283     RL Grime ft. Freya Ridings - Shrine             RL Grime   \n",
      "285                Ekali ft. Yuna - Leaving                Ekali   \n",
      "286  Illenium & Ekali - Hard To Say Goodbye     Illenium & Ekali   \n",
      "\n",
      "     TL_SongRemixFlag  TL_PositionSeconds  \n",
      "281             False                 NaN  \n",
      "282             False                 NaN  \n",
      "283             False                 NaN  \n",
      "285             False                 NaN  \n",
      "286             False                 NaN  \n"
     ]
    }
   ],
   "source": [
    "#Running the automated web scraper\n",
    "Master_DF = pd.read_excel(\"masterdata0604.xlsx\")\n",
    "Master_DF = Master_DF.drop_duplicates(subset=[\"TL_Name\",\"TL_SongName\",\"TL_SongArtist\"])\n",
    "print(Master_DF.tail())"
   ]
  },
  {
   "cell_type": "markdown",
   "metadata": {},
   "source": [
    "# 2. Exploratory Data Analysis"
   ]
  },
  {
   "cell_type": "markdown",
   "metadata": {},
   "source": [
    "To illustrate the need for recommendation systems for sets/mixes, I try to highlight how significantly different sets/mixes can be by a single artist through exploratory data analysis."
   ]
  },
  {
   "cell_type": "code",
   "execution_count": 153,
   "metadata": {},
   "outputs": [],
   "source": [
    "#Importing relevant packages\n",
    "import numpy as np\n",
    "import matplotlib.pyplot as plt\n",
    "import seaborn as sns"
   ]
  },
  {
   "cell_type": "markdown",
   "metadata": {},
   "source": [
    "# 2.1 Differences in Sets/Mixes"
   ]
  },
  {
   "cell_type": "markdown",
   "metadata": {},
   "source": [
    "Due to data quality issues resulting from inconsistencies between 1001tracklists.com webpages and the nature of the data being manually inputted by users, I select 3 sets/mixes that I believe to be of high data quality:"
   ]
  },
  {
   "cell_type": "code",
   "execution_count": 175,
   "metadata": {},
   "outputs": [
    {
     "data": {
      "text/plain": [
       "TL_Name\n",
       "Ekali & Cold Blue - Night Owl Radio 187 2019-03-22    26\n",
       "Ekali @ EDC Las Vegas 2019-05-19                      81\n",
       "Ekali @ Orlando Amphitheater 2019-02-02               63\n",
       "Name: TL_SongName, dtype: int64"
      ]
     },
     "execution_count": 175,
     "metadata": {},
     "output_type": "execute_result"
    }
   ],
   "source": [
    "Good_Quality_Sets = Master_DF.loc[Master_DF[\"TL_Name\"].isin([\"Ekali @ Orlando Amphitheater 2019-02-02\",\"Ekali @ EDC Las Vegas 2019-05-19\",\"Ekali & Cold Blue - Night Owl Radio 187 2019-03-22\"])]\n",
    "Good_Quality_Sets.groupby(\"TL_Name\")[\"TL_SongName\"].count()"
   ]
  },
  {
   "cell_type": "markdown",
   "metadata": {},
   "source": [
    "Already we can see that there was a significant difference in tracks played, which is unusual given that the length of each set was generally similar. Looking at the differences between the individual tracks of each set might shed some light as to why there is this big of a discrepancy."
   ]
  },
  {
   "cell_type": "markdown",
   "metadata": {},
   "source": [
    "### Genre Differences between Sets"
   ]
  },
  {
   "cell_type": "code",
   "execution_count": 184,
   "metadata": {},
   "outputs": [
    {
     "data": {
      "text/plain": [
       "TL_Name\n",
       "Ekali & Cold Blue - Night Owl Radio 187 2019-03-22                    [Trap, Trance]\n",
       "Ekali @ EDC Las Vegas 2019-05-19                            [Dubstep, Hip Hop, Trap]\n",
       "Ekali @ Orlando Amphitheater 2019-02-02               [Electro House, Hip Hop, Trap]\n",
       "Name: TL_Genres, dtype: object"
      ]
     },
     "execution_count": 184,
     "metadata": {},
     "output_type": "execute_result"
    }
   ],
   "source": [
    "Good_Quality_Sets.groupby(\"TL_Name\")[\"TL_Genres\"].unique()"
   ]
  },
  {
   "cell_type": "markdown",
   "metadata": {},
   "source": [
    "Right away we notice that the sets with less tracks played include more house and trance, genres in which songs are generally played for a longer duration. Let's corroborate this with the average tempo of each set that we scraped and brought in utilizing Spotify's Web API"
   ]
  },
  {
   "cell_type": "code",
   "execution_count": 254,
   "metadata": {},
   "outputs": [
    {
     "data": {
      "text/plain": [
       "TL_Name\n",
       "Ekali & Cold Blue - Night Owl Radio 187 2019-03-22               [130.03]\n",
       "Ekali @ EDC Las Vegas 2019-05-19                                [140.052]\n",
       "Ekali @ Orlando Amphitheater 2019-02-02               [154.6813333333334]\n",
       "Name: TL_Avg_Spotify_Tempo, dtype: object"
      ]
     },
     "execution_count": 254,
     "metadata": {},
     "output_type": "execute_result"
    }
   ],
   "source": [
    "Good_Quality_Sets.groupby(\"TL_Name\")[\"TL_Avg_Spotify_Tempo\"].unique()"
   ]
  },
  {
   "cell_type": "markdown",
   "metadata": {},
   "source": [
    "![title](genresPic.png)"
   ]
  },
  {
   "cell_type": "markdown",
   "metadata": {},
   "source": [
    "With a quick google search on typical BPMs/Tempos for different genres, I was able to contextualize the differences in average tempo of each set we obtained from Spotify with the differences in scraped genres(s) of each set we obtained from 1001tracklist.com. "
   ]
  },
  {
   "cell_type": "markdown",
   "metadata": {},
   "source": [
    "### Other Spotify Metrics"
   ]
  },
  {
   "cell_type": "markdown",
   "metadata": {},
   "source": [
    "Some other interesting metrics Spotify captures is the danceability or valence of an individual song. Each song is measured on a scale from 0 to 1 (more details on this in the diagram below)"
   ]
  },
  {
   "cell_type": "markdown",
   "metadata": {},
   "source": [
    "<table><tr>\n",
    "<td> <img src=\"danceability.png\" alt=\"Drawing\" style=\"width: 350px;\"/> </td>\n",
    "<td> <img src=\"valence.png\" alt=\"Drawing\" style=\"width: 350px;\"/> </td>\n",
    "</tr></table>"
   ]
  },
  {
   "cell_type": "markdown",
   "metadata": {},
   "source": [
    "We have already established that there is a significant difference between genres/tempos between the 3 sets we've looked at despite the fact that it was played by the same artist. Let's see if this translates into differences in danceability and valence (i.e. \"mood\")."
   ]
  },
  {
   "cell_type": "code",
   "execution_count": 276,
   "metadata": {},
   "outputs": [
    {
     "data": {
      "text/plain": [
       "TL_Name\n",
       "Ekali & Cold Blue - Night Owl Radio 187 2019-03-22                 [0.861]\n",
       "Ekali @ EDC Las Vegas 2019-05-19                                   [0.657]\n",
       "Ekali @ Orlando Amphitheater 2019-02-02               [0.5163333333333333]\n",
       "Name: TL_Avg_Spotify_Danceability, dtype: object"
      ]
     },
     "execution_count": 276,
     "metadata": {},
     "output_type": "execute_result"
    }
   ],
   "source": [
    "Good_Quality_Sets.groupby(\"TL_Name\")[\"TL_Avg_Spotify_Danceability\"].unique()"
   ]
  },
  {
   "cell_type": "code",
   "execution_count": 277,
   "metadata": {},
   "outputs": [
    {
     "data": {
      "text/plain": [
       "<matplotlib.legend.Legend at 0x11f1b6e80>"
      ]
     },
     "execution_count": 277,
     "metadata": {},
     "output_type": "execute_result"
    },
    {
     "data": {
      "image/png": "[encoded data removed]",
      "text/plain": [
       "<Figure size 648x432 with 2 Axes>"
      ]
     },
     "metadata": {
      "needs_background": "light"
     },
     "output_type": "display_data"
    }
   ],
   "source": [
    "fig, axes = plt.subplots(nrows = 1, ncols = 2)\n",
    "fig.set_size_inches(9, 6)\n",
    "\n",
    "#Danceability\n",
    "Danceability_Plot = sns.countplot(x = \"TL_Avg_Spotify_Danceability\", hue = \"TL_Name\", data = Good_Quality_Sets, ax = axes[0])\n",
    "axes[0].set_title(\"Danceability\")\n",
    "axes[0].legend(loc = \"upper left\", fontsize = 7)\n",
    "\n",
    "#Valence\n",
    "Valence_Plot = sns.countplot(x = \"TL_Avg_Spotify_Valence\", hue = \"TL_Name\", data = Good_Quality_Sets, ax = axes[1])\n",
    "axes[1].set_title(\"Valence\")\n",
    "axes[1].legend(loc = \"upper left\", fontsize = 7)"
   ]
  },
  {
   "cell_type": "markdown",
   "metadata": {},
   "source": [
    "### Summary of Findings"
   ]
  },
  {
   "cell_type": "markdown",
   "metadata": {},
   "source": [
    "* **Established a correlation between Genre and Tempo:** More data and further statistical testing can be conducted to see if this remains true across multiple genres/artists.\n",
    "* **Established initial hypothesis that there are differences between sets by the same artist:** Both the danceability and mood of 3 of the most recent sets played by the same artist differed significantly. This will be useful in building out our recommendation engine using a Spotify User's most recently listened to songs, saved songs, and top artists"
   ]
  },
  {
   "cell_type": "markdown",
   "metadata": {},
   "source": [
    "# 3. Recommendation Engine Building"
   ]
  },
  {
   "cell_type": "markdown",
   "metadata": {},
   "source": [
    "Since my goal is to recommend a set/mix that a Spotify User will most likely like, I will try to score each set/mix based on 4 factors:\n",
    "* Set's Artist Similarity to current top Artists\n",
    "* Set's Song Similiarty to current top Songs and saved Songs\n",
    "* Set's Overall popularity based on 1001tracklists.com\n",
    "* Audio Feature Similarities between current top Songs and saved Songs with the Set's Average Audio Feature Metrics"
   ]
  },
  {
   "cell_type": "code",
   "execution_count": 444,
   "metadata": {},
   "outputs": [
    {
     "data": {
      "text/html": [
       "<div>\n",
       "<style scoped>\n",
       "    .dataframe tbody tr th:only-of-type {\n",
       "        vertical-align: middle;\n",
       "    }\n",
       "\n",
       "    .dataframe tbody tr th {\n",
       "        vertical-align: top;\n",
       "    }\n",
       "\n",
       "    .dataframe thead th {\n",
       "        text-align: right;\n",
       "    }\n",
       "</style>\n",
       "<table border=\"1\" class=\"dataframe\">\n",
       "  <thead>\n",
       "    <tr style=\"text-align: right;\">\n",
       "      <th></th>\n",
       "      <th>SetNames</th>\n",
       "      <th>ArtistSimilarity</th>\n",
       "      <th>SongSimilarity</th>\n",
       "      <th>TLPopularity</th>\n",
       "      <th>AFSimilarity</th>\n",
       "    </tr>\n",
       "  </thead>\n",
       "  <tbody>\n",
       "    <tr>\n",
       "      <th>0</th>\n",
       "      <td>(Ekali &amp; Cold Blue - Night Owl Radio 187 2019-...</td>\n",
       "      <td>1</td>\n",
       "      <td>1</td>\n",
       "      <td>1</td>\n",
       "      <td>2</td>\n",
       "    </tr>\n",
       "    <tr>\n",
       "      <th>1</th>\n",
       "      <td>(Ekali - Awakening Mix #7 2019-04-16, False)</td>\n",
       "      <td>1</td>\n",
       "      <td>1</td>\n",
       "      <td>1</td>\n",
       "      <td>0</td>\n",
       "    </tr>\n",
       "    <tr>\n",
       "      <th>2</th>\n",
       "      <td>(Ekali @ Beyond Wonderland 2019-03-23, False)</td>\n",
       "      <td>1</td>\n",
       "      <td>1</td>\n",
       "      <td>1</td>\n",
       "      <td>0</td>\n",
       "    </tr>\n",
       "    <tr>\n",
       "      <th>3</th>\n",
       "      <td>(Ekali @ EDC Las Vegas 2019-05-19, False)</td>\n",
       "      <td>1</td>\n",
       "      <td>1</td>\n",
       "      <td>1</td>\n",
       "      <td>2</td>\n",
       "    </tr>\n",
       "    <tr>\n",
       "      <th>4</th>\n",
       "      <td>(Ekali @ Orlando Amphitheater 2019-02-02, False)</td>\n",
       "      <td>1</td>\n",
       "      <td>1</td>\n",
       "      <td>1</td>\n",
       "      <td>2</td>\n",
       "    </tr>\n",
       "    <tr>\n",
       "      <th>5</th>\n",
       "      <td>(Ekali @ SIAM Songkran Music Festival 2019-04-...</td>\n",
       "      <td>1</td>\n",
       "      <td>1</td>\n",
       "      <td>1</td>\n",
       "      <td>0</td>\n",
       "    </tr>\n",
       "  </tbody>\n",
       "</table>\n",
       "</div>"
      ],
      "text/plain": [
       "                                            SetNames  ArtistSimilarity  \\\n",
       "0  (Ekali & Cold Blue - Night Owl Radio 187 2019-...                 1   \n",
       "1       (Ekali - Awakening Mix #7 2019-04-16, False)                 1   \n",
       "2      (Ekali @ Beyond Wonderland 2019-03-23, False)                 1   \n",
       "3          (Ekali @ EDC Las Vegas 2019-05-19, False)                 1   \n",
       "4   (Ekali @ Orlando Amphitheater 2019-02-02, False)                 1   \n",
       "5  (Ekali @ SIAM Songkran Music Festival 2019-04-...                 1   \n",
       "\n",
       "   SongSimilarity  TLPopularity  AFSimilarity  \n",
       "0               1             1             2  \n",
       "1               1             1             0  \n",
       "2               1             1             0  \n",
       "3               1             1             2  \n",
       "4               1             1             2  \n",
       "5               1             1             0  "
      ]
     },
     "execution_count": 444,
     "metadata": {},
     "output_type": "execute_result"
    }
   ],
   "source": [
    "#Creating a new Dataframe to score each set\n",
    "set_order = Master_DF.groupby(\"TL_Name\")[\"New_Col_Artist_Flag\"].value_counts()\n",
    "set_order = set_order.groupby(level = 0).apply(lambda x: x.iloc[0:1])\n",
    "set_order.index = set_order.index.droplevel(0)\n",
    "set_order = list(set_order.index)\n",
    "\n",
    "SetNames = set_order\n",
    "ArtistSimilarity = {\"ArtistSimilarity\": [1, 1, 1, 1]}\n",
    "SongSimilarity = {\"SongSimilarity\": [1, 1, 1, 1]}\n",
    "TLPopularity = {\"TLPopularity\": [1, 1, 1, 1]}\n",
    "AFSimilarity = {\"AFSimilarity\": [2, 2, 2, 2]}\n",
    "scoring_d = {\"SetNames\": set_order, \"ArtistSimilarity\": [1, 1, 1, 1, 1, 1], \"SongSimilarity\": [1, 1, 1, 1, 1, 1], \"TLPopularity\": [1, 1, 1, 1, 1, 1], \"AFSimilarity\": [2, 0, 0, 2, 2, 0]}\n",
    "\n",
    "scoring_DF = pd.DataFrame(data = scoring_d)\n",
    "scoring_DF"
   ]
  },
  {
   "cell_type": "code",
   "execution_count": 445,
   "metadata": {},
   "outputs": [],
   "source": [
    "#Converting spotify user's unique artists and songs into regex pattern\n",
    "artist_regex_pattern = '|'.join(unique_artists)\n",
    "song_regex_pattern = '|'.join(unique_songs)"
   ]
  },
  {
   "cell_type": "code",
   "execution_count": 446,
   "metadata": {},
   "outputs": [
    {
     "name": "stderr",
     "output_type": "stream",
     "text": [
      "/anaconda2/envs/springboard/lib/python3.7/site-packages/ipykernel_launcher.py:5: UserWarning: This pattern has match groups. To actually get the groups, use str.extract.\n",
      "  \"\"\"\n"
     ]
    }
   ],
   "source": [
    "#Creating a new column in dataframe if artist match is found in tracklist\n",
    "Master_DF[\"New_Col_Artist_Flag\"] = Master_DF[\"TL_SongArtist\"].str.contains(artist_regex_pattern).fillna('')\n",
    "\n",
    "#Creating a new collumn in dataframe if song match is found in tracklist\n",
    "Master_DF[\"New_Col_Song_Flag\"] = Master_DF[\"TL_SongName\"].str.contains(song_regex_pattern).fillna('')"
   ]
  },
  {
   "cell_type": "markdown",
   "metadata": {},
   "source": [
    "# 3.1 Artist Similarity Score"
   ]
  },
  {
   "cell_type": "code",
   "execution_count": 447,
   "metadata": {
    "scrolled": true
   },
   "outputs": [
    {
     "name": "stdout",
     "output_type": "stream",
     "text": [
      "TL_Name\n",
      "Ekali & Cold Blue - Night Owl Radio 187 2019-03-22    0.000000\n",
      "Ekali - Awakening Mix #7 2019-04-16                   0.043478\n",
      "Ekali @ Beyond Wonderland 2019-03-23                  0.312500\n",
      "Ekali @ EDC Las Vegas 2019-05-19                      0.259259\n",
      "Ekali @ Orlando Amphitheater 2019-02-02               0.301587\n",
      "Ekali @ SIAM Songkran Music Festival 2019-04-14       0.275862\n",
      "Name: New_Col_Artist_Flag, dtype: float64\n"
     ]
    }
   ],
   "source": [
    "#Creating an Artist Similarity Score\n",
    "Master_DF.groupby(\"TL_Name\")[\"New_Col_Artist_Flag\"].value_counts()\n",
    "AS = Master_DF.groupby(\"TL_Name\")[\"New_Col_Artist_Flag\"].sum()/Master_DF.groupby(\"TL_Name\")[\"New_Col_Artist_Flag\"].count()\n",
    "print(AS)\n",
    "AS = list(AS)"
   ]
  },
  {
   "cell_type": "markdown",
   "metadata": {},
   "source": [
    "# 3.2 Song Similarity Score"
   ]
  },
  {
   "cell_type": "code",
   "execution_count": 448,
   "metadata": {},
   "outputs": [
    {
     "name": "stdout",
     "output_type": "stream",
     "text": [
      "TL_Name\n",
      "Ekali & Cold Blue - Night Owl Radio 187 2019-03-22    0.000000\n",
      "Ekali - Awakening Mix #7 2019-04-16                   0.000000\n",
      "Ekali @ Beyond Wonderland 2019-03-23                  0.156250\n",
      "Ekali @ EDC Las Vegas 2019-05-19                      0.074074\n",
      "Ekali @ Orlando Amphitheater 2019-02-02               0.079365\n",
      "Ekali @ SIAM Songkran Music Festival 2019-04-14       0.086207\n",
      "Name: New_Col_Song_Flag, dtype: float64\n"
     ]
    }
   ],
   "source": [
    "#Creating a Song Similarity Score\n",
    "Master_DF.groupby(\"TL_Name\")[\"New_Col_Song_Flag\"].value_counts()\n",
    "SS = Master_DF.groupby(\"TL_Name\")[\"New_Col_Song_Flag\"].sum()/Master_DF.groupby(\"TL_Name\")[\"New_Col_Song_Flag\"].count()\n",
    "print(SS)\n",
    "SS = list(SS)"
   ]
  },
  {
   "cell_type": "markdown",
   "metadata": {},
   "source": [
    "# 3.3 Set/Mix Popularity Score"
   ]
  },
  {
   "cell_type": "code",
   "execution_count": 467,
   "metadata": {},
   "outputs": [
    {
     "name": "stdout",
     "output_type": "stream",
     "text": [
      "TL_Name\n",
      "Ekali & Cold Blue - Night Owl Radio 187 2019-03-22    [2]\n",
      "Ekali - Awakening Mix #7 2019-04-16                   [5]\n",
      "Ekali @ Beyond Wonderland 2019-03-23                  [0]\n",
      "Ekali @ EDC Las Vegas 2019-05-19                      [7]\n",
      "Ekali @ Orlando Amphitheater 2019-02-02               [3]\n",
      "Ekali @ SIAM Songkran Music Festival 2019-04-14       [2]\n",
      "Name: TL_Likes, dtype: object\n",
      "TL_Name\n",
      "Ekali & Cold Blue - Night Owl Radio 187 2019-03-22    [1108]\n",
      "Ekali - Awakening Mix #7 2019-04-16                   [3738]\n",
      "Ekali @ Beyond Wonderland 2019-03-23                   [882]\n",
      "Ekali @ EDC Las Vegas 2019-05-19                      [5027]\n",
      "Ekali @ Orlando Amphitheater 2019-02-02               [2049]\n",
      "Ekali @ SIAM Songkran Music Festival 2019-04-14       [1921]\n",
      "Name: TL_Views, dtype: object\n"
     ]
    }
   ],
   "source": [
    "Likes = Master_DF.groupby(\"TL_Name\")[\"TL_Likes\"].unique()\n",
    "Views = Master_DF.groupby(\"TL_Name\")[\"TL_Views\"].unique()\n",
    "print(Likes)\n",
    "print(Views)\n",
    "PS = Likes / Views\n",
    "#Figure out how to unpack list of arrays into list\n",
    "PS = [0.00180505, 0.00133761, 0, 0.00139248, 0.00146413, 0.00104112]"
   ]
  },
  {
   "cell_type": "markdown",
   "metadata": {},
   "source": [
    "# 3.4 Audio Feature Similarity Score"
   ]
  },
  {
   "cell_type": "code",
   "execution_count": 468,
   "metadata": {},
   "outputs": [
    {
     "name": "stdout",
     "output_type": "stream",
     "text": [
      "       acousticness  danceability     energy  instrumentalness        key  \\\n",
      "count     69.000000     69.000000  69.000000         69.000000  69.000000   \n",
      "mean       0.134381      0.609594   0.693826          0.246218   6.072464   \n",
      "std        0.184917      0.113371   0.160771          0.340270   3.524364   \n",
      "min        0.000753      0.276000   0.272000          0.000000   0.000000   \n",
      "25%        0.015100      0.542000   0.615000          0.000017   4.000000   \n",
      "50%        0.057100      0.612000   0.719000          0.002340   6.000000   \n",
      "75%        0.188000      0.678000   0.811000          0.494000   9.000000   \n",
      "max        0.881000      0.898000   0.964000          0.943000  11.000000   \n",
      "\n",
      "        loudness       mode       tempo  time_signature    valence  \n",
      "count  69.000000  69.000000   69.000000       69.000000  69.000000  \n",
      "mean   -6.344580   0.362319  125.588971        3.985507   0.303429  \n",
      "std     2.392587   0.484192   30.195341        0.120386   0.193038  \n",
      "min   -12.928000   0.000000   70.142000        3.000000   0.033800  \n",
      "25%    -7.195000   0.000000   97.512000        4.000000   0.158000  \n",
      "50%    -5.789000   0.000000  130.055000        4.000000   0.270000  \n",
      "75%    -4.892000   1.000000  150.032000        4.000000   0.430000  \n",
      "max    -1.647000   1.000000  180.081000        4.000000   0.794000  \n"
     ]
    }
   ],
   "source": [
    "#My Personal Spotify Data\n",
    "print(songFeatures_DF.describe())"
   ]
  },
  {
   "cell_type": "code",
   "execution_count": 469,
   "metadata": {},
   "outputs": [],
   "source": [
    "#Looking at just Danceability and Valence\n",
    "MyCurrentDanceability = songFeatures_DF[\"danceability\"].mean()\n",
    "MyCurrentMood = songFeatures_DF[\"valence\"].mean()\n",
    "\n",
    "#Grabbing average danceability and valence from spotify x 1001tracklist data\n",
    "avg_set_danceability = list(Good_Quality_Sets.groupby(\"TL_Name\")[\"TL_Avg_Spotify_Danceability\"].unique())\n",
    "avg_set_mood = list(Good_Quality_Sets.groupby(\"TL_Name\")[\"TL_Avg_Spotify_Valence\"].unique())"
   ]
  },
  {
   "cell_type": "code",
   "execution_count": 470,
   "metadata": {},
   "outputs": [],
   "source": [
    "#Initializing diff in means array\n",
    "diff_means_danceability = []\n",
    "diff_means_mood = []\n",
    "\n",
    "#Calculating abs difference from mean from each quality set\n",
    "for set in avg_set_danceability:\n",
    "    diff_means_danceability.append(abs(MyCurrentDanceability - float(set)))\n",
    "#repeat for mood    \n",
    "for set in avg_set_mood:\n",
    "    diff_means_mood.append(abs(MyCurrentMood - float(set)))"
   ]
  },
  {
   "cell_type": "code",
   "execution_count": 471,
   "metadata": {},
   "outputs": [
    {
     "name": "stdout",
     "output_type": "stream",
     "text": [
      "[0.2514057971014495, 0.04740579710144954, 0.09326086956521717]\n",
      "[0.3125710144927536, 0.2539289855072464, 0.1174289855072464]\n"
     ]
    }
   ],
   "source": [
    "AF_List = list(Good_Quality_Sets[\"TL_Name\"].unique())\n",
    "print(diff_means_danceability)\n",
    "print(diff_means_mood)"
   ]
  },
  {
   "cell_type": "code",
   "execution_count": 472,
   "metadata": {},
   "outputs": [],
   "source": [
    "AF_weight = []\n",
    "for i in range(3):\n",
    "    AF_weight.append((diff_means_danceability[i] + diff_means_mood[i]) / 2)\n",
    "AF_weights = [AF_weight[0], 0, 0, AF_weight[1], AF_weight[2], 0]"
   ]
  },
  {
   "cell_type": "markdown",
   "metadata": {},
   "source": [
    "# 3.5 Final Recommendation"
   ]
  },
  {
   "cell_type": "code",
   "execution_count": 473,
   "metadata": {},
   "outputs": [],
   "source": [
    "#print(scoring_DF[\"ArtistSimilarity\"] * AS)\n",
    "#print(scoring_DF[\"SongSimilarity\"] * SS)\n",
    "#print(scoring_DF[\"TLPopularity\"] * PS)\n",
    "#GoodQualityFlag = '|'.join(AF_List)\n",
    "#scoring_DF[\"AF_Flag\"] = scoring_DF[\"SetNames\"].str.contains(GoodQualityFlag).fillna('')\n",
    "#print(scoring_DF[\"AFSimilarity\"] * AF_weights)\n",
    "\n",
    "final_rec = scoring_DF\n",
    "final_rec[\"ArtistSimilarity\"] = final_rec[\"ArtistSimilarity\"] * AS\n",
    "final_rec[\"SongSimilarity\"] = final_rec[\"SongSimilarity\"] * SS\n",
    "final_rec[\"TLPopularity\"] = final_rec[\"TLPopularity\"] * PS\n",
    "final_rec[\"ArtistSimilarity\"] = final_rec[\"ArtistSimilarity\"] * AF_weights"
   ]
  },
  {
   "cell_type": "code",
   "execution_count": 474,
   "metadata": {},
   "outputs": [],
   "source": [
    "final_rec[\"Overall_Score\"] = final_rec[\"ArtistSimilarity\"] + final_rec[\"SongSimilarity\"] + final_rec[\"TLPopularity\"] + final_rec[\"ArtistSimilarity\"]"
   ]
  },
  {
   "cell_type": "code",
   "execution_count": 478,
   "metadata": {},
   "outputs": [
    {
     "data": {
      "text/html": [
       "<div>\n",
       "<style scoped>\n",
       "    .dataframe tbody tr th:only-of-type {\n",
       "        vertical-align: middle;\n",
       "    }\n",
       "\n",
       "    .dataframe tbody tr th {\n",
       "        vertical-align: top;\n",
       "    }\n",
       "\n",
       "    .dataframe thead th {\n",
       "        text-align: right;\n",
       "    }\n",
       "</style>\n",
       "<table border=\"1\" class=\"dataframe\">\n",
       "  <thead>\n",
       "    <tr style=\"text-align: right;\">\n",
       "      <th></th>\n",
       "      <th>SetNames</th>\n",
       "      <th>ArtistSimilarity</th>\n",
       "      <th>SongSimilarity</th>\n",
       "      <th>TLPopularity</th>\n",
       "      <th>AFSimilarity</th>\n",
       "      <th>Overall_Score</th>\n",
       "    </tr>\n",
       "  </thead>\n",
       "  <tbody>\n",
       "    <tr>\n",
       "      <th>0</th>\n",
       "      <td>(Ekali &amp; Cold Blue - Night Owl Radio 187 2019-...</td>\n",
       "      <td>0.000000</td>\n",
       "      <td>0.000000</td>\n",
       "      <td>0.001805</td>\n",
       "      <td>2</td>\n",
       "      <td>0.001805</td>\n",
       "    </tr>\n",
       "    <tr>\n",
       "      <th>1</th>\n",
       "      <td>(Ekali - Awakening Mix #7 2019-04-16, False)</td>\n",
       "      <td>0.000000</td>\n",
       "      <td>0.000000</td>\n",
       "      <td>0.001338</td>\n",
       "      <td>0</td>\n",
       "      <td>0.001338</td>\n",
       "    </tr>\n",
       "    <tr>\n",
       "      <th>2</th>\n",
       "      <td>(Ekali @ Beyond Wonderland 2019-03-23, False)</td>\n",
       "      <td>0.000000</td>\n",
       "      <td>0.024414</td>\n",
       "      <td>0.000000</td>\n",
       "      <td>0</td>\n",
       "      <td>0.024414</td>\n",
       "    </tr>\n",
       "    <tr>\n",
       "      <th>3</th>\n",
       "      <td>(Ekali @ EDC Las Vegas 2019-05-19, False)</td>\n",
       "      <td>0.010127</td>\n",
       "      <td>0.005487</td>\n",
       "      <td>0.001392</td>\n",
       "      <td>2</td>\n",
       "      <td>0.027134</td>\n",
       "    </tr>\n",
       "    <tr>\n",
       "      <th>4</th>\n",
       "      <td>(Ekali @ Orlando Amphitheater 2019-02-02, False)</td>\n",
       "      <td>0.009582</td>\n",
       "      <td>0.006299</td>\n",
       "      <td>0.001464</td>\n",
       "      <td>2</td>\n",
       "      <td>0.026926</td>\n",
       "    </tr>\n",
       "    <tr>\n",
       "      <th>5</th>\n",
       "      <td>(Ekali @ SIAM Songkran Music Festival 2019-04-...</td>\n",
       "      <td>0.000000</td>\n",
       "      <td>0.007432</td>\n",
       "      <td>0.001041</td>\n",
       "      <td>0</td>\n",
       "      <td>0.008473</td>\n",
       "    </tr>\n",
       "  </tbody>\n",
       "</table>\n",
       "</div>"
      ],
      "text/plain": [
       "                                            SetNames  ArtistSimilarity  \\\n",
       "0  (Ekali & Cold Blue - Night Owl Radio 187 2019-...          0.000000   \n",
       "1       (Ekali - Awakening Mix #7 2019-04-16, False)          0.000000   \n",
       "2      (Ekali @ Beyond Wonderland 2019-03-23, False)          0.000000   \n",
       "3          (Ekali @ EDC Las Vegas 2019-05-19, False)          0.010127   \n",
       "4   (Ekali @ Orlando Amphitheater 2019-02-02, False)          0.009582   \n",
       "5  (Ekali @ SIAM Songkran Music Festival 2019-04-...          0.000000   \n",
       "\n",
       "   SongSimilarity  TLPopularity  AFSimilarity  Overall_Score  \n",
       "0        0.000000      0.001805             2       0.001805  \n",
       "1        0.000000      0.001338             0       0.001338  \n",
       "2        0.024414      0.000000             0       0.024414  \n",
       "3        0.005487      0.001392             2       0.027134  \n",
       "4        0.006299      0.001464             2       0.026926  \n",
       "5        0.007432      0.001041             0       0.008473  "
      ]
     },
     "execution_count": 478,
     "metadata": {},
     "output_type": "execute_result"
    }
   ],
   "source": [
    "final_rec"
   ]
  }
 ],
 "metadata": {
  "kernelspec": {
   "display_name": "Python 3",
   "language": "python",
   "name": "python3"
  },
  "language_info": {
   "codemirror_mode": {
    "name": "ipython",
    "version": 3
   },
   "file_extension": ".py",
   "mimetype": "text/x-python",
   "name": "python",
   "nbconvert_exporter": "python",
   "pygments_lexer": "ipython3",
   "version": "3.7.3"
  }
 },
 "nbformat": 4,
 "nbformat_minor": 2
}
