{
 "cells": [
  {
   "cell_type": "markdown",
   "metadata": {},
   "source": [
    "# Capstone Project 2: Creating a Recommendation System for DJ Mixes using a Spotify User's preferences"
   ]
  },
  {
   "cell_type": "markdown",
   "metadata": {},
   "source": [
    "## TOC:\n",
    "* [1. Introduction](#1.-Introduction)\n",
    "    * [1.1 Data Source and Importation](#1.1-Data-Source-and-Importation)\n",
    "    * [1.2 Data Cleaning (Spotify)](#1.2-Data-Cleaning-(Spotify))\n",
    "    * [1.3 Data Cleaning (1001tracklists.com)](#1.3-Data-Cleaning-(1001tracklists.com))\n",
    "    * [1.4 Combining Datasets](#1.4-Combining-Datasets)\n",
    "* [2. Exploratory Data Analysis](#2.-Exploratory-Data-Analysis)\n",
    "    * [2.1 Genre Differences in Sets/Mixes](#2.1-Genre-Differences-in-Sets/Mixes)\n",
    "    * [2.2 Relationship between Spotify Metrics](#2.2-Relationship-between-Spotify-Metrics)\n",
    "* [3. Recommendation Engine Building](#3.-Recommendation-Engine-Building)\n",
    "    * [3.1 Artist Similarity Score](#3.1-Artist-Similarity-Score)\n",
    "    * [3.2 Song Similarity Score](#3.2-Song-Similarity-Score)\n",
    "    * [3.3 Set/Mix Popularity Score](#3.3-Set/Mix-Popularity-Score)\n",
    "    * [3.4 Audio Feature Similarity Score](#3.4-Audio-Feature-Similarity-Score)\n",
    "* [4. Conclusion](#4.-Conclusion)\n",
    "    * [4.1 Results and Next Steps](#4.1-Results-and-Next-Steps)"
   ]
  },
  {
   "cell_type": "markdown",
   "metadata": {},
   "source": [
    "# 1. Introduction"
   ]
  },
  {
   "cell_type": "markdown",
   "metadata": {},
   "source": [
    "I love being recommended and recommending new songs & artists to friends. But in today’s data-driven world, recommendation engines control the new content we see and hear. Whether it be a new product on Amazon, a new show on Netflix, or a new song in your discover weekly Spotify playlist, recommendation engines may know you better than anyone else. \n",
    "\n",
    "Let’s take a look at Spotify’s Discover Weekly feature as an example of a recommendation algorithm. It combines various methods, including content-based filtering methods, which looks at the raw audio features of a song to recommend new songs that are similar to songs you’ve listened to and liked before. A closer exploration of Spotify’s recommendation algorithm can be found here: https://medium.com/datadriveninvestor/behind-spotify-recommendation-engine-a9b5a27a935\n",
    "\n",
    "Yet even with Spotify’s Discover Weekly feature, there aren’t any good recommendation systems for sets/mixes. When it comes to electronic music, I love recommending sets/mixes rather than individual songs because I believe they can more accurately convey the artist’s style. For example, an artist might play unreleased edits, IDs (i.e. unidentifiable songs, typically consisting of an unreleased song by the artist or an artist with a similar style), and play a myriad of songs ranging from their entire discography rather their most recent album. The set/mix might also include some mixing techniques (i.e. transitioning from one song to another) or other live elements that you won’t hear by streaming an individual song. Often times, it’s a combination of these additional “elements” to a set/mix that I want to recommend…and today’s recommendation engines simply don’t have the means to capture this type of data and recommend a set/mix. \n",
    "\n",
    "For my 2nd Capstone Project, I try to solve for this by utilizing content-based filtering and collaborative filtering methods to create a recommendation algorithm for sets/mixes. For this, I will need data on both a user’s music preferences and relevant data for sets/mixes. The biggest pitfall today is the lack of available data on sets/mixes and the ability to stream the actual set/mix itself. To combat this, I use Spotify’s Web API to pull a user’s top artists and created an automated-web scraper that searches for a Spotify user’s top artists on a 3rd party website that lists the artist’s most recent sets/mixes and the individual songs played in each set/mix along with other relevant metadata about the set/mix itself. \n",
    "* Problem: Creating a recommendation engine for sets/mixes using a Spotify user’s preferences and data scraped from 3rd party resources\n",
    "* Dataset: Data queried from Spotify’s Web API, data scraped from 1001tracklist.com\n"
   ]
  },
  {
   "cell_type": "markdown",
   "metadata": {},
   "source": [
    "# 1.1 Data Source and Importation"
   ]
  },
  {
   "cell_type": "markdown",
   "metadata": {},
   "source": [
    "The data needed to build an effective recommendation system includes two kinds of inputs: data on **users** and data on **items**:\n",
    "\n",
    "### Users: Spotify Users\n",
    "* **Dataset Description**: JSON Objects containing a Spotify User’s top songs, top artists, and saved songs pulled directly from Spotify\n",
    "* **Dataset Source**: Spotify’s Web API\n",
    "\n",
    "### Items: Sets/Mixes\n",
    "* **Dataset Description**: Dataframe containing up to 30 of the most recent sets/mixes played by the Spotify user’s top electronic artists with relevant metrics such as total views, total likes, individual songs played, genres, artists of other songs played, location, etc.\n",
    "* **Dataset Source**: Data scraped via a custom-built automated web-scraper utilizing Selenium and BeautifulSoup on a 3rd party website that incentivizes users to list and identify songs played in a set/mix\n",
    "\n"
   ]
  },
  {
   "cell_type": "markdown",
   "metadata": {},
   "source": [
    "# 1.2 Data Cleaning (Spotify)"
   ]
  },
  {
   "cell_type": "markdown",
   "metadata": {},
   "source": [
    "### Overview of Spotify's Web API"
   ]
  },
  {
   "cell_type": "markdown",
   "metadata": {},
   "source": [
    "To access a Spotify user’s music preferences, one must create and register an app and request authorization from both Spotify and the user"
   ]
  },
  {
   "cell_type": "markdown",
   "metadata": {},
   "source": [
    "![title](SpotifyPic1.png)\n",
    "![title](SpotifyPic2.png)"
   ]
  },
  {
   "cell_type": "markdown",
   "metadata": {},
   "source": [
    "The diagrams above illustrate how a API call was processed to access user data. \n",
    "\n",
    "For the purposes of this report, the following should be noted:\n",
    "* Different databases accessed via different scopes: Since we are accessing a Spotify User’s top songs, top artists, and saved songs as inputs to our recommendation engine, the following scopes were specified in our API call:\n",
    "    * User-library-read\n",
    "    * User-top-read\n",
    "\n",
    "<table><tr>\n",
    "<td> <img src=\"SpotifyPic3.png\" alt=\"Drawing\" style=\"width: 250px;\"/> </td>\n",
    "<td> <img src=\"SpotifyPic4.png\" alt=\"Drawing\" style=\"width: 250px;\"/> </td>\n",
    "</tr></table>"
   ]
  },
  {
   "cell_type": "markdown",
   "metadata": {},
   "source": [
    "### Example API Request using my Spotify Account"
   ]
  },
  {
   "cell_type": "markdown",
   "metadata": {},
   "source": [
    "For this report, I will use my personal Spotify data to illustrate how a Spotify user's data will be accessed:"
   ]
  },
  {
   "cell_type": "code",
   "execution_count": 1,
   "metadata": {},
   "outputs": [
    {
     "name": "stdout",
     "output_type": "stream",
     "text": [
      "Blame (NGHTMRE Remix) - Ekali\n",
      "Forever (feat. Elohim) - Ekali\n",
      "Helios - Ekali\n",
      "Forever (feat. Elohim) - Laxcity Remix - Ekali\n",
      "R U I N - Ekali\n",
      "Jundo - Ekali\n",
      "Forgot How To Dream (feat. K.Flay) - Ekali\n",
      "Babylon (feat. Denzel Curry) - Skrillex & Ronny J Remix - Ekali\n",
      "Babylon (feat. Denzel Curry) - Ekali\n",
      "Leaving (feat. Yuna) - Ekali\n",
      "Blame - Ekali\n",
      "Take a Walk - Passion Pit\n",
      "Sleepyhead - Passion Pit\n",
      "thank u, next - Ariana Grande\n",
      "break up with your girlfriend, i'm bored - Ariana Grande\n",
      "7 rings - Ariana Grande\n",
      "Everything (feat. RIA) - Rusty Hook\n",
      "X / Love - Hex Cougar\n",
      "No Friend Zone - VAVO\n",
      "F8 - DELAY.\n",
      "0 Lake Placid OZZIE\n",
      "1 Blame Ekali\n",
      "2 XILLA! MEMBA\n",
      "3 Golden Fur Elfkowitz\n",
      "4 Splitting The Atom Massive Attack\n",
      "5 Hotbox Liquid Stranger\n",
      "6 Affirmative Action Nas\n",
      "7 Little Dark Age MGMT\n",
      "8 Soul to Seoul TOKiMONSTA\n",
      "9 Sleepyhead Passion Pit\n",
      "10 Me & You OZZIE\n",
      "11 Garde Le Pour Toi Paradis\n",
      "12 Xtra Hucci\n",
      "13 Tonight Kidswaste\n",
      "14 WHEN I WAS OLDER - Music Inspired By The Film ROMA Billie Eilish\n",
      "15 In Your Head - RL Grime Edit G Jones\n",
      "16 Take a Walk Passion Pit\n",
      "17 break up with your girlfriend, i'm bored Ariana Grande\n",
      "18 Luna OZZIE\n",
      "19 Peyote Hippie Sabotage\n",
      "20 Realm Hucci\n",
      "21 On My Own Lookas\n",
      "22 Endless Slow Hours\n",
      "23 Savage MCTR\n",
      "24 White Space FLAGZ\n",
      "25 Yours Ian Munro\n",
      "26 Touch - Zeds Dead Remix 3LAU\n",
      "Maroon 5\n",
      "['pop']\n",
      "88\n",
      "19343461\n",
      "4B\n",
      "['brostep', 'electro house', 'electronic trap', 'moombahton']\n",
      "54\n",
      "54547\n",
      "Peking Duk\n",
      "['aussietronica', 'australian electropop', 'australian indie', 'australian pop', 'edm']\n",
      "63\n",
      "165177\n",
      "Ekali\n",
      "['bass trap', 'brostep', 'canadian electronic', 'edm', 'electro house', 'electronic trap', 'pop edm', 'vapor soul', 'vapor twitch']\n",
      "60\n",
      "79314\n",
      "Go Radio\n",
      "['emo', 'neon pop punk', 'pop emo', 'pop punk']\n",
      "52\n",
      "104698\n",
      "San Holo\n",
      "['edm', 'electro house', 'electronic trap', 'pop', 'pop edm', 'tropical house', 'vapor twitch']\n",
      "69\n",
      "485890\n",
      "Flo Rida\n",
      "['dance pop', 'edm', 'miami hip hop', 'pop', 'pop rap']\n",
      "81\n",
      "7161555\n",
      "QUIX\n",
      "['bass trap', 'brostep', 'electro house', 'electronic trap', 'vapor twitch']\n",
      "62\n",
      "32580\n",
      "Steve Reece\n",
      "[]\n",
      "43\n",
      "2397\n",
      "Ookay\n",
      "['brostep', 'edm', 'electro house', 'electronic trap', 'pop edm', 'vapor twitch']\n",
      "62\n",
      "193113\n",
      "Mister Blonde\n",
      "[]\n",
      "42\n",
      "1238\n",
      "Jack Ü\n",
      "['edm', 'electro house', 'pop']\n",
      "67\n",
      "958027\n",
      "Ship Wrek\n",
      "['bass trap', 'tracestep']\n",
      "55\n",
      "22780\n",
      "Usher\n",
      "['atl hip hop', 'dance pop', 'pop', 'pop rap', 'r&b', 'urban contemporary']\n",
      "81\n",
      "7042477\n",
      "Post Malone\n",
      "['dfw rap', 'pop', 'rap']\n",
      "95\n",
      "15921995\n",
      "Jai Wolf\n",
      "['edm', 'electropop', 'indie electro-pop', 'pop edm', 'tropical house', 'vapor soul', 'vapor twitch']\n",
      "65\n",
      "156407\n",
      "JOYRYDE\n",
      "['bass house', 'brostep', 'edm', 'electro house', 'electronic trap', 'moombahton']\n",
      "61\n",
      "100783\n",
      "Flosstradamus\n",
      "['bass trap', 'brostep', 'edm', 'electro house', 'electronic trap', 'mashup', 'moombahton']\n",
      "63\n",
      "242664\n",
      "FKJ\n",
      "['filter house']\n",
      "71\n",
      "531961\n",
      "KRANE\n",
      "['bass trap', 'electronic trap', 'pop edm', 'traprun', 'vapor twitch']\n",
      "50\n",
      "36622\n",
      "\n",
      "Maroon 5\n",
      "['pop']\n",
      "88\n",
      "19343461\n",
      "4B\n",
      "['brostep', 'electro house', 'electronic trap', 'moombahton']\n",
      "54\n",
      "54547\n",
      "Peking Duk\n",
      "['aussietronica', 'australian electropop', 'australian indie', 'australian pop', 'edm']\n",
      "63\n",
      "165177\n",
      "Ekali\n",
      "['bass trap', 'brostep', 'canadian electronic', 'edm', 'electro house', 'electronic trap', 'pop edm', 'vapor soul', 'vapor twitch']\n",
      "60\n",
      "79314\n",
      "Go Radio\n",
      "['emo', 'neon pop punk', 'pop emo', 'pop punk']\n",
      "52\n",
      "104698\n",
      "San Holo\n",
      "['edm', 'electro house', 'electronic trap', 'pop', 'pop edm', 'tropical house', 'vapor twitch']\n",
      "69\n",
      "485890\n",
      "Flo Rida\n",
      "['dance pop', 'edm', 'miami hip hop', 'pop', 'pop rap']\n",
      "81\n",
      "7161555\n",
      "QUIX\n",
      "['bass trap', 'brostep', 'electro house', 'electronic trap', 'vapor twitch']\n",
      "62\n",
      "32580\n",
      "Steve Reece\n",
      "[]\n",
      "43\n",
      "2397\n",
      "Ookay\n",
      "['brostep', 'edm', 'electro house', 'electronic trap', 'pop edm', 'vapor twitch']\n",
      "62\n",
      "193113\n",
      "Mister Blonde\n",
      "[]\n",
      "42\n",
      "1238\n",
      "Jack Ü\n",
      "['edm', 'electro house', 'pop']\n",
      "67\n",
      "958027\n",
      "Ship Wrek\n",
      "['bass trap', 'tracestep']\n",
      "55\n",
      "22780\n",
      "Usher\n",
      "['atl hip hop', 'dance pop', 'pop', 'pop rap', 'r&b', 'urban contemporary']\n",
      "81\n",
      "7042477\n",
      "Post Malone\n",
      "['dfw rap', 'pop', 'rap']\n",
      "95\n",
      "15921995\n",
      "Jai Wolf\n",
      "['edm', 'electropop', 'indie electro-pop', 'pop edm', 'tropical house', 'vapor soul', 'vapor twitch']\n",
      "65\n",
      "156407\n",
      "JOYRYDE\n",
      "['bass house', 'brostep', 'edm', 'electro house', 'electronic trap', 'moombahton']\n",
      "61\n",
      "100783\n",
      "Flosstradamus\n",
      "['bass trap', 'brostep', 'edm', 'electro house', 'electronic trap', 'mashup', 'moombahton']\n",
      "63\n",
      "242664\n",
      "FKJ\n",
      "['filter house']\n",
      "71\n",
      "531961\n",
      "KRANE\n",
      "['bass trap', 'electronic trap', 'pop edm', 'traprun', 'vapor twitch']\n",
      "50\n",
      "36622\n"
     ]
    }
   ],
   "source": [
    "#Importing other necessary packages\n",
    "import os.path\n",
    "import sys\n",
    "import pandas as pd\n",
    "\n",
    "#Importing from spotify script - spotifyxx_v4 outputs a quick summary of what I've been listening to on Spotify\n",
    "from spotifyxx_v4 import *\n",
    "\n",
    "#printing my top artists and some associated metadata\n",
    "for item in topArtists['artists']['items']:\n",
    "    print(item['name'])\n",
    "    print(item['genres'])\n",
    "    print(item['popularity'])\n",
    "    print(item['followers']['total'])"
   ]
  },
  {
   "cell_type": "markdown",
   "metadata": {},
   "source": [
    "### Getting Unique List of Songs, Artists, and Audio Features of Songs"
   ]
  },
  {
   "cell_type": "markdown",
   "metadata": {},
   "source": [
    "I first created dictionaries for Artists and Songs with the following keys:"
   ]
  },
  {
   "cell_type": "markdown",
   "metadata": {},
   "source": [
    "#### Artist Dictionary"
   ]
  },
  {
   "cell_type": "code",
   "execution_count": 2,
   "metadata": {},
   "outputs": [],
   "source": [
    "artist_dict = {\n",
    "        \"artist_name\": \"\",\n",
    "        \"artist_genre\": \"\",\n",
    "        \"artist_popularity\": 0,\n",
    "        \"artist_followers\": 0,\n",
    "}"
   ]
  },
  {
   "cell_type": "markdown",
   "metadata": {},
   "source": [
    "#### Song Dictionary"
   ]
  },
  {
   "cell_type": "code",
   "execution_count": 3,
   "metadata": {},
   "outputs": [],
   "source": [
    "song_features = {\n",
    "        \"key\": 0,\n",
    "        \"mode\": 0,\n",
    "        \"time_signature\": 0,\n",
    "        \"acousticness\": 0,\n",
    "        \"danceability\": 0,\n",
    "        \"energy\": 0,\n",
    "        \"loudness\": 0,\n",
    "        \"tempo\": 0,\n",
    "        \"id\": \"\",\n",
    "        \"uri\": \"\",\n",
    "        \"instrumentalness\": 0,\n",
    "        \"valence\": 0,\n",
    "        \"name\": \"\",\n",
    "}"
   ]
  },
  {
   "cell_type": "markdown",
   "metadata": {},
   "source": [
    "#### Dataframes"
   ]
  },
  {
   "cell_type": "markdown",
   "metadata": {},
   "source": [
    "I then converted each dictionary into a dataframe. "
   ]
  },
  {
   "cell_type": "code",
   "execution_count": 4,
   "metadata": {
    "scrolled": true
   },
   "outputs": [
    {
     "name": "stdout",
     "output_type": "stream",
     "text": [
      "   artist_followers                                       artist_genre  \\\n",
      "0          19343461                                              [pop]   \n",
      "1             54547  [brostep, electro house, electronic trap, moom...   \n",
      "2            165177  [aussietronica, australian electropop, austral...   \n",
      "3             79314  [bass trap, brostep, canadian electronic, edm,...   \n",
      "4            104698            [emo, neon pop punk, pop emo, pop punk]   \n",
      "\n",
      "  artist_name  artist_popularity  EDM_Artist  \n",
      "0    Maroon 5                 88       False  \n",
      "1          4B                 54       False  \n",
      "2  Peking Duk                 63        True  \n",
      "3       Ekali                 60        True  \n",
      "4    Go Radio                 52       False  \n",
      "      song_artist                 song_id           song_name\n",
      "0           OZZIE  089mwkU2EXDpGgWGJvRRWp         Lake Placid\n",
      "1           Ekali  089tprIgsyFSOrZpugamLI               Blame\n",
      "2           MEMBA  0XuLNUkcJdxiG2Jx5YRIUM              XILLA!\n",
      "3       Elfkowitz  0ZXWBhicBjtTXvRRRiimVZ          Golden Fur\n",
      "4  Massive Attack  1145Te1fP5ugxI1OyQk2Rq  Splitting The Atom\n",
      "  song_artist                 song_id                               song_name\n",
      "0       Ekali  7wNWHfyUjn96VkmI63XTDf                   Blame (NGHTMRE Remix)\n",
      "1       Ekali  3qlLSRfudjIMj9GyBcv1lV                  Forever (feat. Elohim)\n",
      "2       Ekali  1F83vsYR3tk76FmetJgEmM                                  Helios\n",
      "3       Ekali  1RVXcPFfuY6ivkAN4NNixa  Forever (feat. Elohim) - Laxcity Remix\n",
      "4       Ekali  0M620WTaDdSvPbXKEEH9zs                                 R U I N\n",
      "   acousticness  danceability  energy                      id  \\\n",
      "0        0.0354         0.616   0.844  7wNWHfyUjn96VkmI63XTDf   \n",
      "1        0.3080         0.695   0.625  3qlLSRfudjIMj9GyBcv1lV   \n",
      "2        0.0624         0.623   0.892  1F83vsYR3tk76FmetJgEmM   \n",
      "3        0.8810         0.469   0.343  1RVXcPFfuY6ivkAN4NNixa   \n",
      "4        0.1880         0.452   0.754  0M620WTaDdSvPbXKEEH9zs   \n",
      "\n",
      "   instrumentalness  key  loudness  mode  \\\n",
      "0          0.002340    9    -4.908     0   \n",
      "1          0.000055    1    -6.162     0   \n",
      "2          0.556000    5    -3.533     0   \n",
      "3          0.000118    4   -10.608     1   \n",
      "4          0.000369    9    -3.368     0   \n",
      "\n",
      "                                     name    tempo  time_signature  \\\n",
      "0                   Blame (NGHTMRE Remix)   92.024               4   \n",
      "1                  Forever (feat. Elohim)   93.040               4   \n",
      "2                                  Helios  148.033               4   \n",
      "3  Forever (feat. Elohim) - Laxcity Remix   93.276               4   \n",
      "4                                 R U I N   87.505               4   \n",
      "\n",
      "                                    uri  valence  \n",
      "0  spotify:track:7wNWHfyUjn96VkmI63XTDf    0.183  \n",
      "1  spotify:track:3qlLSRfudjIMj9GyBcv1lV    0.344  \n",
      "2  spotify:track:1F83vsYR3tk76FmetJgEmM    0.442  \n",
      "3  spotify:track:1RVXcPFfuY6ivkAN4NNixa    0.220  \n",
      "4  spotify:track:0M620WTaDdSvPbXKEEH9zs    0.211  \n"
     ]
    }
   ],
   "source": [
    "print(topArtists_DF.head())\n",
    "print(top_songs_DF.head())\n",
    "print(saved_songs_DF.head())\n",
    "print(songFeatures_DF.head())"
   ]
  },
  {
   "cell_type": "markdown",
   "metadata": {},
   "source": [
    "Since the recommendation engine is using data for sets/mixes from 1001tracklists.com, I also flag if an artist has an \"electronic\" genre because 1001tracklists.com is primarily focused on electronic music."
   ]
  },
  {
   "cell_type": "code",
   "execution_count": 5,
   "metadata": {},
   "outputs": [],
   "source": [
    "#Flagging artist if artist is an EDM artist\n",
    "topArtists_DF[\"EDM_Artist\"] = topArtists_DF[\"artist_genre\"].map(lambda x: \"edm\" in x)\n",
    "edmArtists_DF = topArtists_DF.loc[(topArtists_DF[\"EDM_Artist\"] == True)]"
   ]
  },
  {
   "cell_type": "code",
   "execution_count": 6,
   "metadata": {
    "scrolled": true
   },
   "outputs": [
    {
     "name": "stdout",
     "output_type": "stream",
     "text": [
      "    artist_followers                                       artist_genre  \\\n",
      "0           19343461                                              [pop]   \n",
      "1              54547  [brostep, electro house, electronic trap, moom...   \n",
      "2             165177  [aussietronica, australian electropop, austral...   \n",
      "3              79314  [bass trap, brostep, canadian electronic, edm,...   \n",
      "4             104698            [emo, neon pop punk, pop emo, pop punk]   \n",
      "5             485890  [edm, electro house, electronic trap, pop, pop...   \n",
      "6            7161555      [dance pop, edm, miami hip hop, pop, pop rap]   \n",
      "7              32580  [bass trap, brostep, electro house, electronic...   \n",
      "8               2397                                                 []   \n",
      "9             193113  [brostep, edm, electro house, electronic trap,...   \n",
      "10              1238                                                 []   \n",
      "11            958027                          [edm, electro house, pop]   \n",
      "12             22780                             [bass trap, tracestep]   \n",
      "13           7042477  [atl hip hop, dance pop, pop, pop rap, r&b, ur...   \n",
      "14          15921995                                [dfw rap, pop, rap]   \n",
      "15            156407  [edm, electropop, indie electro-pop, pop edm, ...   \n",
      "16            100783  [bass house, brostep, edm, electro house, elec...   \n",
      "17            242664  [bass trap, brostep, edm, electro house, elect...   \n",
      "18            531961                                     [filter house]   \n",
      "19             36622  [bass trap, electronic trap, pop edm, traprun,...   \n",
      "\n",
      "      artist_name  artist_popularity  EDM_Artist  \n",
      "0        Maroon 5                 88       False  \n",
      "1              4B                 54       False  \n",
      "2      Peking Duk                 63        True  \n",
      "3           Ekali                 60        True  \n",
      "4        Go Radio                 52       False  \n",
      "5        San Holo                 69        True  \n",
      "6        Flo Rida                 81        True  \n",
      "7            QUIX                 62       False  \n",
      "8     Steve Reece                 43       False  \n",
      "9           Ookay                 62        True  \n",
      "10  Mister Blonde                 42       False  \n",
      "11         Jack Ü                 67        True  \n",
      "12      Ship Wrek                 55       False  \n",
      "13          Usher                 81       False  \n",
      "14    Post Malone                 95       False  \n",
      "15       Jai Wolf                 65        True  \n",
      "16        JOYRYDE                 61        True  \n",
      "17  Flosstradamus                 63        True  \n",
      "18            FKJ                 71       False  \n",
      "19          KRANE                 50       False  \n"
     ]
    }
   ],
   "source": [
    "print(topArtists_DF)"
   ]
  },
  {
   "cell_type": "code",
   "execution_count": 7,
   "metadata": {
    "scrolled": true
   },
   "outputs": [],
   "source": [
    "#Creating unique list of edm artists to search with selenium on 1001tracklists.com\n",
    "unique_edmArtists = []\n",
    "unique_edmArtists = list(edmArtists_DF[\"artist_name\"])"
   ]
  },
  {
   "cell_type": "code",
   "execution_count": 8,
   "metadata": {},
   "outputs": [
    {
     "name": "stdout",
     "output_type": "stream",
     "text": [
      "['Peking Duk', 'Ekali', 'San Holo', 'Flo Rida', 'Ookay', 'Jack Ü', 'Jai Wolf', 'JOYRYDE', 'Flosstradamus']\n"
     ]
    }
   ],
   "source": [
    "print(unique_edmArtists)"
   ]
  },
  {
   "cell_type": "markdown",
   "metadata": {},
   "source": [
    "For the purposes of this report, I look at random artists in my top EDM Artists I listen to. The artists I look at in this report include:\n",
    "* Ekali\n",
    "* San Holo\n",
    "* JOYRYDE\n",
    "* Flosstradamus"
   ]
  },
  {
   "cell_type": "markdown",
   "metadata": {},
   "source": [
    "# 1.3 Data Cleaning (1001tracklists.com)"
   ]
  },
  {
   "cell_type": "markdown",
   "metadata": {},
   "source": [
    "### Overview of 1001tracklists.com"
   ]
  },
  {
   "cell_type": "markdown",
   "metadata": {},
   "source": [
    "1001tracklist.com is a 3rd party resource where users provide a link to the actual set/mix (e.g. Youtube link, Soundcloud link, Mixcloud link, etc.) and list out the artists and name of the individual songs played in the set/mix. Other relevant metadata that was scraped include total webpage views, date played, total set/mix likes, genres, duration of each individual song, number of individual songs played and number of songs actually identified.\n",
    "\n",
    "Shown below is an example webpage from 1001tracklists.com:"
   ]
  },
  {
   "cell_type": "markdown",
   "metadata": {},
   "source": [
    "![title](1001tracklistPic1.png)"
   ]
  },
  {
   "cell_type": "markdown",
   "metadata": {},
   "source": [
    "To get the necessary data for sets/mixes, I created an automated web scraper using selenium and beautifulsoup"
   ]
  },
  {
   "cell_type": "code",
   "execution_count": 9,
   "metadata": {},
   "outputs": [],
   "source": [
    "#importing relevant packages for automated web navigation\n",
    "from bs4 import BeautifulSoup\n",
    "from selenium import webdriver\n",
    "from selenium.webdriver.common.keys import Keys\n",
    "from selenium.webdriver.support.ui import WebDriverWait\n",
    "from selenium.webdriver.common.action_chains import ActionChains\n",
    "\n",
    "#Importing other relevant modules\n",
    "import unicodedata\n",
    "from urllib.request import Request, urlopen"
   ]
  },
  {
   "cell_type": "markdown",
   "metadata": {},
   "source": [
    "### Set/Mix Dictionary"
   ]
  },
  {
   "cell_type": "markdown",
   "metadata": {},
   "source": [
    "I stored the data in the following dictionary:"
   ]
  },
  {
   "cell_type": "code",
   "execution_count": 10,
   "metadata": {},
   "outputs": [],
   "source": [
    "song_dict = {\n",
    "    \"TL_Name\": \"\",\n",
    "    \"TL_URL\": \"\",\n",
    "    \"TL_SC_Link\": \"None\",\n",
    "    \"TL_Youtube_Link\": \"None\", \n",
    "    \"TL_Date\": \"\",\n",
    "    \"TL_Views\": \"\",\n",
    "    \"TL_Likes\": \"\",\n",
    "    \"TL_Number_IDed\": \"\",\n",
    "    \"TL_Genres\": \"\",\n",
    "    \"TL_Sources\": \"\",\n",
    "    \"TL_Avg_Spotify_Danceability\": 0,\n",
    "    \"TL_Avg_Spotify_Energy\": 0,\n",
    "    \"TL_Avg_Spotify_Tempo\": 0,\n",
    "    \"TL_Avg_Spotify_Valence\": 0,\n",
    "    \"TL_SongName\": \"\",\n",
    "    \"TL_SongArtist\": \"\",\n",
    "    \"TL_SongRemixFlag\": False,\n",
    "    \"TL_PositionSeconds\": \"\",\n",
    "}"
   ]
  },
  {
   "cell_type": "markdown",
   "metadata": {},
   "source": [
    "The hardest data to scrape were the available Spotify links to each identified track in each set/mix as the links were only shown on actual \"clicks\". As such, Selenium was used to navigate to each set/mix page and click each Spotify link. Only then was I able to use BeautifulSoup to capture the Spotify unique ID of each identified track which was useful in measuring the set/mix's average Spotify Danceablity, Energy, Tempo, and Valence which will play a major role in recommending the right set/mix."
   ]
  },
  {
   "cell_type": "markdown",
   "metadata": {},
   "source": [
    "![title](1001tracklistPic2.png)"
   ]
  },
  {
   "cell_type": "markdown",
   "metadata": {},
   "source": [
    "### Running the automated web scraper"
   ]
  },
  {
   "cell_type": "markdown",
   "metadata": {},
   "source": [
    "For the purposes of this report, I don't show all the code used in the automated browser navigation and scraping used to obtain the set/mix data. See related files on my github for the actual code. Below I show an example output of the scraper that I've outputted to a local Excel file. I limited the output to the first 5 sets instead of the most recent 30 but plan to do a more in-depth report on more artists and more sets/mixes due to the scope of this project."
   ]
  },
  {
   "cell_type": "code",
   "execution_count": 11,
   "metadata": {
    "scrolled": true
   },
   "outputs": [
    {
     "name": "stdout",
     "output_type": "stream",
     "text": [
      "     Unnamed: 0                           TL_Name  TL_URL TL_SC_Link  \\\n",
      "746          76  Ekali @ EDC Las Vegas 2019-05-19     NaN       None   \n",
      "747          77  Ekali @ EDC Las Vegas 2019-05-19     NaN       None   \n",
      "748          78  Ekali @ EDC Las Vegas 2019-05-19     NaN       None   \n",
      "750          80  Ekali @ EDC Las Vegas 2019-05-19     NaN       None   \n",
      "751          81  Ekali @ EDC Las Vegas 2019-05-19     NaN       None   \n",
      "\n",
      "    TL_Youtube_Link     TL_Date  TL_Views  TL_Likes  TL_Number_IDed  \\\n",
      "746            None  2019-05-19      8313         8             NaN   \n",
      "747            None  2019-05-19      8313         8             NaN   \n",
      "748            None  2019-05-19      8313         8             NaN   \n",
      "750            None  2019-05-19      8313         8             NaN   \n",
      "751            None  2019-05-19      8313         8             NaN   \n",
      "\n",
      "                  TL_Genres          TL_Sources  TL_Avg_Spotify_Danceability  \\\n",
      "746  Dubstep, Hip Hop, Trap  EDC Las Vegas 2019                      0.58169   \n",
      "747  Dubstep, Hip Hop, Trap  EDC Las Vegas 2019                      0.58169   \n",
      "748  Dubstep, Hip Hop, Trap  EDC Las Vegas 2019                      0.58169   \n",
      "750  Dubstep, Hip Hop, Trap  EDC Las Vegas 2019                      0.58169   \n",
      "751  Dubstep, Hip Hop, Trap  EDC Las Vegas 2019                      0.58169   \n",
      "\n",
      "     TL_Avg_Spotify_Energy  TL_Avg_Spotify_Tempo  TL_Avg_Spotify_Valence  \\\n",
      "746               0.839333            141.259929                0.336274   \n",
      "747               0.839333            141.259929                0.336274   \n",
      "748               0.839333            141.259929                0.336274   \n",
      "750               0.839333            141.259929                0.336274   \n",
      "751               0.839333            141.259929                0.336274   \n",
      "\n",
      "                                          TL_SongName        TL_SongArtist  \\\n",
      "746                      WE ARE FURY & NXSTY - Mortal  WE ARE FURY & NXSTY   \n",
      "747                          Ekali & 1788-L - R U I N       Ekali & 1788-L   \n",
      "748               RL Grime ft. Freya Ridings - Shrine             RL Grime   \n",
      "750                          Ekali ft. Yuna - Leaving                Ekali   \n",
      "751  Ekali & Illenium ft. Nevve - Hard To Say Goodbye     Ekali & Illenium   \n",
      "\n",
      "     TL_SongRemixFlag  TL_PositionSeconds  \n",
      "746             False                 NaN  \n",
      "747             False                 NaN  \n",
      "748             False                 NaN  \n",
      "750             False                 NaN  \n",
      "751             False                 NaN  \n"
     ]
    }
   ],
   "source": [
    "#Running the automated web scraper\n",
    "Master_DF = pd.read_excel(\"masterdata0729.xlsx\")\n",
    "Master_DF = Master_DF.drop_duplicates(subset=[\"TL_Name\",\"TL_SongName\",\"TL_SongArtist\"])\n",
    "print(Master_DF.tail())"
   ]
  },
  {
   "cell_type": "markdown",
   "metadata": {},
   "source": [
    "# 2. Exploratory Data Analysis"
   ]
  },
  {
   "cell_type": "markdown",
   "metadata": {},
   "source": [
    "To illustrate the need for recommendation systems for sets/mixes, I try to highlight how significantly different sets/mixes can vary by artist through exploratory data analysis."
   ]
  },
  {
   "cell_type": "code",
   "execution_count": 12,
   "metadata": {},
   "outputs": [],
   "source": [
    "#Importing relevant packages\n",
    "import numpy as np\n",
    "import matplotlib.pyplot as plt\n",
    "import seaborn as sns"
   ]
  },
  {
   "cell_type": "markdown",
   "metadata": {},
   "source": [
    "# 2.1 Genre Differences in Sets/Mixes"
   ]
  },
  {
   "cell_type": "markdown",
   "metadata": {},
   "source": [
    "Due to data quality issues resulting from inconsistencies between 1001tracklists.com webpages and the time it would be needed to create a robust scraper that collected the datasets I needed, I went ahead with the data I was able to collect. With more time, I hope to expand the scraper to account for more nuances in each webpage to create a more robust dataset. \n",
    "\n",
    "I selected 4-5 sets from each of my top edm artists that I thought to be of good quality so that I can conduct some high level exploratory data analysis:"
   ]
  },
  {
   "cell_type": "code",
   "execution_count": 13,
   "metadata": {},
   "outputs": [
    {
     "data": {
      "text/plain": [
       "TL_Name\n",
       "Ekali & Cold Blue - Night Owl Radio 187 2019-03-22                     26\n",
       "Ekali - Awakening Mix #7 2019-04-16                                    23\n",
       "Ekali @ Beyond Wonderland 2019-03-23                                   31\n",
       "Ekali @ EDC Las Vegas 2019-05-19                                       80\n",
       "Ekali @ SIAM Songkran Music Festival 2019-04-14                        58\n",
       "Flosstradamus & 4B @ Blackout Tour, Elektricity Michigan 2019-06-06    17\n",
       "Flosstradamus & 4B @ Spring Awakening Music Festival 2019-06-08        90\n",
       "Flosstradamus - Triple J Global Warning Mix Vol. 3 2019-06-28          51\n",
       "Flosstradamus - Triple J Mixup Global Warning Mix Vol. 4 2019-07-05    50\n",
       "JOYRYDE @ Beyond Wonderland 2019-03-23                                 52\n",
       "JOYRYDE @ Beyond Wonderland, United States Monterrey 2019-04-06        26\n",
       "JOYRYDE @ EDC Japan 2019-05-11                                         21\n",
       "JOYRYDE @ EDC Las Vegas 2019-05-17                                     52\n",
       "JOYRYDE @ The Ritz Ybor Tampa 2018-12-30                               51\n",
       "San Holo & Ian Munro - bitbird Radio 043 2019-07-01                    25\n",
       "San Holo & Marcioz - bitbird Radio 045 2019-07-29                      23\n",
       "San Holo - bitbird Radio 042 2019-06-17                                19\n",
       "San Holo - bitbird Radio 044 2019-07-15                                18\n",
       "San Holo @ redrocks1, Red Rocks Amphitheatre 2019-06-13                27\n",
       "Name: TL_SongName, dtype: int64"
      ]
     },
     "execution_count": 13,
     "metadata": {},
     "output_type": "execute_result"
    }
   ],
   "source": [
    "Good_Quality_Sets = Master_DF.head(741)\n",
    "Good_Quality_Sets.groupby(\"TL_Name\")[\"TL_SongName\"].count()"
   ]
  },
  {
   "cell_type": "markdown",
   "metadata": {},
   "source": [
    "Already we can see that there was a significant difference in number of tracks played, which is unusual given that the length of each set was generally similar. Looking at the differences between the individual tracks of each set might shed some light as to why there is this discrepancy."
   ]
  },
  {
   "cell_type": "markdown",
   "metadata": {},
   "source": [
    "### Genre Differences between Sets"
   ]
  },
  {
   "cell_type": "code",
   "execution_count": 14,
   "metadata": {},
   "outputs": [
    {
     "data": {
      "text/plain": [
       "TL_Name\n",
       "Ekali & Cold Blue - Night Owl Radio 187 2019-03-22                                         [Trap, Trance]\n",
       "Ekali - Awakening Mix #7 2019-04-16                                                       [Hip Hop, Trap]\n",
       "Ekali @ Beyond Wonderland 2019-03-23                                             [Dubstep, Hip Hop, Trap]\n",
       "Ekali @ EDC Las Vegas 2019-05-19                                                 [Dubstep, Hip Hop, Trap]\n",
       "Ekali @ SIAM Songkran Music Festival 2019-04-14                                  [Dubstep, Hip Hop, Trap]\n",
       "Flosstradamus & 4B @ Blackout Tour, Elektricity Michigan 2019-06-06                       [Hip Hop, Trap]\n",
       "Flosstradamus & 4B @ Spring Awakening Music Festival 2019-06-08                  [Dubstep, Hip Hop, Trap]\n",
       "Flosstradamus - Triple J Global Warning Mix Vol. 3 2019-06-28              [Electro House, Hip Hop, Trap]\n",
       "Flosstradamus - Triple J Mixup Global Warning Mix Vol. 4 2019-07-05                       [Dubstep, Trap]\n",
       "JOYRYDE @ Beyond Wonderland 2019-03-23                                       [House, Electro House, Trap]\n",
       "JOYRYDE @ Beyond Wonderland, United States Monterrey 2019-04-06              [House, Electro House, Trap]\n",
       "JOYRYDE @ EDC Japan 2019-05-11                                                      [Electro House, Trap]\n",
       "JOYRYDE @ EDC Las Vegas 2019-05-17                                           [House, Electro House, Trap]\n",
       "JOYRYDE @ The Ritz Ybor Tampa 2018-12-30                                     [House, Electro House, Trap]\n",
       "San Holo & Ian Munro - bitbird Radio 043 2019-07-01                                   [Electronica, Trap]\n",
       "San Holo & Marcioz - bitbird Radio 045 2019-07-29                                   [Electro House, Trap]\n",
       "San Holo - bitbird Radio 042 2019-06-17                                [Electro House, Electronica, Trap]\n",
       "San Holo - bitbird Radio 044 2019-07-15                                [Electro House, Electronica, Trap]\n",
       "San Holo @ redrocks1, Red Rocks Amphitheatre 2019-06-13                               [Electronica, Trap]\n",
       "Name: TL_Genres, dtype: object"
      ]
     },
     "execution_count": 14,
     "metadata": {},
     "output_type": "execute_result"
    }
   ],
   "source": [
    "Good_Quality_Sets.groupby(\"TL_Name\")[\"TL_Genres\"].unique()"
   ]
  },
  {
   "cell_type": "markdown",
   "metadata": {},
   "source": [
    "Right away we notice that the sets with less tracks played include more house and trance, genres in which songs are generally played for a longer duration. Let's corroborate this with the average tempo of each set that we scraped and brought in utilizing Spotify's Web API"
   ]
  },
  {
   "cell_type": "code",
   "execution_count": 15,
   "metadata": {},
   "outputs": [
    {
     "name": "stderr",
     "output_type": "stream",
     "text": [
      "/anaconda2/envs/springboard/lib/python3.7/site-packages/ipykernel_launcher.py:4: SettingWithCopyWarning: \n",
      "A value is trying to be set on a copy of a slice from a DataFrame.\n",
      "Try using .loc[row_indexer,col_indexer] = value instead\n",
      "\n",
      "See the caveats in the documentation: http://pandas.pydata.org/pandas-docs/stable/indexing.html#indexing-view-versus-copy\n",
      "  after removing the cwd from sys.path.\n"
     ]
    }
   ],
   "source": [
    "#Creating a new column in dataframe if genre is house/trance\n",
    "house = [\"House\",\"Trance\"]\n",
    "house_regex_pattern = '|'.join(house)\n",
    "Good_Quality_Sets[\"House_Genre_Flag\"] = Good_Quality_Sets[\"TL_Genres\"].str.contains(house_regex_pattern).fillna('')"
   ]
  },
  {
   "cell_type": "code",
   "execution_count": 16,
   "metadata": {},
   "outputs": [],
   "source": [
    "#Creating subdataframe for easier plotting\n",
    "QQS_DF = pd.DataFrame({'Number_Of_Songs' : Good_Quality_Sets.groupby([\"TL_Name\",\"House_Genre_Flag\",\"TL_Avg_Spotify_Tempo\", \"TL_Avg_Spotify_Danceability\",\"TL_Avg_Spotify_Valence\",\"TL_Avg_Spotify_Energy\"]).size()}).reset_index()\n",
    "House_DF = QQS_DF.loc[QQS_DF[\"House_Genre_Flag\"] == True]\n",
    "Not_House_DF = QQS_DF.loc[QQS_DF[\"House_Genre_Flag\"] == False]"
   ]
  },
  {
   "cell_type": "code",
   "execution_count": 17,
   "metadata": {},
   "outputs": [
    {
     "data": {
      "text/html": [
       "<div>\n",
       "<style scoped>\n",
       "    .dataframe tbody tr th:only-of-type {\n",
       "        vertical-align: middle;\n",
       "    }\n",
       "\n",
       "    .dataframe tbody tr th {\n",
       "        vertical-align: top;\n",
       "    }\n",
       "\n",
       "    .dataframe thead th {\n",
       "        text-align: right;\n",
       "    }\n",
       "</style>\n",
       "<table border=\"1\" class=\"dataframe\">\n",
       "  <thead>\n",
       "    <tr style=\"text-align: right;\">\n",
       "      <th></th>\n",
       "      <th>TL_Name</th>\n",
       "      <th>House_Genre_Flag</th>\n",
       "      <th>TL_Avg_Spotify_Tempo</th>\n",
       "      <th>TL_Avg_Spotify_Danceability</th>\n",
       "      <th>TL_Avg_Spotify_Valence</th>\n",
       "      <th>TL_Avg_Spotify_Energy</th>\n",
       "      <th>Number_Of_Songs</th>\n",
       "    </tr>\n",
       "  </thead>\n",
       "  <tbody>\n",
       "    <tr>\n",
       "      <th>0</th>\n",
       "      <td>Ekali &amp; Cold Blue - Night Owl Radio 187 2019-0...</td>\n",
       "      <td>True</td>\n",
       "      <td>131.993526</td>\n",
       "      <td>0.693053</td>\n",
       "      <td>0.462279</td>\n",
       "      <td>0.837632</td>\n",
       "      <td>26</td>\n",
       "    </tr>\n",
       "    <tr>\n",
       "      <th>1</th>\n",
       "      <td>Ekali - Awakening Mix #7 2019-04-16</td>\n",
       "      <td>False</td>\n",
       "      <td>119.471583</td>\n",
       "      <td>0.595833</td>\n",
       "      <td>0.386025</td>\n",
       "      <td>0.639500</td>\n",
       "      <td>23</td>\n",
       "    </tr>\n",
       "    <tr>\n",
       "      <th>2</th>\n",
       "      <td>Ekali @ Beyond Wonderland 2019-03-23</td>\n",
       "      <td>False</td>\n",
       "      <td>137.584000</td>\n",
       "      <td>0.552867</td>\n",
       "      <td>0.274073</td>\n",
       "      <td>0.825800</td>\n",
       "      <td>31</td>\n",
       "    </tr>\n",
       "    <tr>\n",
       "      <th>3</th>\n",
       "      <td>Ekali @ EDC Las Vegas 2019-05-19</td>\n",
       "      <td>False</td>\n",
       "      <td>141.259929</td>\n",
       "      <td>0.581690</td>\n",
       "      <td>0.336274</td>\n",
       "      <td>0.839333</td>\n",
       "      <td>80</td>\n",
       "    </tr>\n",
       "    <tr>\n",
       "      <th>4</th>\n",
       "      <td>Ekali @ SIAM Songkran Music Festival 2019-04-14</td>\n",
       "      <td>False</td>\n",
       "      <td>142.388179</td>\n",
       "      <td>0.585643</td>\n",
       "      <td>0.364711</td>\n",
       "      <td>0.835107</td>\n",
       "      <td>58</td>\n",
       "    </tr>\n",
       "  </tbody>\n",
       "</table>\n",
       "</div>"
      ],
      "text/plain": [
       "                                             TL_Name  House_Genre_Flag  \\\n",
       "0  Ekali & Cold Blue - Night Owl Radio 187 2019-0...              True   \n",
       "1                Ekali - Awakening Mix #7 2019-04-16             False   \n",
       "2               Ekali @ Beyond Wonderland 2019-03-23             False   \n",
       "3                   Ekali @ EDC Las Vegas 2019-05-19             False   \n",
       "4    Ekali @ SIAM Songkran Music Festival 2019-04-14             False   \n",
       "\n",
       "   TL_Avg_Spotify_Tempo  TL_Avg_Spotify_Danceability  TL_Avg_Spotify_Valence  \\\n",
       "0            131.993526                     0.693053                0.462279   \n",
       "1            119.471583                     0.595833                0.386025   \n",
       "2            137.584000                     0.552867                0.274073   \n",
       "3            141.259929                     0.581690                0.336274   \n",
       "4            142.388179                     0.585643                0.364711   \n",
       "\n",
       "   TL_Avg_Spotify_Energy  Number_Of_Songs  \n",
       "0               0.837632               26  \n",
       "1               0.639500               23  \n",
       "2               0.825800               31  \n",
       "3               0.839333               80  \n",
       "4               0.835107               58  "
      ]
     },
     "execution_count": 17,
     "metadata": {},
     "output_type": "execute_result"
    }
   ],
   "source": [
    "QQS_DF.head()"
   ]
  },
  {
   "cell_type": "markdown",
   "metadata": {},
   "source": [
    "### Differences between Genres - Barplot EDA"
   ]
  },
  {
   "cell_type": "code",
   "execution_count": 18,
   "metadata": {},
   "outputs": [
    {
     "data": {
      "text/plain": [
       "Text(0.5, 1.0, 'Number of Songs')"
      ]
     },
     "execution_count": 18,
     "metadata": {},
     "output_type": "execute_result"
    },
    {
     "data": {
      "image/png": "[encoded data removed]",
      "text/plain": [
       "<Figure size 648x432 with 2 Axes>"
      ]
     },
     "metadata": {
      "needs_background": "light"
     },
     "output_type": "display_data"
    }
   ],
   "source": [
    "#Exploring Data to see if house/trance sets are different in tempo and number of songs than non-house/trance sets\n",
    "fig, axes = plt.subplots(nrows = 1, ncols = 2)\n",
    "fig.set_size_inches(9, 6)\n",
    "\n",
    "#Tempo Plot\n",
    "Tempo_Plot = sns.barplot(x = \"House_Genre_Flag\", y = \"TL_Avg_Spotify_Tempo\", data = QQS_DF, ax = axes[0])\n",
    "axes[0].set_title(\"Tempo\")\n",
    "\n",
    "#Num of Songs plot\n",
    "Num_Songs_Plot = sns.barplot(x = \"House_Genre_Flag\", y = \"Number_Of_Songs\", data = QQS_DF, ax = axes[1])\n",
    "axes[1].set_title(\"Number of Songs\")"
   ]
  },
  {
   "cell_type": "markdown",
   "metadata": {},
   "source": [
    "House/Trance sets on average have less songs and they on average contain more tracks with slower BPMs. We'll dig into this by artist to see if this trend remains true"
   ]
  },
  {
   "cell_type": "markdown",
   "metadata": {},
   "source": [
    "### Differences beteen Genres by Artist - Scatterplot EDA"
   ]
  },
  {
   "cell_type": "code",
   "execution_count": 19,
   "metadata": {},
   "outputs": [],
   "source": [
    "#QQS_DF[\"Artist\"] = \n",
    "QQS_DF[\"TL_Name\"] = QQS_DF[\"TL_Name\"].astype(str)\n",
    "for i in QQS_DF[\"TL_Name\"]:\n",
    "    if \"Ekali\" in i:\n",
    "        QQS_DF[\"Artist\"] = \"Ekali\"\n",
    "    else:\n",
    "        QQS_DF[\"Artist\"] = \"Other\"\n",
    "        \n",
    "QQS_DF[\"Artist\"] = np.where(QQS_DF[\"TL_Name\"].str.contains(\"Ekali\"),\"Ekali\",\n",
    "                    np.where(QQS_DF[\"TL_Name\"].str.contains(\"Flosstradamus\"),\"Flosstradamus\",\n",
    "                    np.where(QQS_DF[\"TL_Name\"].str.contains(\"JOYRYDE\"),\"JOYRYDE\",\n",
    "                    np.where(QQS_DF[\"TL_Name\"].str.contains(\"San Holo\"),\"San Holo\",\n",
    "                        \"Other\"))))"
   ]
  },
  {
   "cell_type": "code",
   "execution_count": 20,
   "metadata": {},
   "outputs": [
    {
     "data": {
      "text/plain": [
       "<matplotlib.legend.Legend at 0x1a1c37b198>"
      ]
     },
     "execution_count": 20,
     "metadata": {},
     "output_type": "execute_result"
    },
    {
     "data": {
      "image/png": "[encoded data removed]",
      "text/plain": [
       "<Figure size 1152x576 with 2 Axes>"
      ]
     },
     "metadata": {
      "needs_background": "light"
     },
     "output_type": "display_data"
    }
   ],
   "source": [
    "#Setting up Plot\n",
    "fig, axes = plt.subplots(nrows = 1, ncols = 2)\n",
    "fig.set_size_inches(16, 8)\n",
    "\n",
    "#Plotting sets for tempo vs. number of songs by artist\n",
    "artist_differences = sns.scatterplot(x = \"TL_Avg_Spotify_Tempo\", y = \"Number_Of_Songs\", hue = \"Artist\", data = QQS_DF, ax = axes[0])\n",
    "axes[0].set_title(\"Sets by Artist\")\n",
    "axes[0].legend(loc = \"upper left\", fontsize = 7)\n",
    "\n",
    "#Plotting sets for tempo vs. number of songs by house/trance vs. non-house/trance\n",
    "house_differences = sns.scatterplot(x = \"TL_Avg_Spotify_Tempo\", y = \"Number_Of_Songs\", hue = \"House_Genre_Flag\", data = QQS_DF, ax = axes[1])\n",
    "sns.scatterplot(x  = \"TL_Avg_Spotify_Tempo\", y = \"Number_Of_Songs\", hue = \"House_Genre_Flag\", data = QQS_DF, ax = axes[1])\n",
    "axes[1].set_title(\"Sets by House/Trance vs. Non-House/Trance\")\n",
    "axes[1].legend(loc = \"upper left\", fontsize = 7)"
   ]
  },
  {
   "cell_type": "markdown",
   "metadata": {},
   "source": [
    "We can see that the earlier observed trend remains true by artist: House/Trance sets on average have less songs than non-House/Trance sets and the tracks are on average slower (as shown in the chart on the top right)\n",
    "\n",
    "The chart on the top left also shows that there seems to be a lot of variation by artist. Taking Ekali as an example, he has sets that fall within the lower left and upper right quadrants. \n",
    "\n",
    "With a quick google search on typical BPMs/Tempos for different genres (see below), I was able to contextualize the differences in average tempo of each set we obtained from Spotify with the differences in scraped genres(s) of each set we obtained from 1001tracklist.com. "
   ]
  },
  {
   "cell_type": "markdown",
   "metadata": {},
   "source": [
    "![title](genresPic.png)"
   ]
  },
  {
   "cell_type": "code",
   "execution_count": 21,
   "metadata": {},
   "outputs": [
    {
     "data": {
      "text/plain": [
       "<seaborn.axisgrid.FacetGrid at 0x1a1c32ccc0>"
      ]
     },
     "execution_count": 21,
     "metadata": {},
     "output_type": "execute_result"
    },
    {
     "data": {
      "image/png": "[encoded data removed]",
      "text/plain": [
       "<Figure size 460.875x360 with 1 Axes>"
      ]
     },
     "metadata": {
      "needs_background": "light"
     },
     "output_type": "display_data"
    }
   ],
   "source": [
    "sns.lmplot(x = \"TL_Avg_Spotify_Tempo\", y = \"Number_Of_Songs\", hue=\"House_Genre_Flag\", data = QQS_DF)"
   ]
  },
  {
   "cell_type": "code",
   "execution_count": 22,
   "metadata": {},
   "outputs": [
    {
     "data": {
      "text/plain": [
       "<seaborn.axisgrid.FacetGrid at 0x1a1c9457b8>"
      ]
     },
     "execution_count": 22,
     "metadata": {},
     "output_type": "execute_result"
    },
    {
     "data": {
      "image/png": "[encoded data removed]",
      "text/plain": [
       "<Figure size 676.875x576 with 4 Axes>"
      ]
     },
     "metadata": {
      "needs_background": "light"
     },
     "output_type": "display_data"
    }
   ],
   "source": [
    "#Plotting Tempo vs. Number of Songs by Artist\n",
    "combined_plott = sns.lmplot(x = \"TL_Avg_Spotify_Tempo\", y = \"Number_Of_Songs\", col = \"Artist\", hue=\"House_Genre_Flag\", data = QQS_DF, col_wrap = 2, height = 4)\n",
    "combined_plott.set(ylim=(0,100))"
   ]
  },
  {
   "cell_type": "markdown",
   "metadata": {},
   "source": [
    "For the purposes of this report, I was not able to collect enough data to see if there was a linear relationship between tempo and number of songs by artist and if this varied significantly between house/trance sets vs. non-house/trance sets. "
   ]
  },
  {
   "cell_type": "markdown",
   "metadata": {},
   "source": [
    "# 2.2 Relationship between Spotify Metrics"
   ]
  },
  {
   "cell_type": "markdown",
   "metadata": {},
   "source": [
    "Some other interesting metrics Spotify captures is the danceability or valence of an individual song. Each song is measured on a scale from 0 to 1 (more details on this in the diagrams below)"
   ]
  },
  {
   "cell_type": "markdown",
   "metadata": {},
   "source": [
    "<table><tr>\n",
    "<td> <img src=\"danceability.png\" alt=\"Drawing\" style=\"width: 350px;\"/> </td>\n",
    "<td> <img src=\"valence.png\" alt=\"Drawing\" style=\"width: 350px;\"/> </td>\n",
    "</tr></table>"
   ]
  },
  {
   "cell_type": "markdown",
   "metadata": {},
   "source": [
    "We have already established that there could be a difference between genres/tempos between sets from the same artist (as shown by Ekali). Let's see if this translates into differences in danceability and valence (i.e. \"mood\")."
   ]
  },
  {
   "cell_type": "markdown",
   "metadata": {},
   "source": [
    "### Differences between Valence/Danceability by Artist - Boxplot EDA"
   ]
  },
  {
   "cell_type": "code",
   "execution_count": 23,
   "metadata": {},
   "outputs": [
    {
     "name": "stderr",
     "output_type": "stream",
     "text": [
      "No handles with labels found to put in legend.\n",
      "No handles with labels found to put in legend.\n"
     ]
    },
    {
     "data": {
      "text/plain": [
       "<matplotlib.legend.Legend at 0x1a1cefb9b0>"
      ]
     },
     "execution_count": 23,
     "metadata": {},
     "output_type": "execute_result"
    },
    {
     "data": {
      "image/png": "[encoded data removed]",
      "text/plain": [
       "<Figure size 1152x576 with 2 Axes>"
      ]
     },
     "metadata": {
      "needs_background": "light"
     },
     "output_type": "display_data"
    }
   ],
   "source": [
    "#Setting up Plot\n",
    "fig, axes = plt.subplots(nrows = 1, ncols = 2)\n",
    "fig.set_size_inches(16, 8)\n",
    "\n",
    "#Plotting sets for tempo vs. number of songs by artist\n",
    "danceability_Plot = sns.boxplot(y = \"TL_Avg_Spotify_Danceability\", x = \"Artist\", data = QQS_DF, ax = axes[0])\n",
    "axes[0].set_title(\"Danceability\")\n",
    "axes[0].legend(loc = \"upper left\", fontsize = 7)\n",
    "\n",
    "#Plotting sets for tempo vs. number of songs by house/trance vs. non-house/trance\n",
    "Valence_Plot = sns.boxplot(y = \"TL_Avg_Spotify_Valence\", x = \"Artist\", data = QQS_DF, ax = axes[1])\n",
    "axes[1].set_title(\"Valence\")\n",
    "axes[1].legend(loc = \"upper left\", fontsize = 7)"
   ]
  },
  {
   "cell_type": "markdown",
   "metadata": {},
   "source": [
    "### Relationship between Spotify Metrics and Tempo - Pairplot Matrix and Scatterplot EDA"
   ]
  },
  {
   "cell_type": "code",
   "execution_count": 24,
   "metadata": {},
   "outputs": [
    {
     "data": {
      "image/png": "[encoded data removed]",
      "text/plain": [
       "<Figure size 720x720 with 20 Axes>"
      ]
     },
     "metadata": {
      "needs_background": "light"
     },
     "output_type": "display_data"
    }
   ],
   "source": [
    "from scipy.stats import pearsonr\n",
    "def corrfunc(x, y, **kws):\n",
    "    (r, p) = pearsonr(x, y)\n",
    "    ax = plt.gca()\n",
    "    ax.annotate(\"r = {:.2f} \".format(r),\n",
    "                xy=(.1, .9), xycoords=ax.transAxes)\n",
    "    ax.annotate(\"p = {:.3f}\".format(p),\n",
    "                xy=(.4, .9), xycoords=ax.transAxes)\n",
    "\n",
    "#corr_matrix\n",
    "corr_matrix = sns.pairplot(QQS_DF, kind = \"reg\", vars = [\"TL_Avg_Spotify_Tempo\", \"TL_Avg_Spotify_Danceability\",\"TL_Avg_Spotify_Valence\",\"TL_Avg_Spotify_Energy\"])\n",
    "corr_matrix.map(corrfunc)\n",
    "plt.tight_layout()\n",
    "plt.show()"
   ]
  },
  {
   "cell_type": "code",
   "execution_count": 25,
   "metadata": {},
   "outputs": [
    {
     "data": {
      "text/plain": [
       "<seaborn.axisgrid.FacetGrid at 0x1a1d84cdd8>"
      ]
     },
     "execution_count": 25,
     "metadata": {},
     "output_type": "execute_result"
    },
    {
     "data": {
      "image/png": "[encoded data removed]",
      "text/plain": [
       "<Figure size 576x576 with 4 Axes>"
      ]
     },
     "metadata": {
      "needs_background": "light"
     },
     "output_type": "display_data"
    }
   ],
   "source": [
    "#Plotting Tempo vs. Energy by Artist\n",
    "combined_plott = sns.lmplot(y = \"TL_Avg_Spotify_Tempo\", x = \"TL_Avg_Spotify_Energy\", col = \"Artist\",  data = QQS_DF, col_wrap = 2, height = 4)\n",
    "combined_plott.set(ylim=(0,1))\n",
    "combined_plott.set(ylim=(110,150))"
   ]
  },
  {
   "cell_type": "markdown",
   "metadata": {},
   "source": [
    "There seems to be a strong relationship between danceability and energy as well as tempo and energy. However, I am not able to verify this relationship by artist as I would like to but hope to revisit this once I am able to collect more data."
   ]
  },
  {
   "cell_type": "markdown",
   "metadata": {},
   "source": [
    "### Summary of Findings"
   ]
  },
  {
   "cell_type": "markdown",
   "metadata": {},
   "source": [
    "* **Differences in Number of Songs per Set and Tempo for House/Trance Sets vs. Non-House/Trance Sets:** On average, House/Trance Sets seem to have fewer songs per set as well as slower BPMs, yet more data is needed to verify this trend by artist\n",
    "* **Established initial hypothesis that there are differences between sets by the same artist:** Both the danceability and mood the most recent sets played by Ekali differed significantly. This will be useful in building out our recommendation engine using a Spotify User's most recently listened to songs, saved songs, and top artists\n",
    "* **Differences in Danceability and Valence by Artist:** Spotify metrics varied significantly by artist, especially for valence\n",
    "* **Established a potential correlation between Energy and Tempo as well as Danceability and Energy:** More data and further statistical testing can be conducted to see if this remains true across multiple genres/artists"
   ]
  },
  {
   "cell_type": "markdown",
   "metadata": {},
   "source": [
    "# 3. Recommendation Engine Building"
   ]
  },
  {
   "cell_type": "markdown",
   "metadata": {},
   "source": [
    "### Using each set's metadata and associated spotify metrics to recommend a set based off my current listening habits"
   ]
  },
  {
   "cell_type": "markdown",
   "metadata": {},
   "source": [
    "I hoped to build a recommendation engine using both content-based and collaborative filtering methods.\n",
    "\n",
    "For collaborative filtering method, I hoped to use user's evaluations of recommended sets to recommend additional sets based off the user's similarity between other users. Due to the scope of this project, I was unable to collect evaluations of recommended sets to use for collaborative filtering methods and this is something I hope to revisit in the future."
   ]
  },
  {
   "cell_type": "markdown",
   "metadata": {},
   "source": [
    "![title](Collab_Filter.png)"
   ]
  },
  {
   "cell_type": "markdown",
   "metadata": {},
   "source": [
    "For now, I focused on content-based filtering methods and tried to develop a score per set based on the data collected on each set.\n",
    "\n",
    "Since my goal is to recommend a set/mix that a Spotify User will most likely like, I will try to score each set/mix based on 4 factors:\n",
    "* Set's Artist Similarity to current top Artists\n",
    "* Set's Song Similiarty to current top Songs and saved Songs\n",
    "* Set's Overall popularity based on 1001tracklists.com\n",
    "* Audio Feature Similarities between current top Songs and saved Songs with the Set's Average Audio Feature Metrics"
   ]
  },
  {
   "cell_type": "code",
   "execution_count": 26,
   "metadata": {},
   "outputs": [],
   "source": [
    "#Converting spotify user's unique artists and songs into regex pattern\n",
    "artist_regex_pattern = '|'.join(unique_artists)\n",
    "song_regex_pattern = '|'.join(unique_songs)"
   ]
  },
  {
   "cell_type": "code",
   "execution_count": 27,
   "metadata": {},
   "outputs": [
    {
     "name": "stderr",
     "output_type": "stream",
     "text": [
      "/anaconda2/envs/springboard/lib/python3.7/site-packages/ipykernel_launcher.py:5: UserWarning: This pattern has match groups. To actually get the groups, use str.extract.\n",
      "  \"\"\"\n"
     ]
    }
   ],
   "source": [
    "#Creating a new column in dataframe if artist match is found in tracklist\n",
    "Master_DF[\"New_Col_Artist_Flag\"] = Master_DF[\"TL_SongArtist\"].str.contains(artist_regex_pattern).fillna('')\n",
    "\n",
    "#Creating a new collumn in dataframe if song match is found in tracklist\n",
    "Master_DF[\"New_Col_Song_Flag\"] = Master_DF[\"TL_SongName\"].str.contains(song_regex_pattern).fillna('')"
   ]
  },
  {
   "cell_type": "code",
   "execution_count": 28,
   "metadata": {},
   "outputs": [
    {
     "data": {
      "text/html": [
       "<div>\n",
       "<style scoped>\n",
       "    .dataframe tbody tr th:only-of-type {\n",
       "        vertical-align: middle;\n",
       "    }\n",
       "\n",
       "    .dataframe tbody tr th {\n",
       "        vertical-align: top;\n",
       "    }\n",
       "\n",
       "    .dataframe thead th {\n",
       "        text-align: right;\n",
       "    }\n",
       "</style>\n",
       "<table border=\"1\" class=\"dataframe\">\n",
       "  <thead>\n",
       "    <tr style=\"text-align: right;\">\n",
       "      <th></th>\n",
       "      <th>SetNames</th>\n",
       "      <th>ArtistSimilarity</th>\n",
       "      <th>SongSimilarity</th>\n",
       "      <th>TLPopularity</th>\n",
       "      <th>AFSimilarity</th>\n",
       "    </tr>\n",
       "  </thead>\n",
       "  <tbody>\n",
       "    <tr>\n",
       "      <th>0</th>\n",
       "      <td>(Ekali &amp; Cold Blue - Night Owl Radio 187 2019-...</td>\n",
       "      <td>1</td>\n",
       "      <td>1</td>\n",
       "      <td>1</td>\n",
       "      <td>1</td>\n",
       "    </tr>\n",
       "    <tr>\n",
       "      <th>1</th>\n",
       "      <td>(Ekali - Awakening Mix #7 2019-04-16, False)</td>\n",
       "      <td>1</td>\n",
       "      <td>1</td>\n",
       "      <td>1</td>\n",
       "      <td>1</td>\n",
       "    </tr>\n",
       "    <tr>\n",
       "      <th>2</th>\n",
       "      <td>(Ekali @ Beyond Wonderland 2019-03-23, False)</td>\n",
       "      <td>1</td>\n",
       "      <td>1</td>\n",
       "      <td>1</td>\n",
       "      <td>1</td>\n",
       "    </tr>\n",
       "    <tr>\n",
       "      <th>3</th>\n",
       "      <td>(Ekali @ EDC Las Vegas 2019-05-19, False)</td>\n",
       "      <td>1</td>\n",
       "      <td>1</td>\n",
       "      <td>1</td>\n",
       "      <td>1</td>\n",
       "    </tr>\n",
       "    <tr>\n",
       "      <th>4</th>\n",
       "      <td>(Ekali @ SIAM Songkran Music Festival 2019-04-...</td>\n",
       "      <td>1</td>\n",
       "      <td>1</td>\n",
       "      <td>1</td>\n",
       "      <td>1</td>\n",
       "    </tr>\n",
       "    <tr>\n",
       "      <th>5</th>\n",
       "      <td>(Flosstradamus &amp; 4B @ Blackout Tour, Elektrici...</td>\n",
       "      <td>1</td>\n",
       "      <td>1</td>\n",
       "      <td>1</td>\n",
       "      <td>1</td>\n",
       "    </tr>\n",
       "    <tr>\n",
       "      <th>6</th>\n",
       "      <td>(Flosstradamus &amp; 4B @ Spring Awakening Music F...</td>\n",
       "      <td>1</td>\n",
       "      <td>1</td>\n",
       "      <td>1</td>\n",
       "      <td>1</td>\n",
       "    </tr>\n",
       "    <tr>\n",
       "      <th>7</th>\n",
       "      <td>(Flosstradamus - Triple J Global Warning Mix V...</td>\n",
       "      <td>1</td>\n",
       "      <td>1</td>\n",
       "      <td>1</td>\n",
       "      <td>1</td>\n",
       "    </tr>\n",
       "    <tr>\n",
       "      <th>8</th>\n",
       "      <td>(Flosstradamus - Triple J Mixup Global Warning...</td>\n",
       "      <td>1</td>\n",
       "      <td>1</td>\n",
       "      <td>1</td>\n",
       "      <td>1</td>\n",
       "    </tr>\n",
       "    <tr>\n",
       "      <th>9</th>\n",
       "      <td>(JOYRYDE @ Beyond Wonderland 2019-03-23, False)</td>\n",
       "      <td>1</td>\n",
       "      <td>1</td>\n",
       "      <td>1</td>\n",
       "      <td>1</td>\n",
       "    </tr>\n",
       "    <tr>\n",
       "      <th>10</th>\n",
       "      <td>(JOYRYDE @ Beyond Wonderland, United States Mo...</td>\n",
       "      <td>1</td>\n",
       "      <td>1</td>\n",
       "      <td>1</td>\n",
       "      <td>1</td>\n",
       "    </tr>\n",
       "    <tr>\n",
       "      <th>11</th>\n",
       "      <td>(JOYRYDE @ EDC Japan 2019-05-11, True)</td>\n",
       "      <td>1</td>\n",
       "      <td>1</td>\n",
       "      <td>1</td>\n",
       "      <td>1</td>\n",
       "    </tr>\n",
       "    <tr>\n",
       "      <th>12</th>\n",
       "      <td>(JOYRYDE @ EDC Las Vegas 2019-05-17, False)</td>\n",
       "      <td>1</td>\n",
       "      <td>1</td>\n",
       "      <td>1</td>\n",
       "      <td>1</td>\n",
       "    </tr>\n",
       "    <tr>\n",
       "      <th>13</th>\n",
       "      <td>(JOYRYDE @ The Ritz Ybor Tampa 2018-12-30, False)</td>\n",
       "      <td>1</td>\n",
       "      <td>1</td>\n",
       "      <td>1</td>\n",
       "      <td>1</td>\n",
       "    </tr>\n",
       "    <tr>\n",
       "      <th>14</th>\n",
       "      <td>(San Holo &amp; Ian Munro - bitbird Radio 043 2019...</td>\n",
       "      <td>1</td>\n",
       "      <td>1</td>\n",
       "      <td>1</td>\n",
       "      <td>1</td>\n",
       "    </tr>\n",
       "    <tr>\n",
       "      <th>15</th>\n",
       "      <td>(San Holo &amp; Marcioz - bitbird Radio 045 2019-0...</td>\n",
       "      <td>1</td>\n",
       "      <td>1</td>\n",
       "      <td>1</td>\n",
       "      <td>1</td>\n",
       "    </tr>\n",
       "    <tr>\n",
       "      <th>16</th>\n",
       "      <td>(San Holo - bitbird Radio 042 2019-06-17, False)</td>\n",
       "      <td>1</td>\n",
       "      <td>1</td>\n",
       "      <td>1</td>\n",
       "      <td>1</td>\n",
       "    </tr>\n",
       "    <tr>\n",
       "      <th>17</th>\n",
       "      <td>(San Holo - bitbird Radio 044 2019-07-15, False)</td>\n",
       "      <td>1</td>\n",
       "      <td>1</td>\n",
       "      <td>1</td>\n",
       "      <td>1</td>\n",
       "    </tr>\n",
       "    <tr>\n",
       "      <th>18</th>\n",
       "      <td>(San Holo @ redrocks1, Red Rocks Amphitheatre ...</td>\n",
       "      <td>1</td>\n",
       "      <td>1</td>\n",
       "      <td>1</td>\n",
       "      <td>1</td>\n",
       "    </tr>\n",
       "  </tbody>\n",
       "</table>\n",
       "</div>"
      ],
      "text/plain": [
       "                                             SetNames  ArtistSimilarity  \\\n",
       "0   (Ekali & Cold Blue - Night Owl Radio 187 2019-...                 1   \n",
       "1        (Ekali - Awakening Mix #7 2019-04-16, False)                 1   \n",
       "2       (Ekali @ Beyond Wonderland 2019-03-23, False)                 1   \n",
       "3           (Ekali @ EDC Las Vegas 2019-05-19, False)                 1   \n",
       "4   (Ekali @ SIAM Songkran Music Festival 2019-04-...                 1   \n",
       "5   (Flosstradamus & 4B @ Blackout Tour, Elektrici...                 1   \n",
       "6   (Flosstradamus & 4B @ Spring Awakening Music F...                 1   \n",
       "7   (Flosstradamus - Triple J Global Warning Mix V...                 1   \n",
       "8   (Flosstradamus - Triple J Mixup Global Warning...                 1   \n",
       "9     (JOYRYDE @ Beyond Wonderland 2019-03-23, False)                 1   \n",
       "10  (JOYRYDE @ Beyond Wonderland, United States Mo...                 1   \n",
       "11             (JOYRYDE @ EDC Japan 2019-05-11, True)                 1   \n",
       "12        (JOYRYDE @ EDC Las Vegas 2019-05-17, False)                 1   \n",
       "13  (JOYRYDE @ The Ritz Ybor Tampa 2018-12-30, False)                 1   \n",
       "14  (San Holo & Ian Munro - bitbird Radio 043 2019...                 1   \n",
       "15  (San Holo & Marcioz - bitbird Radio 045 2019-0...                 1   \n",
       "16   (San Holo - bitbird Radio 042 2019-06-17, False)                 1   \n",
       "17   (San Holo - bitbird Radio 044 2019-07-15, False)                 1   \n",
       "18  (San Holo @ redrocks1, Red Rocks Amphitheatre ...                 1   \n",
       "\n",
       "    SongSimilarity  TLPopularity  AFSimilarity  \n",
       "0                1             1             1  \n",
       "1                1             1             1  \n",
       "2                1             1             1  \n",
       "3                1             1             1  \n",
       "4                1             1             1  \n",
       "5                1             1             1  \n",
       "6                1             1             1  \n",
       "7                1             1             1  \n",
       "8                1             1             1  \n",
       "9                1             1             1  \n",
       "10               1             1             1  \n",
       "11               1             1             1  \n",
       "12               1             1             1  \n",
       "13               1             1             1  \n",
       "14               1             1             1  \n",
       "15               1             1             1  \n",
       "16               1             1             1  \n",
       "17               1             1             1  \n",
       "18               1             1             1  "
      ]
     },
     "execution_count": 28,
     "metadata": {},
     "output_type": "execute_result"
    }
   ],
   "source": [
    "#Creating a new Dataframe to score each set\n",
    "set_order = Master_DF.groupby(\"TL_Name\")[\"New_Col_Artist_Flag\"].value_counts()\n",
    "set_order = set_order.groupby(level = 0).apply(lambda x: x.iloc[0:1])\n",
    "set_order.index = set_order.index.droplevel(0)\n",
    "set_order = list(set_order.index)\n",
    "\n",
    "#creating a list of 1s\n",
    "list_of_ones = list_of_ones = [1 for i in range(len(set_order))]\n",
    "\n",
    "SetNames = set_order\n",
    "ArtistSimilarity = {\"ArtistSimilarity\": list_of_ones}\n",
    "SongSimilarity = {\"SongSimilarity\": list_of_ones}\n",
    "TLPopularity = {\"TLPopularity\": list_of_ones}\n",
    "AFSimilarity = {\"AFSimilarity\": list_of_ones}\n",
    "scoring_d = {\"SetNames\": set_order, \"ArtistSimilarity\": list_of_ones, \"SongSimilarity\": list_of_ones, \"TLPopularity\": list_of_ones, \"AFSimilarity\": list_of_ones}\n",
    "\n",
    "scoring_DF = pd.DataFrame(data = scoring_d)\n",
    "scoring_DF"
   ]
  },
  {
   "cell_type": "markdown",
   "metadata": {},
   "source": [
    "# 3.1 Artist Similarity Score"
   ]
  },
  {
   "cell_type": "code",
   "execution_count": 29,
   "metadata": {
    "scrolled": true
   },
   "outputs": [
    {
     "name": "stdout",
     "output_type": "stream",
     "text": [
      "TL_Name\n",
      "Ekali & Cold Blue - Night Owl Radio 187 2019-03-22                     0.000000\n",
      "Ekali - Awakening Mix #7 2019-04-16                                    0.043478\n",
      "Ekali @ Beyond Wonderland 2019-03-23                                   0.322581\n",
      "Ekali @ EDC Las Vegas 2019-05-19                                       0.250000\n",
      "Ekali @ SIAM Songkran Music Festival 2019-04-14                        0.275862\n",
      "Flosstradamus & 4B @ Blackout Tour, Elektricity Michigan 2019-06-06    0.294118\n",
      "Flosstradamus & 4B @ Spring Awakening Music Festival 2019-06-08        0.333333\n",
      "Flosstradamus - Triple J Global Warning Mix Vol. 3 2019-06-28          0.235294\n",
      "Flosstradamus - Triple J Mixup Global Warning Mix Vol. 4 2019-07-05    0.220000\n",
      "JOYRYDE @ Beyond Wonderland 2019-03-23                                 0.346154\n",
      "JOYRYDE @ Beyond Wonderland, United States Monterrey 2019-04-06        0.500000\n",
      "JOYRYDE @ EDC Japan 2019-05-11                                         0.523810\n",
      "JOYRYDE @ EDC Las Vegas 2019-05-17                                     0.326923\n",
      "JOYRYDE @ The Ritz Ybor Tampa 2018-12-30                               0.196078\n",
      "San Holo & Ian Munro - bitbird Radio 043 2019-07-01                    0.160000\n",
      "San Holo & Marcioz - bitbird Radio 045 2019-07-29                      0.043478\n",
      "San Holo - bitbird Radio 042 2019-06-17                                0.105263\n",
      "San Holo - bitbird Radio 044 2019-07-15                                0.055556\n",
      "San Holo @ redrocks1, Red Rocks Amphitheatre 2019-06-13                1.000000\n",
      "Name: New_Col_Artist_Flag, dtype: float64\n"
     ]
    }
   ],
   "source": [
    "#Creating an Artist Similarity Score\n",
    "Master_DF.groupby(\"TL_Name\")[\"New_Col_Artist_Flag\"].value_counts()\n",
    "AS = Master_DF.groupby(\"TL_Name\")[\"New_Col_Artist_Flag\"].sum()/Master_DF.groupby(\"TL_Name\")[\"New_Col_Artist_Flag\"].count()\n",
    "print(AS)\n",
    "AS = list(AS)"
   ]
  },
  {
   "cell_type": "markdown",
   "metadata": {},
   "source": [
    "# 3.2 Song Similarity Score"
   ]
  },
  {
   "cell_type": "code",
   "execution_count": 30,
   "metadata": {},
   "outputs": [
    {
     "name": "stdout",
     "output_type": "stream",
     "text": [
      "TL_Name\n",
      "Ekali & Cold Blue - Night Owl Radio 187 2019-03-22                     0.000000\n",
      "Ekali - Awakening Mix #7 2019-04-16                                    0.000000\n",
      "Ekali @ Beyond Wonderland 2019-03-23                                   0.161290\n",
      "Ekali @ EDC Las Vegas 2019-05-19                                       0.062500\n",
      "Ekali @ SIAM Songkran Music Festival 2019-04-14                        0.086207\n",
      "Flosstradamus & 4B @ Blackout Tour, Elektricity Michigan 2019-06-06    0.000000\n",
      "Flosstradamus & 4B @ Spring Awakening Music Festival 2019-06-08        0.011111\n",
      "Flosstradamus - Triple J Global Warning Mix Vol. 3 2019-06-28          0.000000\n",
      "Flosstradamus - Triple J Mixup Global Warning Mix Vol. 4 2019-07-05    0.020000\n",
      "JOYRYDE @ Beyond Wonderland 2019-03-23                                 0.000000\n",
      "JOYRYDE @ Beyond Wonderland, United States Monterrey 2019-04-06        0.000000\n",
      "JOYRYDE @ EDC Japan 2019-05-11                                         0.000000\n",
      "JOYRYDE @ EDC Las Vegas 2019-05-17                                     0.000000\n",
      "JOYRYDE @ The Ritz Ybor Tampa 2018-12-30                               0.000000\n",
      "San Holo & Ian Munro - bitbird Radio 043 2019-07-01                    0.000000\n",
      "San Holo & Marcioz - bitbird Radio 045 2019-07-29                      0.000000\n",
      "San Holo - bitbird Radio 042 2019-06-17                                0.052632\n",
      "San Holo - bitbird Radio 044 2019-07-15                                0.000000\n",
      "San Holo @ redrocks1, Red Rocks Amphitheatre 2019-06-13                0.000000\n",
      "Name: New_Col_Song_Flag, dtype: float64\n"
     ]
    }
   ],
   "source": [
    "#Creating a Song Similarity Score\n",
    "Master_DF.groupby(\"TL_Name\")[\"New_Col_Song_Flag\"].value_counts()\n",
    "SS = Master_DF.groupby(\"TL_Name\")[\"New_Col_Song_Flag\"].sum()/Master_DF.groupby(\"TL_Name\")[\"New_Col_Song_Flag\"].count()\n",
    "print(SS)\n",
    "SS = list(SS)"
   ]
  },
  {
   "cell_type": "markdown",
   "metadata": {},
   "source": [
    "# 3.3 Set/Mix Popularity Score"
   ]
  },
  {
   "cell_type": "code",
   "execution_count": 31,
   "metadata": {},
   "outputs": [
    {
     "name": "stdout",
     "output_type": "stream",
     "text": [
      "TL_Name\n",
      "Ekali & Cold Blue - Night Owl Radio 187 2019-03-22                     0.001565\n",
      "Ekali - Awakening Mix #7 2019-04-16                                    0.000817\n",
      "Ekali @ Beyond Wonderland 2019-03-23                                   0.000000\n",
      "Ekali @ EDC Las Vegas 2019-05-19                                       0.000962\n",
      "Ekali @ SIAM Songkran Music Festival 2019-04-14                        0.000438\n",
      "Flosstradamus & 4B @ Blackout Tour, Elektricity Michigan 2019-06-06    0.000000\n",
      "Flosstradamus & 4B @ Spring Awakening Music Festival 2019-06-08        0.001538\n",
      "Flosstradamus - Triple J Global Warning Mix Vol. 3 2019-06-28          0.001267\n",
      "Flosstradamus - Triple J Mixup Global Warning Mix Vol. 4 2019-07-05    0.001508\n",
      "JOYRYDE @ Beyond Wonderland 2019-03-23                                 0.000000\n",
      "JOYRYDE @ Beyond Wonderland, United States Monterrey 2019-04-06        0.000000\n",
      "JOYRYDE @ EDC Japan 2019-05-11                                         0.001332\n",
      "JOYRYDE @ EDC Las Vegas 2019-05-17                                     0.000419\n",
      "JOYRYDE @ The Ritz Ybor Tampa 2018-12-30                               0.000000\n",
      "San Holo & Ian Munro - bitbird Radio 043 2019-07-01                    0.001025\n",
      "San Holo & Marcioz - bitbird Radio 045 2019-07-29                      0.000000\n",
      "San Holo - bitbird Radio 042 2019-06-17                                0.001901\n",
      "San Holo - bitbird Radio 044 2019-07-15                                0.002833\n",
      "San Holo @ redrocks1, Red Rocks Amphitheatre 2019-06-13                0.002449\n",
      "dtype: float64\n"
     ]
    }
   ],
   "source": [
    "Likes = Master_DF.groupby(\"TL_Name\")[\"TL_Likes\"].unique().astype(float)\n",
    "Views = Master_DF.groupby(\"TL_Name\")[\"TL_Views\"].unique().astype(float)\n",
    "PS = Likes / Views\n",
    "print(PS)\n",
    "PS = list(PS)"
   ]
  },
  {
   "cell_type": "markdown",
   "metadata": {},
   "source": [
    "# 3.4 Audio Feature Similarity Score"
   ]
  },
  {
   "cell_type": "code",
   "execution_count": 32,
   "metadata": {},
   "outputs": [
    {
     "name": "stdout",
     "output_type": "stream",
     "text": [
      "       acousticness  danceability     energy  instrumentalness        key  \\\n",
      "count     47.000000     47.000000  47.000000         47.000000  47.000000   \n",
      "mean       0.161437      0.628787   0.666894          0.253670   6.404255   \n",
      "std        0.214941      0.106264   0.177500          0.349127   3.609526   \n",
      "min        0.001140      0.411000   0.272000          0.000000   0.000000   \n",
      "25%        0.019700      0.566000   0.562000          0.000002   4.000000   \n",
      "50%        0.062400      0.624000   0.696000          0.002340   7.000000   \n",
      "75%        0.221000      0.703000   0.763500          0.522500   9.000000   \n",
      "max        0.881000      0.876000   0.994000          0.943000  11.000000   \n",
      "\n",
      "        loudness       mode       tempo  time_signature    valence  \n",
      "count  47.000000  47.000000   47.000000       47.000000  47.000000  \n",
      "mean   -6.765894   0.446809  122.198021        3.978723   0.314823  \n",
      "std     2.505313   0.502538   28.486329        0.145865   0.212389  \n",
      "min   -12.928000   0.000000   70.142000        3.000000   0.033800  \n",
      "25%    -7.767500   0.000000   95.743000        4.000000   0.139500  \n",
      "50%    -6.007000   0.000000  117.213000        4.000000   0.315000  \n",
      "75%    -5.311500   1.000000  146.972000        4.000000   0.445000  \n",
      "max    -3.079000   1.000000  173.804000        4.000000   0.794000  \n"
     ]
    }
   ],
   "source": [
    "#My Personal Spotify Data\n",
    "print(songFeatures_DF.describe())"
   ]
  },
  {
   "cell_type": "code",
   "execution_count": 33,
   "metadata": {},
   "outputs": [],
   "source": [
    "#Looking at just Danceability and Valence\n",
    "MyCurrentDanceability = songFeatures_DF[\"danceability\"].mean()\n",
    "MyCurrentMood = songFeatures_DF[\"valence\"].mean()\n",
    "\n",
    "#Grabbing average danceability and valence from spotify x 1001tracklist data\n",
    "avg_set_danceability = list(Good_Quality_Sets.groupby(\"TL_Name\")[\"TL_Avg_Spotify_Danceability\"].unique())\n",
    "avg_set_mood = list(Good_Quality_Sets.groupby(\"TL_Name\")[\"TL_Avg_Spotify_Valence\"].unique())"
   ]
  },
  {
   "cell_type": "code",
   "execution_count": 34,
   "metadata": {},
   "outputs": [],
   "source": [
    "#Initializing diff in means array\n",
    "diff_means_danceability = []\n",
    "diff_means_mood = []\n",
    "\n",
    "#Calculating abs difference from mean from each quality set\n",
    "for set in avg_set_danceability:\n",
    "    diff_means_danceability.append(abs(MyCurrentDanceability - float(set)))\n",
    "#repeat for mood    \n",
    "for set in avg_set_mood:\n",
    "    diff_means_mood.append(abs(MyCurrentMood - float(set)))"
   ]
  },
  {
   "cell_type": "code",
   "execution_count": 35,
   "metadata": {},
   "outputs": [
    {
     "name": "stdout",
     "output_type": "stream",
     "text": [
      "[0.06426539753639404, 0.03295390070922011, 0.07592056737588682, 0.04709675785207712, 0.0431443768996963, 0.00461276595744653, 0.04178723404255302, 0.009739081746920175, 0.037323877068557554, 0.09003629536921132, 0.05937943262411327, 0.03494609929077985, 0.04918050789293038, 0.09039225313693366, 0.13092056737588675, 0.09062056737588675, 0.032018003273322715, 0.040787234042553466, 0.08302723404255352]\n",
      "[0.14745554311310205, 0.07120159574468082, 0.04075007092198579, 0.021450405268490513, 0.04988731003039515, 0.04230326241134752, 0.07904255319148945, 0.06455027995520712, 0.11793770685579191, 0.0961765957446809, 0.027343262411347602, 0.026176595744680953, 0.06274111187371312, 0.06410992907801422, 0.16311007092198568, 0.07834326241134765, 0.07917659574468094, 0.049673404255319076, 0.008195404255319061]\n"
     ]
    }
   ],
   "source": [
    "#Printing my dif in means between each set and my avg danceability and mood \n",
    "print(diff_means_danceability)\n",
    "print(diff_means_mood)"
   ]
  },
  {
   "cell_type": "code",
   "execution_count": 36,
   "metadata": {},
   "outputs": [
    {
     "name": "stdout",
     "output_type": "stream",
     "text": [
      "[0.10586047032474805, 0.052077748226950465, 0.058335319148936304, 0.03427358156028382, 0.046515843465045725, 0.023458014184397025, 0.06041489361702124, 0.03714468085106365, 0.07763079196217473, 0.09310644555694611, 0.043361347517730436, 0.030561347517730403, 0.05596080988332175, 0.07725109110747394, 0.14701531914893623, 0.0844819148936172, 0.05559729950900183, 0.04523031914893627, 0.04561131914893629]\n"
     ]
    }
   ],
   "source": [
    "AF_weight = []\n",
    "for i in range(len(set_order)):\n",
    "    AF_weight.append((diff_means_danceability[i] + diff_means_mood[i]) / 2)\n",
    "print(AF_weight)"
   ]
  },
  {
   "cell_type": "markdown",
   "metadata": {},
   "source": [
    "# 3.5 Final Recommendation"
   ]
  },
  {
   "cell_type": "code",
   "execution_count": 37,
   "metadata": {},
   "outputs": [],
   "source": [
    "final_rec = scoring_DF\n",
    "final_rec[\"ArtistSimilarity\"] = final_rec[\"ArtistSimilarity\"] * AS\n",
    "final_rec[\"SongSimilarity\"] = final_rec[\"SongSimilarity\"] * SS\n",
    "final_rec[\"TLPopularity\"] = final_rec[\"TLPopularity\"] * PS\n",
    "final_rec[\"AFSimilarity\"] = final_rec[\"AFSimilarity\"] * AF_weight"
   ]
  },
  {
   "cell_type": "code",
   "execution_count": 38,
   "metadata": {},
   "outputs": [],
   "source": [
    "final_rec[\"Overall_Score\"] = final_rec[\"ArtistSimilarity\"] + final_rec[\"SongSimilarity\"] + final_rec[\"TLPopularity\"] + final_rec[\"ArtistSimilarity\"]"
   ]
  },
  {
   "cell_type": "code",
   "execution_count": 39,
   "metadata": {},
   "outputs": [
    {
     "data": {
      "text/html": [
       "<div>\n",
       "<style scoped>\n",
       "    .dataframe tbody tr th:only-of-type {\n",
       "        vertical-align: middle;\n",
       "    }\n",
       "\n",
       "    .dataframe tbody tr th {\n",
       "        vertical-align: top;\n",
       "    }\n",
       "\n",
       "    .dataframe thead th {\n",
       "        text-align: right;\n",
       "    }\n",
       "</style>\n",
       "<table border=\"1\" class=\"dataframe\">\n",
       "  <thead>\n",
       "    <tr style=\"text-align: right;\">\n",
       "      <th></th>\n",
       "      <th>SetNames</th>\n",
       "      <th>ArtistSimilarity</th>\n",
       "      <th>SongSimilarity</th>\n",
       "      <th>TLPopularity</th>\n",
       "      <th>AFSimilarity</th>\n",
       "      <th>Overall_Score</th>\n",
       "    </tr>\n",
       "  </thead>\n",
       "  <tbody>\n",
       "    <tr>\n",
       "      <th>0</th>\n",
       "      <td>(Ekali &amp; Cold Blue - Night Owl Radio 187 2019-...</td>\n",
       "      <td>0.000000</td>\n",
       "      <td>0.000000</td>\n",
       "      <td>0.001565</td>\n",
       "      <td>0.105860</td>\n",
       "      <td>0.001565</td>\n",
       "    </tr>\n",
       "    <tr>\n",
       "      <th>1</th>\n",
       "      <td>(Ekali - Awakening Mix #7 2019-04-16, False)</td>\n",
       "      <td>0.043478</td>\n",
       "      <td>0.000000</td>\n",
       "      <td>0.000817</td>\n",
       "      <td>0.052078</td>\n",
       "      <td>0.087774</td>\n",
       "    </tr>\n",
       "    <tr>\n",
       "      <th>2</th>\n",
       "      <td>(Ekali @ Beyond Wonderland 2019-03-23, False)</td>\n",
       "      <td>0.322581</td>\n",
       "      <td>0.161290</td>\n",
       "      <td>0.000000</td>\n",
       "      <td>0.058335</td>\n",
       "      <td>0.806452</td>\n",
       "    </tr>\n",
       "    <tr>\n",
       "      <th>3</th>\n",
       "      <td>(Ekali @ EDC Las Vegas 2019-05-19, False)</td>\n",
       "      <td>0.250000</td>\n",
       "      <td>0.062500</td>\n",
       "      <td>0.000962</td>\n",
       "      <td>0.034274</td>\n",
       "      <td>0.563462</td>\n",
       "    </tr>\n",
       "    <tr>\n",
       "      <th>4</th>\n",
       "      <td>(Ekali @ SIAM Songkran Music Festival 2019-04-...</td>\n",
       "      <td>0.275862</td>\n",
       "      <td>0.086207</td>\n",
       "      <td>0.000438</td>\n",
       "      <td>0.046516</td>\n",
       "      <td>0.638369</td>\n",
       "    </tr>\n",
       "    <tr>\n",
       "      <th>5</th>\n",
       "      <td>(Flosstradamus &amp; 4B @ Blackout Tour, Elektrici...</td>\n",
       "      <td>0.294118</td>\n",
       "      <td>0.000000</td>\n",
       "      <td>0.000000</td>\n",
       "      <td>0.023458</td>\n",
       "      <td>0.588235</td>\n",
       "    </tr>\n",
       "    <tr>\n",
       "      <th>6</th>\n",
       "      <td>(Flosstradamus &amp; 4B @ Spring Awakening Music F...</td>\n",
       "      <td>0.333333</td>\n",
       "      <td>0.011111</td>\n",
       "      <td>0.001538</td>\n",
       "      <td>0.060415</td>\n",
       "      <td>0.679316</td>\n",
       "    </tr>\n",
       "    <tr>\n",
       "      <th>7</th>\n",
       "      <td>(Flosstradamus - Triple J Global Warning Mix V...</td>\n",
       "      <td>0.235294</td>\n",
       "      <td>0.000000</td>\n",
       "      <td>0.001267</td>\n",
       "      <td>0.037145</td>\n",
       "      <td>0.471856</td>\n",
       "    </tr>\n",
       "    <tr>\n",
       "      <th>8</th>\n",
       "      <td>(Flosstradamus - Triple J Mixup Global Warning...</td>\n",
       "      <td>0.220000</td>\n",
       "      <td>0.020000</td>\n",
       "      <td>0.001508</td>\n",
       "      <td>0.077631</td>\n",
       "      <td>0.461508</td>\n",
       "    </tr>\n",
       "    <tr>\n",
       "      <th>9</th>\n",
       "      <td>(JOYRYDE @ Beyond Wonderland 2019-03-23, False)</td>\n",
       "      <td>0.346154</td>\n",
       "      <td>0.000000</td>\n",
       "      <td>0.000000</td>\n",
       "      <td>0.093106</td>\n",
       "      <td>0.692308</td>\n",
       "    </tr>\n",
       "    <tr>\n",
       "      <th>10</th>\n",
       "      <td>(JOYRYDE @ Beyond Wonderland, United States Mo...</td>\n",
       "      <td>0.500000</td>\n",
       "      <td>0.000000</td>\n",
       "      <td>0.000000</td>\n",
       "      <td>0.043361</td>\n",
       "      <td>1.000000</td>\n",
       "    </tr>\n",
       "    <tr>\n",
       "      <th>11</th>\n",
       "      <td>(JOYRYDE @ EDC Japan 2019-05-11, True)</td>\n",
       "      <td>0.523810</td>\n",
       "      <td>0.000000</td>\n",
       "      <td>0.001332</td>\n",
       "      <td>0.030561</td>\n",
       "      <td>1.048951</td>\n",
       "    </tr>\n",
       "    <tr>\n",
       "      <th>12</th>\n",
       "      <td>(JOYRYDE @ EDC Las Vegas 2019-05-17, False)</td>\n",
       "      <td>0.326923</td>\n",
       "      <td>0.000000</td>\n",
       "      <td>0.000419</td>\n",
       "      <td>0.055961</td>\n",
       "      <td>0.654265</td>\n",
       "    </tr>\n",
       "    <tr>\n",
       "      <th>13</th>\n",
       "      <td>(JOYRYDE @ The Ritz Ybor Tampa 2018-12-30, False)</td>\n",
       "      <td>0.196078</td>\n",
       "      <td>0.000000</td>\n",
       "      <td>0.000000</td>\n",
       "      <td>0.077251</td>\n",
       "      <td>0.392157</td>\n",
       "    </tr>\n",
       "    <tr>\n",
       "      <th>14</th>\n",
       "      <td>(San Holo &amp; Ian Munro - bitbird Radio 043 2019...</td>\n",
       "      <td>0.160000</td>\n",
       "      <td>0.000000</td>\n",
       "      <td>0.001025</td>\n",
       "      <td>0.147015</td>\n",
       "      <td>0.321025</td>\n",
       "    </tr>\n",
       "    <tr>\n",
       "      <th>15</th>\n",
       "      <td>(San Holo &amp; Marcioz - bitbird Radio 045 2019-0...</td>\n",
       "      <td>0.043478</td>\n",
       "      <td>0.000000</td>\n",
       "      <td>0.000000</td>\n",
       "      <td>0.084482</td>\n",
       "      <td>0.086957</td>\n",
       "    </tr>\n",
       "    <tr>\n",
       "      <th>16</th>\n",
       "      <td>(San Holo - bitbird Radio 042 2019-06-17, False)</td>\n",
       "      <td>0.105263</td>\n",
       "      <td>0.052632</td>\n",
       "      <td>0.001901</td>\n",
       "      <td>0.055597</td>\n",
       "      <td>0.265059</td>\n",
       "    </tr>\n",
       "    <tr>\n",
       "      <th>17</th>\n",
       "      <td>(San Holo - bitbird Radio 044 2019-07-15, False)</td>\n",
       "      <td>0.055556</td>\n",
       "      <td>0.000000</td>\n",
       "      <td>0.002833</td>\n",
       "      <td>0.045230</td>\n",
       "      <td>0.113944</td>\n",
       "    </tr>\n",
       "    <tr>\n",
       "      <th>18</th>\n",
       "      <td>(San Holo @ redrocks1, Red Rocks Amphitheatre ...</td>\n",
       "      <td>1.000000</td>\n",
       "      <td>0.000000</td>\n",
       "      <td>0.002449</td>\n",
       "      <td>0.045611</td>\n",
       "      <td>2.002449</td>\n",
       "    </tr>\n",
       "  </tbody>\n",
       "</table>\n",
       "</div>"
      ],
      "text/plain": [
       "                                             SetNames  ArtistSimilarity  \\\n",
       "0   (Ekali & Cold Blue - Night Owl Radio 187 2019-...          0.000000   \n",
       "1        (Ekali - Awakening Mix #7 2019-04-16, False)          0.043478   \n",
       "2       (Ekali @ Beyond Wonderland 2019-03-23, False)          0.322581   \n",
       "3           (Ekali @ EDC Las Vegas 2019-05-19, False)          0.250000   \n",
       "4   (Ekali @ SIAM Songkran Music Festival 2019-04-...          0.275862   \n",
       "5   (Flosstradamus & 4B @ Blackout Tour, Elektrici...          0.294118   \n",
       "6   (Flosstradamus & 4B @ Spring Awakening Music F...          0.333333   \n",
       "7   (Flosstradamus - Triple J Global Warning Mix V...          0.235294   \n",
       "8   (Flosstradamus - Triple J Mixup Global Warning...          0.220000   \n",
       "9     (JOYRYDE @ Beyond Wonderland 2019-03-23, False)          0.346154   \n",
       "10  (JOYRYDE @ Beyond Wonderland, United States Mo...          0.500000   \n",
       "11             (JOYRYDE @ EDC Japan 2019-05-11, True)          0.523810   \n",
       "12        (JOYRYDE @ EDC Las Vegas 2019-05-17, False)          0.326923   \n",
       "13  (JOYRYDE @ The Ritz Ybor Tampa 2018-12-30, False)          0.196078   \n",
       "14  (San Holo & Ian Munro - bitbird Radio 043 2019...          0.160000   \n",
       "15  (San Holo & Marcioz - bitbird Radio 045 2019-0...          0.043478   \n",
       "16   (San Holo - bitbird Radio 042 2019-06-17, False)          0.105263   \n",
       "17   (San Holo - bitbird Radio 044 2019-07-15, False)          0.055556   \n",
       "18  (San Holo @ redrocks1, Red Rocks Amphitheatre ...          1.000000   \n",
       "\n",
       "    SongSimilarity  TLPopularity  AFSimilarity  Overall_Score  \n",
       "0         0.000000      0.001565      0.105860       0.001565  \n",
       "1         0.000000      0.000817      0.052078       0.087774  \n",
       "2         0.161290      0.000000      0.058335       0.806452  \n",
       "3         0.062500      0.000962      0.034274       0.563462  \n",
       "4         0.086207      0.000438      0.046516       0.638369  \n",
       "5         0.000000      0.000000      0.023458       0.588235  \n",
       "6         0.011111      0.001538      0.060415       0.679316  \n",
       "7         0.000000      0.001267      0.037145       0.471856  \n",
       "8         0.020000      0.001508      0.077631       0.461508  \n",
       "9         0.000000      0.000000      0.093106       0.692308  \n",
       "10        0.000000      0.000000      0.043361       1.000000  \n",
       "11        0.000000      0.001332      0.030561       1.048951  \n",
       "12        0.000000      0.000419      0.055961       0.654265  \n",
       "13        0.000000      0.000000      0.077251       0.392157  \n",
       "14        0.000000      0.001025      0.147015       0.321025  \n",
       "15        0.000000      0.000000      0.084482       0.086957  \n",
       "16        0.052632      0.001901      0.055597       0.265059  \n",
       "17        0.000000      0.002833      0.045230       0.113944  \n",
       "18        0.000000      0.002449      0.045611       2.002449  "
      ]
     },
     "execution_count": 39,
     "metadata": {},
     "output_type": "execute_result"
    }
   ],
   "source": [
    "final_rec"
   ]
  },
  {
   "cell_type": "code",
   "execution_count": 40,
   "metadata": {},
   "outputs": [
    {
     "data": {
      "text/plain": [
       "SetNames            (San Holo @ redrocks1, Red Rocks Amphitheatre ...\n",
       "ArtistSimilarity                                                    1\n",
       "SongSimilarity                                                      0\n",
       "TLPopularity                                               0.00244898\n",
       "AFSimilarity                                                0.0456113\n",
       "Overall_Score                                                 2.00245\n",
       "Name: 18, dtype: object"
      ]
     },
     "execution_count": 40,
     "metadata": {},
     "output_type": "execute_result"
    }
   ],
   "source": [
    "final_rec.iloc[final_rec[\"Overall_Score\"].idxmax()]"
   ]
  },
  {
   "cell_type": "markdown",
   "metadata": {},
   "source": [
    "# 4. Conclusion"
   ]
  },
  {
   "cell_type": "markdown",
   "metadata": {},
   "source": [
    "# 4.1 Results and Next Steps"
   ]
  },
  {
   "cell_type": "markdown",
   "metadata": {},
   "source": [
    "## Results"
   ]
  },
  {
   "cell_type": "markdown",
   "metadata": {},
   "source": [
    "The recommendation system returned all sets with varying scores based off my current listening habits (taken from my personal Spotify data), with the highest-scoring set being returned as the recommended set to listen to. In this case, a set by San Holo at Red Rocks seems to be the most aligned with my current listening habits on Spotify.\n",
    "\n",
    "Ideally, I would have wanted to come up with an evaluation system for for users to test out my recommendation system. The evaluation metrics could then be used to fine-tune my scoring algorithm or be used as inputs for a social collaborative filtering method. \n",
    "\n",
    "For the scope of this project, I was unable to collect enough data due to the amount of time and effort it would have required to understand the nuances of the website in which the data was stored. With more time, I hope to implement additional features to my web scraper to more efficiently and more accurately collect data on each set/mix."
   ]
  },
  {
   "cell_type": "markdown",
   "metadata": {},
   "source": [
    "## Next Steps"
   ]
  },
  {
   "cell_type": "markdown",
   "metadata": {},
   "source": [
    "With more time, I hope to implement the following:\n",
    "* **Web Scraper Optimization - Broken Spotify Links**: The spotify objects on each page were not always 100% complete. As 1001tracklists.com is a website updated manually by users, it could have been the case that some individual songs had no Spotify links at all despite the same song having a working Spotify link on a different webpage. With more time, I hope to locally cache working Spotify links with their corresponding song and artist name as a key - value pair that I could then use to fill some of the gaps on some of the webpages\n",
    "* **Web Scraper Optimization - Unstandardized HTML**: Another pitfall that I didn't initially account for that proved to be too time-consuming to overcome was the lack of uniformity amongst each webpage. As you can see in the screenshot below, the Spotify objects are located in a class called \"mediaDiv center\" with the id \"tlp_4141142_player\". Sometimes, these classes were labelled differently on different webpages. Even more challenging was trying to use Selenium to automate the clicking of these objects. Spotify trackid is only available upon \"clicking\" the Spotify object which then loads an iframe. Sometimes, these iframes wouldn't even load at all despite the Spotify Object showing up as green. More time would have been needed to improve my automated webscraper to overcome these challeneges and I hope to revisit this outside of the Capstone 2 Project to create a more robust dataset to feed into my recommendation system.\n",
    "* **Web Scraper Optimization - Cache Artist Data**: Most challenging of all was trying to build my automated web scraper in a way so that I wouldn't get banned each time I ran my scripts. Trying to find the optimal wait time between each click proved to be frustrating yet with more time I could implement wait conditions that other people have documented on various resources online to avoid being banned and collect a good amount of data"
   ]
  },
  {
   "cell_type": "markdown",
   "metadata": {},
   "source": [
    "![title](pitfalls.png)"
   ]
  },
  {
   "cell_type": "markdown",
   "metadata": {},
   "source": [
    "Because of the aforementioned challenges, the data I collected varied in accuracy and I was not able to collect enough data as I would have liked to properly output a good list of recommendations for users to evaluate. Below is an example of how certain sets lacked all data, making it impossible to include some of the more critical inputs to my recommendation system."
   ]
  },
  {
   "cell_type": "markdown",
   "metadata": {},
   "source": [
    "![title](ExcelSS.png)"
   ]
  },
  {
   "cell_type": "markdown",
   "metadata": {},
   "source": [
    "Lastly, as mentioned before, I hope to create an evaluation system so users who do use my recommendation system can score each set that they are recommended.\n",
    "\n",
    "My hope is to output 5 sets/mixes to users who would then rank each set from 1-5. After collecting these user's scores, I would like to use that data to fine-tune my scoring method in the recommendation algorithm."
   ]
  }
 ],
 "metadata": {
  "kernelspec": {
   "display_name": "Python 3",
   "language": "python",
   "name": "python3"
  },
  "language_info": {
   "codemirror_mode": {
    "name": "ipython",
    "version": 3
   },
   "file_extension": ".py",
   "mimetype": "text/x-python",
   "name": "python",
   "nbconvert_exporter": "python",
   "pygments_lexer": "ipython3",
   "version": "3.7.3"
  }
 },
 "nbformat": 4,
 "nbformat_minor": 2
}
